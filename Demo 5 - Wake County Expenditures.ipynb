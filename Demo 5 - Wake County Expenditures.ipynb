{
 "cells": [
  {
   "cell_type": "markdown",
   "metadata": {},
   "source": [
    "# Demo 5 - Wake County Expenditures"
   ]
  },
  {
   "cell_type": "markdown",
   "metadata": {},
   "source": [
    "In this demo, we will look at Wake County expenditures, pulling data from SQL Server and performing some basic analysis.  Our goal here is to look for outliers in the transactions data set.\n",
    "\n",
    "We will first load RODBC, which allows us to make connections to databases like SQL Server."
   ]
  },
  {
   "cell_type": "code",
   "execution_count": null,
   "metadata": {
    "collapsed": false
   },
   "outputs": [],
   "source": [
    "install.packages(\"RODBC\", repos = \"http://cran.us.r-project.org\")\n",
    "install.packages(\"tidyverse\", repos = \"http://cran.us.r-project.org\")"
   ]
  },
  {
   "cell_type": "code",
   "execution_count": null,
   "metadata": {
    "collapsed": false
   },
   "outputs": [],
   "source": [
    "library(RODBC)\n",
    "library(tidyverse)"
   ]
  },
  {
   "cell_type": "markdown",
   "metadata": {},
   "source": [
    "We will connect to SQL Server using Windows authentication.  We could use a pre-defined ODBC connection as well if we want."
   ]
  },
  {
   "cell_type": "code",
   "execution_count": null,
   "metadata": {
    "collapsed": true
   },
   "outputs": [],
   "source": [
    "conn <- odbcDriverConnect(\"driver={SQL Server};server=LOCALHOST;database=OutlierDetection;trusted_connection=true\")"
   ]
  },
  {
   "cell_type": "markdown",
   "metadata": {},
   "source": [
    "The following query gets the expenditure line item anme as well as actual amount from each transaction in the Wake County data set, filtering where the actual amount is greater than \\$0.  Getting data at the expenditure line item name level is good enough for what we need to do, though you can try out other groupings on your own."
   ]
  },
  {
   "cell_type": "code",
   "execution_count": null,
   "metadata": {
    "collapsed": false
   },
   "outputs": [],
   "source": [
    "waketx <- sqlQuery(conn, \"\n",
    "SELECT\n",
    "  ROUND(t.ActualAmount, 0) AS ActualAmount,\n",
    "  eli.ExpenditureLineItemName\n",
    "FROM Wake.WakeTransaction t\n",
    "  INNER JOIN Wake.ExpenditureLineItem eli\n",
    "    ON t.ExpenditureLineItemCode = eli.ExpenditureLineItemCode\n",
    "WHERE\n",
    "  ROUND(t.ActualAmount, 0) > 0\n",
    "ORDER BY\n",
    "  t.ActualAmount;\"\n",
    ")"
   ]
  },
  {
   "cell_type": "markdown",
   "metadata": {},
   "source": [
    "First, let's look at the number of transactions by amount, looking for unexpected peaks.  Going back to the Wake County school board transporation fraud case, this kind of query might have exposed the fraud pretty quickly."
   ]
  },
  {
   "cell_type": "code",
   "execution_count": null,
   "metadata": {
    "collapsed": false
   },
   "outputs": [],
   "source": [
    "waketx.byAmount <- waketx  %>%\n",
    "                      group_by(LogActualAmount = log(ActualAmount, 10)) %>%\n",
    "                      summarize(n = n())\n",
    "plot(waketx.byAmount)\n",
    "lines(waketx.byAmount)"
   ]
  },
  {
   "cell_type": "markdown",
   "metadata": {},
   "source": [
    "We can see several peaks, including one big one at a pretty low value (under \\$10) and another more than \\$10 but less than \\$100."
   ]
  },
  {
   "cell_type": "code",
   "execution_count": null,
   "metadata": {
    "collapsed": false
   },
   "outputs": [],
   "source": [
    "waketx.byAmount %>%\n",
    "  mutate(ActualAmount = 10^LogActualAmount) %>%\n",
    "  arrange(desc(n))"
   ]
  },
  {
   "cell_type": "markdown",
   "metadata": {},
   "source": [
    "Charting out the results, we see the spikes at \\$2 and \\$35, followed by \\$165 and \\$8.  What is so significant about \\$35?"
   ]
  },
  {
   "cell_type": "code",
   "execution_count": null,
   "metadata": {
    "collapsed": false
   },
   "outputs": [],
   "source": [
    "waketx %>%\n",
    "  filter(ActualAmount == 35) %>%\n",
    "  group_by(ExpenditureLineItemName) %>%\n",
    "  summarize(n = n()) %>%\n",
    "  arrange(desc(n)) %>%\n",
    "  head(5)"
   ]
  },
  {
   "cell_type": "markdown",
   "metadata": {},
   "source": [
    "Inmate pay is the vast majority of \\$35 outlays.  Is this the maximum amount an inmate might get paid?"
   ]
  },
  {
   "cell_type": "code",
   "execution_count": null,
   "metadata": {
    "collapsed": false
   },
   "outputs": [],
   "source": [
    "inmate.pay <- waketx %>%\n",
    "                filter(ExpenditureLineItemName == \"INMATE PAY-SHERIFF DEPT ONLY\") %>%\n",
    "                group_by(ActualAmount) %>%\n",
    "                summarize(n = n()) %>%\n",
    "                arrange(desc(n))\n",
    "inmate.pay %>% head(8)"
   ]
  },
  {
   "cell_type": "code",
   "execution_count": null,
   "metadata": {
    "collapsed": false
   },
   "outputs": [],
   "source": [
    "plot(inmate.pay)"
   ]
  },
  {
   "cell_type": "markdown",
   "metadata": {},
   "source": [
    "It clearly is not, although there is a big spike at that amount.  \n",
    "\n",
    "Moving on, what about those \\$2 expenditures?  Those seem kind of weird."
   ]
  },
  {
   "cell_type": "code",
   "execution_count": null,
   "metadata": {
    "collapsed": false
   },
   "outputs": [],
   "source": [
    "waketx %>%\n",
    "  filter(ActualAmount == 2) %>%\n",
    "  group_by(ExpenditureLineItemName) %>%\n",
    "  summarize(n = n()) %>%\n",
    "  arrange(desc(n)) %>%\n",
    "  head(8)"
   ]
  },
  {
   "cell_type": "markdown",
   "metadata": {},
   "source": [
    "DISABILITY is the most common, followed by county-paid life insurance.  Let's look at the distribution of DISABILITY transaction fees."
   ]
  },
  {
   "cell_type": "code",
   "execution_count": null,
   "metadata": {
    "collapsed": false
   },
   "outputs": [],
   "source": [
    "disability <- waketx %>%\n",
    "  filter(ExpenditureLineItemName == \"DISABILITY\") %>%\n",
    "  group_by(ActualAmount) %>%\n",
    "  summarize(n = n()) %>%\n",
    "  arrange(desc(n)) \n",
    "disability %>% head(8)"
   ]
  },
  {
   "cell_type": "markdown",
   "metadata": {},
   "source": [
    "The most common amounts tend to be somewhere between \\$2 and \\$10.  These seem like petty cash expenditures.  But let's see if there are big-ticket items under this same category."
   ]
  },
  {
   "cell_type": "code",
   "execution_count": null,
   "metadata": {
    "collapsed": false
   },
   "outputs": [],
   "source": [
    "plot(x = log(disability$ActualAmount, 10), y = disability$n)"
   ]
  },
  {
   "cell_type": "markdown",
   "metadata": {},
   "source": [
    "This is a base-10 log, so 2.0 = \\$100 and 3.0 = \\$1000.  As we noted, the most common amounts are well under \\$10 (1.0), but there are some higher-priced payouts."
   ]
  },
  {
   "cell_type": "code",
   "execution_count": null,
   "metadata": {
    "collapsed": false
   },
   "outputs": [],
   "source": [
    "disability %>%\n",
    "  arrange(desc(ActualAmount)) %>%\n",
    "  head(15)"
   ]
  },
  {
   "cell_type": "markdown",
   "metadata": {},
   "source": [
    "It's interesting that 14 of the 15 top amounts are unique."
   ]
  },
  {
   "cell_type": "code",
   "execution_count": null,
   "metadata": {
    "collapsed": true
   },
   "outputs": [],
   "source": []
  }
 ],
 "metadata": {
  "kernelspec": {
   "display_name": "R",
   "language": "R",
   "name": "ir"
  },
  "language_info": {
   "codemirror_mode": "r",
   "file_extension": ".r",
   "mimetype": "text/x-r-source",
   "name": "R",
   "pygments_lexer": "r",
   "version": "3.3.2"
  }
 },
 "nbformat": 4,
 "nbformat_minor": 2
}
