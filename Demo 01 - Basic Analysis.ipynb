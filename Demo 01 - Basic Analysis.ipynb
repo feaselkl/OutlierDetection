{
 "cells": [
  {
   "cell_type": "markdown",
   "metadata": {},
   "source": [
    "# Demo 01 - Basic Analysis"
   ]
  },
  {
   "cell_type": "markdown",
   "metadata": {},
   "source": [
    "The first level of exploratory data analysis we might want to perform is a basic analysis of our available data.  This includes summary statistics, evaluating data structure, and performing growth analysis.\n",
    "\n",
    "To do this, we will use some built-in R functions as well as functionality available to us in the `tidyverse` package."
   ]
  },
  {
   "cell_type": "code",
   "execution_count": null,
   "metadata": {},
   "outputs": [],
   "source": [
    "if(!require(tidyverse)) {\n",
    "    install.packages(\"tidyverse\", repos = \"http://cran.us.r-project.org\")\n",
    "    library(tidyverse)\n",
    "}\n",
    "\n",
    "if(!require(odbc)) {\n",
    "    install.packages(\"odbc\", repos = \"http://cran.us.r-project.org\")\n",
    "    library(odbc)\n",
    "}\n",
    "\n",
    "# ggplot2 is installed with the tidyverse.\n",
    "library(ggplot2)"
   ]
  },
  {
   "cell_type": "markdown",
   "metadata": {},
   "source": [
    "## Data Retrieval"
   ]
  },
  {
   "cell_type": "markdown",
   "metadata": {},
   "source": [
    "In this first section, we will retrieve data for each major table in our data set.  Then we will run summary statistics on each."
   ]
  },
  {
   "cell_type": "code",
   "execution_count": null,
   "metadata": {},
   "outputs": [],
   "source": [
    "conn <- DBI::dbConnect(odbc::odbc(), \n",
    "                      Driver = \"SQL Server\", \n",
    "                      Server = \"localhost\", \n",
    "                      Database = \"ForensicAccounting\", \n",
    "                      Trusted_Connection = \"True\")"
   ]
  },
  {
   "cell_type": "code",
   "execution_count": null,
   "metadata": {},
   "outputs": [],
   "source": [
    "buses <- DBI::dbGetQuery(conn, \"SELECT BusID, DateFirstInService, DateRetired FROM dbo.Bus;\")\n",
    "employees <- DBI::dbGetQuery(conn, \"SELECT EmployeeID, FirstName, LastName FROM dbo.Employee;\")\n",
    "expenseCategories <- DBI::dbGetQuery(conn, \"SELECT ExpenseCategoryID, ExpenseCategory FROM dbo.ExpenseCategory;\")\n",
    "vendors <- DBI::dbGetQuery(conn, \"SELECT VendorID, VendorName FROM dbo.Vendor;\")\n",
    "vendorExpenseCategories <- DBI::dbGetQuery(conn, \"SELECT\n",
    "\tvec.VendorID,\n",
    "\tvec.ExpenseCategoryID,\n",
    "\tv.VendorName,\n",
    "\tec.ExpenseCategory\n",
    "FROM dbo.VendorExpenseCategory vec\n",
    "\tINNER JOIN dbo.Vendor v\n",
    "\t\tON vec.VendorID = v.VendorID\n",
    "\tINNER JOIN dbo.ExpenseCategory ec\n",
    "\t\tON vec.ExpenseCategoryID = ec.ExpenseCategoryID;\")"
   ]
  },
  {
   "cell_type": "markdown",
   "metadata": {},
   "source": [
    "### Buses"
   ]
  },
  {
   "cell_type": "code",
   "execution_count": null,
   "metadata": {},
   "outputs": [],
   "source": [
    "str(buses)"
   ]
  },
  {
   "cell_type": "markdown",
   "metadata": {},
   "source": [
    "The first thing we want to do is clean up the dates.  Then we can get an idea of how long the buses have been in service."
   ]
  },
  {
   "cell_type": "code",
   "execution_count": null,
   "metadata": {},
   "outputs": [],
   "source": [
    "buses$DateFirstInService <- lubridate::ymd(buses$DateFirstInService)\n",
    "buses$DateRetired <- lubridate::ymd(buses$DateRetired)"
   ]
  },
  {
   "cell_type": "code",
   "execution_count": null,
   "metadata": {},
   "outputs": [],
   "source": [
    "summary(buses)\n",
    "head(buses)\n",
    "\n",
    "sum(is.na(buses$DateRetired))"
   ]
  },
  {
   "cell_type": "markdown",
   "metadata": {},
   "source": [
    "There are 700 buses in our total inventory.  344 are still in service as of 2019."
   ]
  },
  {
   "cell_type": "markdown",
   "metadata": {},
   "source": [
    "### Employees\n",
    "\n",
    "We have 12 employees in total."
   ]
  },
  {
   "cell_type": "code",
   "execution_count": null,
   "metadata": {},
   "outputs": [],
   "source": [
    "employees"
   ]
  },
  {
   "cell_type": "markdown",
   "metadata": {},
   "source": [
    "### Expense Categories\n",
    "\n",
    "We have 28 expense categories.  Each one has its own rough price but we don't store any of that information directly in the database, as there are different vendors who offer up different prices depending on market circumstances."
   ]
  },
  {
   "cell_type": "code",
   "execution_count": null,
   "metadata": {},
   "outputs": [],
   "source": [
    "expenseCategories %>% arrange(ExpenseCategoryID)"
   ]
  },
  {
   "cell_type": "markdown",
   "metadata": {},
   "source": [
    "### Vendors\n",
    "\n",
    "There are 15 vendors.  Each vendor has its own specialties."
   ]
  },
  {
   "cell_type": "code",
   "execution_count": null,
   "metadata": {},
   "outputs": [],
   "source": [
    "vendors %>% arrange(VendorID)"
   ]
  },
  {
   "cell_type": "markdown",
   "metadata": {},
   "source": [
    "### Vendor Expense Categories\n",
    "\n",
    "This is a listing of which vendors offer which services."
   ]
  },
  {
   "cell_type": "code",
   "execution_count": null,
   "metadata": {},
   "outputs": [],
   "source": [
    "vendorExpenseCategories %>% arrange(VendorID, ExpenseCategoryID)"
   ]
  },
  {
   "cell_type": "markdown",
   "metadata": {},
   "source": [
    "We can easily see how many different categories each vendor offers."
   ]
  },
  {
   "cell_type": "code",
   "execution_count": null,
   "metadata": {},
   "outputs": [],
   "source": [
    "vendorExpenseCategories %>%\n",
    "    group_by(VendorID, VendorName) %>%\n",
    "    summarize(n = n())"
   ]
  },
  {
   "cell_type": "markdown",
   "metadata": {},
   "source": [
    "We can also see that there are a few sole-source suppliers.  In an audit, we might investigate the reason why we would have sole-source suppliers in these categories."
   ]
  },
  {
   "cell_type": "code",
   "execution_count": null,
   "metadata": {},
   "outputs": [],
   "source": [
    "vendorExpenseCategories %>%\n",
    "    group_by(ExpenseCategoryID, ExpenseCategory) %>%\n",
    "    summarize(n = n())"
   ]
  },
  {
   "cell_type": "markdown",
   "metadata": {},
   "source": [
    "## Growth Analysis\n",
    "\n",
    "In this section, we want to see how things have changed over time.\n",
    "\n",
    "### Active Buses\n",
    "\n",
    "The first thing we will look at is how many active buses the agency has at its disposal each year.  To make things simpler, we add new buses and take buses out of service once a year."
   ]
  },
  {
   "cell_type": "code",
   "execution_count": null,
   "metadata": {},
   "outputs": [],
   "source": [
    "activeBuses <- DBI::dbGetQuery(conn, \"SELECT\n",
    "\tc.CalendarYear,\n",
    "\tCOUNT(*) AS NumberOfBuses\n",
    "FROM dbo.Bus b\n",
    "\tINNER JOIN dbo.Calendar c\n",
    "\t\tON b.DateFirstInService <= c.Date\n",
    "\t\tAND ISNULL(b.DateRetired, '2018-12-31') >= c.Date\n",
    "WHERE\n",
    "\tc.CalendarDayOfYear = 1\n",
    "\tAND c.CalendarYear >= 2011\n",
    "\tAND c.CalendarYear < 2019\n",
    "GROUP BY\n",
    "\tc.CalendarYear\n",
    "ORDER BY\n",
    "\tc.CalendarYear;\")"
   ]
  },
  {
   "cell_type": "code",
   "execution_count": null,
   "metadata": {},
   "outputs": [],
   "source": [
    "options(repr.plot.width=6, repr.plot.height=4) \n",
    "ggplot(activeBuses, aes(x = CalendarYear, y = NumberOfBuses)) +\n",
    "    geom_point() +\n",
    "    geom_line() +\n",
    "    labs(x = \"Calendar Year\", y = \"Number of Buses\", title = \"Number of Buses by Year\") +\n",
    "    ylim(0, 500) +\n",
    "    theme_minimal()"
   ]
  },
  {
   "cell_type": "markdown",
   "metadata": {},
   "source": [
    "We see a steady increase in the number of buses by year.  The number of buses is likely the biggest driver for our expenses, so we'd expect to see similar growth over time in expenses."
   ]
  },
  {
   "cell_type": "markdown",
   "metadata": {},
   "source": [
    "### Invoices Per Year\n",
    "\n",
    "The next thing we want to look at is the number of invoices per year our staff handle."
   ]
  },
  {
   "cell_type": "code",
   "execution_count": null,
   "metadata": {},
   "outputs": [],
   "source": [
    "invoicesPerYear <- DBI::dbGetQuery(conn, \"SELECT\n",
    "\tc.CalendarYear,\n",
    "\tCOUNT(*) AS NumberOfInvoices\n",
    "FROM dbo.LineItem li\n",
    "\tINNER JOIN dbo.Calendar c\n",
    "\t\tON li.LineItemDate = c.Date\n",
    "GROUP BY\n",
    "\tc.CalendarYear\n",
    "ORDER BY\n",
    "\tc.CalendarYear;\")"
   ]
  },
  {
   "cell_type": "code",
   "execution_count": null,
   "metadata": {},
   "outputs": [],
   "source": [
    "ggplot(invoicesPerYear, aes(x = CalendarYear, y = NumberOfInvoices)) +\n",
    "    geom_point() +\n",
    "    geom_line() +\n",
    "    labs(x = \"Calendar Year\", y = \"Number of Invoices\", title = \"Number of Invoices by Year\") +\n",
    "    theme_minimal()"
   ]
  },
  {
   "cell_type": "markdown",
   "metadata": {},
   "source": [
    "We can see steady growth through most of the time frame but a huge spike in 2018.  This looks very weird."
   ]
  },
  {
   "cell_type": "markdown",
   "metadata": {},
   "source": [
    "### Expenditures Per Year\n",
    "\n",
    "Knowing that we saw a spike in invoices it would also be illustrative to review the amount of money we spend per year."
   ]
  },
  {
   "cell_type": "code",
   "execution_count": null,
   "metadata": {},
   "outputs": [],
   "source": [
    "expendituresPerYear <- DBI::dbGetQuery(conn, \"SELECT\n",
    "\tc.CalendarYear,\n",
    "\tSUM(li.Amount) AS TotalInvoicedAmount\n",
    "FROM dbo.LineItem li\n",
    "\tINNER JOIN dbo.Calendar c\n",
    "\t\tON li.LineItemDate = c.Date\n",
    "GROUP BY\n",
    "\tc.CalendarYear\n",
    "ORDER BY\n",
    "\tc.CalendarYear;\")"
   ]
  },
  {
   "cell_type": "code",
   "execution_count": null,
   "metadata": {},
   "outputs": [],
   "source": [
    "ggplot(expendituresPerYear, aes(x = CalendarYear, y = TotalInvoicedAmount)) +\n",
    "    geom_point() +\n",
    "    geom_line() +\n",
    "    scale_y_continuous(labels = scales::dollar) +\n",
    "    labs(x = \"Calendar Year\", y = \"Total Invoiced Amount\", title = \"Total Invoiced Amount by Year\") +\n",
    "    theme_minimal()"
   ]
  },
  {
   "cell_type": "markdown",
   "metadata": {},
   "source": [
    "This is looking suspicious.  We were a little under \\\\$1 million in 2017 and jump up over \\\\$2 million in 2018.  Yes, there are more buses in the fleet in 2018 but that's a sharp incline.  We'll need to do more research and get back to it."
   ]
  },
  {
   "cell_type": "code",
   "execution_count": null,
   "metadata": {},
   "outputs": [],
   "source": []
  }
 ],
 "metadata": {
  "kernelspec": {
   "display_name": "R",
   "language": "R",
   "name": "ir"
  },
  "language_info": {
   "codemirror_mode": "r",
   "file_extension": ".r",
   "mimetype": "text/x-r-source",
   "name": "R",
   "pygments_lexer": "r",
   "version": "3.6.1"
  }
 },
 "nbformat": 4,
 "nbformat_minor": 2
}
