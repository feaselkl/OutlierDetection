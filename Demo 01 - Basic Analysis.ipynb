{
 "cells": [
  {
   "cell_type": "markdown",
   "metadata": {},
   "source": [
    "# Demo 01 - Basic Analysis"
   ]
  },
  {
   "cell_type": "markdown",
   "metadata": {},
   "source": [
    "The first level of exploratory data analysis we might want to perform is a basic analysis of our available data.  This includes summary statistics, evaluating data structure, and performing growth analysis.\n",
    "\n",
    "To do this, we will use some built-in R functions as well as functionality available to us in the `tidyverse` package."
   ]
  },
  {
   "cell_type": "code",
   "execution_count": 1,
   "metadata": {},
   "outputs": [
    {
     "name": "stderr",
     "output_type": "stream",
     "text": [
      "Loading required package: tidyverse\n",
      "Warning message:\n",
      "\"package 'tidyverse' was built under R version 3.5.2\"-- Attaching packages --------------------------------------- tidyverse 1.2.1 --\n",
      "v ggplot2 3.1.0     v purrr   0.2.5\n",
      "v tibble  1.4.2     v dplyr   0.7.6\n",
      "v tidyr   0.8.1     v stringr 1.3.1\n",
      "v readr   1.1.1     v forcats 0.3.0\n",
      "Warning message:\n",
      "\"package 'ggplot2' was built under R version 3.5.2\"-- Conflicts ------------------------------------------ tidyverse_conflicts() --\n",
      "x dplyr::filter() masks stats::filter()\n",
      "x dplyr::lag()    masks stats::lag()\n",
      "Loading required package: odbc\n",
      "Warning message:\n",
      "\"package 'odbc' was built under R version 3.5.3\""
     ]
    }
   ],
   "source": [
    "if(!require(tidyverse)) {\n",
    "    install.packages(\"tidyverse\", repos = \"http://cran.us.r-project.org\")\n",
    "    library(tidyverse)\n",
    "}\n",
    "\n",
    "if(!require(odbc)) {\n",
    "    install.packages(\"odbc\", repos = \"http://cran.us.r-project.org\")\n",
    "    library(odbc)\n",
    "}\n",
    "\n",
    "# ggplot2 is installed with the tidyverse.\n",
    "library(ggplot2)"
   ]
  },
  {
   "cell_type": "markdown",
   "metadata": {},
   "source": [
    "## Data Retrieval"
   ]
  },
  {
   "cell_type": "markdown",
   "metadata": {},
   "source": [
    "In this first section, we will retrieve data for each major table in our data set.  Then we will run summary statistics on each."
   ]
  },
  {
   "cell_type": "code",
   "execution_count": 2,
   "metadata": {},
   "outputs": [],
   "source": [
    "conn <- DBI::dbConnect(odbc::odbc(), \n",
    "                      Driver = \"SQL Server\", \n",
    "                      Server = \"localhost\", \n",
    "                      Database = \"ForensicAccounting\", \n",
    "                      Trusted_Connection = \"True\")"
   ]
  },
  {
   "cell_type": "code",
   "execution_count": 3,
   "metadata": {},
   "outputs": [],
   "source": [
    "buses <- DBI::dbGetQuery(conn, \"SELECT BusID, DateFirstInService, DateRetired FROM dbo.Bus;\")\n",
    "employees <- DBI::dbGetQuery(conn, \"SELECT EmployeeID, FirstName, LastName FROM dbo.Employee;\")\n",
    "expenseCategories <- DBI::dbGetQuery(conn, \"SELECT ExpenseCategoryID, ExpenseCategory FROM dbo.ExpenseCategory;\")\n",
    "vendors <- DBI::dbGetQuery(conn, \"SELECT VendorID, VendorName FROM dbo.Vendor;\")\n",
    "vendorExpenseCategories <- DBI::dbGetQuery(conn, \"SELECT\n",
    "\tvec.VendorID,\n",
    "\tvec.ExpenseCategoryID,\n",
    "\tv.VendorName,\n",
    "\tec.ExpenseCategory\n",
    "FROM dbo.VendorExpenseCategory vec\n",
    "\tINNER JOIN dbo.Vendor v\n",
    "\t\tON vec.VendorID = v.VendorID\n",
    "\tINNER JOIN dbo.ExpenseCategory ec\n",
    "\t\tON vec.ExpenseCategoryID = ec.ExpenseCategoryID;\")"
   ]
  },
  {
   "cell_type": "markdown",
   "metadata": {},
   "source": [
    "### Buses"
   ]
  },
  {
   "cell_type": "code",
   "execution_count": 4,
   "metadata": {},
   "outputs": [
    {
     "name": "stdout",
     "output_type": "stream",
     "text": [
      "'data.frame':\t700 obs. of  3 variables:\n",
      " $ BusID             : int  1 2 3 4 5 6 7 8 9 10 ...\n",
      " $ DateFirstInService: chr  \"1990-01-01\" \"1990-01-01\" \"1990-01-01\" \"1990-01-01\" ...\n",
      " $ DateRetired       : chr  NA \"2012-01-01\" \"2011-01-01\" \"2013-01-01\" ...\n"
     ]
    }
   ],
   "source": [
    "str(buses)"
   ]
  },
  {
   "cell_type": "markdown",
   "metadata": {},
   "source": [
    "The first thing we want to do is clean up the dates.  Then we can get an idea of how long the buses have been in service."
   ]
  },
  {
   "cell_type": "code",
   "execution_count": 5,
   "metadata": {},
   "outputs": [],
   "source": [
    "buses$DateFirstInService <- lubridate::ymd(buses$DateFirstInService)\n",
    "buses$DateRetired <- lubridate::ymd(buses$DateRetired)"
   ]
  },
  {
   "cell_type": "code",
   "execution_count": 6,
   "metadata": {},
   "outputs": [
    {
     "data": {
      "text/plain": [
       "     BusID       DateFirstInService    DateRetired        \n",
       " Min.   :  1.0   Min.   :1990-01-01   Min.   :2011-01-01  \n",
       " 1st Qu.:175.8   1st Qu.:1990-01-01   1st Qu.:2012-01-01  \n",
       " Median :350.5   Median :2011-07-02   Median :2014-01-01  \n",
       " Mean   :350.5   Mean   :2004-01-01   Mean   :2014-03-14  \n",
       " 3rd Qu.:525.2   3rd Qu.:2015-01-01   3rd Qu.:2016-01-01  \n",
       " Max.   :700.0   Max.   :2018-01-01   Max.   :2018-01-01  \n",
       "                                      NA's   :468         "
      ]
     },
     "metadata": {},
     "output_type": "display_data"
    },
    {
     "data": {
      "text/html": [
       "<table>\n",
       "<thead><tr><th scope=col>BusID</th><th scope=col>DateFirstInService</th><th scope=col>DateRetired</th></tr></thead>\n",
       "<tbody>\n",
       "\t<tr><td>1         </td><td>1990-01-01</td><td>NA        </td></tr>\n",
       "\t<tr><td>2         </td><td>1990-01-01</td><td>2012-01-01</td></tr>\n",
       "\t<tr><td>3         </td><td>1990-01-01</td><td>2011-01-01</td></tr>\n",
       "\t<tr><td>4         </td><td>1990-01-01</td><td>2013-01-01</td></tr>\n",
       "\t<tr><td>5         </td><td>1990-01-01</td><td>2017-01-01</td></tr>\n",
       "\t<tr><td>6         </td><td>1990-01-01</td><td>NA        </td></tr>\n",
       "</tbody>\n",
       "</table>\n"
      ],
      "text/latex": [
       "\\begin{tabular}{r|lll}\n",
       " BusID & DateFirstInService & DateRetired\\\\\n",
       "\\hline\n",
       "\t 1          & 1990-01-01 & NA        \\\\\n",
       "\t 2          & 1990-01-01 & 2012-01-01\\\\\n",
       "\t 3          & 1990-01-01 & 2011-01-01\\\\\n",
       "\t 4          & 1990-01-01 & 2013-01-01\\\\\n",
       "\t 5          & 1990-01-01 & 2017-01-01\\\\\n",
       "\t 6          & 1990-01-01 & NA        \\\\\n",
       "\\end{tabular}\n"
      ],
      "text/markdown": [
       "\n",
       "BusID | DateFirstInService | DateRetired | \n",
       "|---|---|---|---|---|---|\n",
       "| 1          | 1990-01-01 | NA         | \n",
       "| 2          | 1990-01-01 | 2012-01-01 | \n",
       "| 3          | 1990-01-01 | 2011-01-01 | \n",
       "| 4          | 1990-01-01 | 2013-01-01 | \n",
       "| 5          | 1990-01-01 | 2017-01-01 | \n",
       "| 6          | 1990-01-01 | NA         | \n",
       "\n",
       "\n"
      ],
      "text/plain": [
       "  BusID DateFirstInService DateRetired\n",
       "1 1     1990-01-01         <NA>       \n",
       "2 2     1990-01-01         2012-01-01 \n",
       "3 3     1990-01-01         2011-01-01 \n",
       "4 4     1990-01-01         2013-01-01 \n",
       "5 5     1990-01-01         2017-01-01 \n",
       "6 6     1990-01-01         <NA>       "
      ]
     },
     "metadata": {},
     "output_type": "display_data"
    },
    {
     "data": {
      "text/html": [
       "468"
      ],
      "text/latex": [
       "468"
      ],
      "text/markdown": [
       "468"
      ],
      "text/plain": [
       "[1] 468"
      ]
     },
     "metadata": {},
     "output_type": "display_data"
    }
   ],
   "source": [
    "summary(buses)\n",
    "head(buses)\n",
    "\n",
    "sum(is.na(buses$DateRetired))"
   ]
  },
  {
   "cell_type": "markdown",
   "metadata": {},
   "source": [
    "There are 700 buses in our total inventory.  468 are still in service as of 2019."
   ]
  },
  {
   "cell_type": "markdown",
   "metadata": {},
   "source": [
    "### Employees\n",
    "\n",
    "We have 12 employees in total."
   ]
  },
  {
   "cell_type": "code",
   "execution_count": 7,
   "metadata": {},
   "outputs": [
    {
     "data": {
      "text/html": [
       "<table>\n",
       "<thead><tr><th scope=col>EmployeeID</th><th scope=col>FirstName</th><th scope=col>LastName</th></tr></thead>\n",
       "<tbody>\n",
       "\t<tr><td> 1        </td><td>Jack      </td><td>Aubrey    </td></tr>\n",
       "\t<tr><td> 2        </td><td>Stephen   </td><td>Maturin   </td></tr>\n",
       "\t<tr><td> 3        </td><td>Sophia    </td><td>Aubrey    </td></tr>\n",
       "\t<tr><td> 4        </td><td>Diana     </td><td>Villiers  </td></tr>\n",
       "\t<tr><td> 5        </td><td>William   </td><td>Babbington</td></tr>\n",
       "\t<tr><td> 6        </td><td>Barret    </td><td>Bonden    </td></tr>\n",
       "\t<tr><td> 7        </td><td>Nathaniel </td><td>Martin    </td></tr>\n",
       "\t<tr><td> 8        </td><td>William   </td><td>Mowett    </td></tr>\n",
       "\t<tr><td> 9        </td><td>Ebenezer  </td><td>Graham    </td></tr>\n",
       "\t<tr><td>10        </td><td>Molly     </td><td>Harte     </td></tr>\n",
       "\t<tr><td>11        </td><td>Clarissa  </td><td>Oakes     </td></tr>\n",
       "\t<tr><td>12        </td><td>Emily     </td><td>Sweeting  </td></tr>\n",
       "</tbody>\n",
       "</table>\n"
      ],
      "text/latex": [
       "\\begin{tabular}{r|lll}\n",
       " EmployeeID & FirstName & LastName\\\\\n",
       "\\hline\n",
       "\t  1         & Jack       & Aubrey    \\\\\n",
       "\t  2         & Stephen    & Maturin   \\\\\n",
       "\t  3         & Sophia     & Aubrey    \\\\\n",
       "\t  4         & Diana      & Villiers  \\\\\n",
       "\t  5         & William    & Babbington\\\\\n",
       "\t  6         & Barret     & Bonden    \\\\\n",
       "\t  7         & Nathaniel  & Martin    \\\\\n",
       "\t  8         & William    & Mowett    \\\\\n",
       "\t  9         & Ebenezer   & Graham    \\\\\n",
       "\t 10         & Molly      & Harte     \\\\\n",
       "\t 11         & Clarissa   & Oakes     \\\\\n",
       "\t 12         & Emily      & Sweeting  \\\\\n",
       "\\end{tabular}\n"
      ],
      "text/markdown": [
       "\n",
       "EmployeeID | FirstName | LastName | \n",
       "|---|---|---|---|---|---|---|---|---|---|---|---|\n",
       "|  1         | Jack       | Aubrey     | \n",
       "|  2         | Stephen    | Maturin    | \n",
       "|  3         | Sophia     | Aubrey     | \n",
       "|  4         | Diana      | Villiers   | \n",
       "|  5         | William    | Babbington | \n",
       "|  6         | Barret     | Bonden     | \n",
       "|  7         | Nathaniel  | Martin     | \n",
       "|  8         | William    | Mowett     | \n",
       "|  9         | Ebenezer   | Graham     | \n",
       "| 10         | Molly      | Harte      | \n",
       "| 11         | Clarissa   | Oakes      | \n",
       "| 12         | Emily      | Sweeting   | \n",
       "\n",
       "\n"
      ],
      "text/plain": [
       "   EmployeeID FirstName LastName  \n",
       "1   1         Jack      Aubrey    \n",
       "2   2         Stephen   Maturin   \n",
       "3   3         Sophia    Aubrey    \n",
       "4   4         Diana     Villiers  \n",
       "5   5         William   Babbington\n",
       "6   6         Barret    Bonden    \n",
       "7   7         Nathaniel Martin    \n",
       "8   8         William   Mowett    \n",
       "9   9         Ebenezer  Graham    \n",
       "10 10         Molly     Harte     \n",
       "11 11         Clarissa  Oakes     \n",
       "12 12         Emily     Sweeting  "
      ]
     },
     "metadata": {},
     "output_type": "display_data"
    }
   ],
   "source": [
    "employees"
   ]
  },
  {
   "cell_type": "markdown",
   "metadata": {},
   "source": [
    "### Expense Categories\n",
    "\n",
    "We have 28 expense categories.  Each one has its own rough price but we don't store any of that information directly in the database, as there are different vendors who offer up different prices depending on market circumstances."
   ]
  },
  {
   "cell_type": "code",
   "execution_count": 8,
   "metadata": {},
   "outputs": [
    {
     "data": {
      "text/html": [
       "<table>\n",
       "<thead><tr><th scope=col>ExpenseCategoryID</th><th scope=col>ExpenseCategory</th></tr></thead>\n",
       "<tbody>\n",
       "\t<tr><td> 1                                 </td><td>Vehicle repair labor               </td></tr>\n",
       "\t<tr><td> 2                                 </td><td>Vehicle maintenance labor          </td></tr>\n",
       "\t<tr><td> 3                                 </td><td>Fuel                               </td></tr>\n",
       "\t<tr><td> 4                                                                             </td><td><span style=white-space:pre-wrap>Lights &amp; Reflectors                </span></td></tr>\n",
       "\t<tr><td> 5                                 </td><td>Switches                           </td></tr>\n",
       "\t<tr><td> 6                                 </td><td>Electrical                         </td></tr>\n",
       "\t<tr><td> 7                                                                             </td><td><span style=white-space:pre-wrap>Signs &amp; Decals                     </span></td></tr>\n",
       "\t<tr><td> 8                                 </td><td>Mirrors                            </td></tr>\n",
       "\t<tr><td> 9                                                                             </td><td><span style=white-space:pre-wrap>Heater &amp; Defroster                 </span></td></tr>\n",
       "\t<tr><td>10                                     </td><td>Stop Arms, Crossing Gates &amp; Hatches</td></tr>\n",
       "\t<tr><td>11                                 </td><td>Safety Equipment (1st Aid)         </td></tr>\n",
       "\t<tr><td>12                                                                             </td><td><span style=white-space:pre-wrap>Seats &amp; Seat Belts                 </span></td></tr>\n",
       "\t<tr><td>13                                 </td><td>Radio / PA                         </td></tr>\n",
       "\t<tr><td>14                                 </td><td>Video Camera/Check Systems         </td></tr>\n",
       "\t<tr><td>15                                 </td><td>Seat Repair                        </td></tr>\n",
       "\t<tr><td>16                                                                             </td><td><span style=white-space:pre-wrap>Child Seats &amp; Restraints           </span></td></tr>\n",
       "\t<tr><td>17                                 </td><td>Wheelchair Tie-Downs               </td></tr>\n",
       "\t<tr><td>18                                                                             </td><td><span style=white-space:pre-wrap>Glass, Windshields &amp; Windows       </span></td></tr>\n",
       "\t<tr><td>19                                                                             </td><td><span style=white-space:pre-wrap>Windshield Wipers &amp; Parts          </span></td></tr>\n",
       "\t<tr><td>20                                                                             </td><td><span style=white-space:pre-wrap>Bus Accessories &amp; Cleaning Tools   </span></td></tr>\n",
       "\t<tr><td>21                                 </td><td>Thermal Heaters                    </td></tr>\n",
       "\t<tr><td>22                                                                             </td><td><span style=white-space:pre-wrap>Wheelchair Lift &amp; Mobility         </span></td></tr>\n",
       "\t<tr><td>23                                 </td><td>Body Accessories                   </td></tr>\n",
       "\t<tr><td>24                                 </td><td>OEM Body Parts                     </td></tr>\n",
       "\t<tr><td>25                                 </td><td>Brakes                             </td></tr>\n",
       "\t<tr><td>26                                 </td><td>Suspension                         </td></tr>\n",
       "\t<tr><td>27                                 </td><td>Filters                            </td></tr>\n",
       "\t<tr><td>28                                 </td><td>Exhaust                            </td></tr>\n",
       "</tbody>\n",
       "</table>\n"
      ],
      "text/latex": [
       "\\begin{tabular}{r|ll}\n",
       " ExpenseCategoryID & ExpenseCategory\\\\\n",
       "\\hline\n",
       "\t  1                                  & Vehicle repair labor               \\\\\n",
       "\t  2                                  & Vehicle maintenance labor          \\\\\n",
       "\t  3                                  & Fuel                               \\\\\n",
       "\t  4                                    & Lights \\& Reflectors                \\\\\n",
       "\t  5                                  & Switches                           \\\\\n",
       "\t  6                                  & Electrical                         \\\\\n",
       "\t  7                                    & Signs \\& Decals                     \\\\\n",
       "\t  8                                  & Mirrors                            \\\\\n",
       "\t  9                                    & Heater \\& Defroster                 \\\\\n",
       "\t 10                                    & Stop Arms, Crossing Gates \\& Hatches\\\\\n",
       "\t 11                                  & Safety Equipment (1st Aid)         \\\\\n",
       "\t 12                                    & Seats \\& Seat Belts                 \\\\\n",
       "\t 13                                  & Radio / PA                         \\\\\n",
       "\t 14                                  & Video Camera/Check Systems         \\\\\n",
       "\t 15                                  & Seat Repair                        \\\\\n",
       "\t 16                                    & Child Seats \\& Restraints           \\\\\n",
       "\t 17                                  & Wheelchair Tie-Downs               \\\\\n",
       "\t 18                                    & Glass, Windshields \\& Windows       \\\\\n",
       "\t 19                                    & Windshield Wipers \\& Parts          \\\\\n",
       "\t 20                                    & Bus Accessories \\& Cleaning Tools   \\\\\n",
       "\t 21                                  & Thermal Heaters                    \\\\\n",
       "\t 22                                    & Wheelchair Lift \\& Mobility         \\\\\n",
       "\t 23                                  & Body Accessories                   \\\\\n",
       "\t 24                                  & OEM Body Parts                     \\\\\n",
       "\t 25                                  & Brakes                             \\\\\n",
       "\t 26                                  & Suspension                         \\\\\n",
       "\t 27                                  & Filters                            \\\\\n",
       "\t 28                                  & Exhaust                            \\\\\n",
       "\\end{tabular}\n"
      ],
      "text/markdown": [
       "\n",
       "ExpenseCategoryID | ExpenseCategory | \n",
       "|---|---|---|---|---|---|---|---|---|---|---|---|---|---|---|---|---|---|---|---|---|---|---|---|---|---|---|---|\n",
       "|  1                                  | Vehicle repair labor                | \n",
       "|  2                                  | Vehicle maintenance labor           | \n",
       "|  3                                  | Fuel                                | \n",
       "|  4                                  | Lights & Reflectors                 | \n",
       "|  5                                  | Switches                            | \n",
       "|  6                                  | Electrical                          | \n",
       "|  7                                  | Signs & Decals                      | \n",
       "|  8                                  | Mirrors                             | \n",
       "|  9                                  | Heater & Defroster                  | \n",
       "| 10                                  | Stop Arms, Crossing Gates & Hatches | \n",
       "| 11                                  | Safety Equipment (1st Aid)          | \n",
       "| 12                                  | Seats & Seat Belts                  | \n",
       "| 13                                  | Radio / PA                          | \n",
       "| 14                                  | Video Camera/Check Systems          | \n",
       "| 15                                  | Seat Repair                         | \n",
       "| 16                                  | Child Seats & Restraints            | \n",
       "| 17                                  | Wheelchair Tie-Downs                | \n",
       "| 18                                  | Glass, Windshields & Windows        | \n",
       "| 19                                  | Windshield Wipers & Parts           | \n",
       "| 20                                  | Bus Accessories & Cleaning Tools    | \n",
       "| 21                                  | Thermal Heaters                     | \n",
       "| 22                                  | Wheelchair Lift & Mobility          | \n",
       "| 23                                  | Body Accessories                    | \n",
       "| 24                                  | OEM Body Parts                      | \n",
       "| 25                                  | Brakes                              | \n",
       "| 26                                  | Suspension                          | \n",
       "| 27                                  | Filters                             | \n",
       "| 28                                  | Exhaust                             | \n",
       "\n",
       "\n"
      ],
      "text/plain": [
       "   ExpenseCategoryID ExpenseCategory                    \n",
       "1   1                Vehicle repair labor               \n",
       "2   2                Vehicle maintenance labor          \n",
       "3   3                Fuel                               \n",
       "4   4                Lights & Reflectors                \n",
       "5   5                Switches                           \n",
       "6   6                Electrical                         \n",
       "7   7                Signs & Decals                     \n",
       "8   8                Mirrors                            \n",
       "9   9                Heater & Defroster                 \n",
       "10 10                Stop Arms, Crossing Gates & Hatches\n",
       "11 11                Safety Equipment (1st Aid)         \n",
       "12 12                Seats & Seat Belts                 \n",
       "13 13                Radio / PA                         \n",
       "14 14                Video Camera/Check Systems         \n",
       "15 15                Seat Repair                        \n",
       "16 16                Child Seats & Restraints           \n",
       "17 17                Wheelchair Tie-Downs               \n",
       "18 18                Glass, Windshields & Windows       \n",
       "19 19                Windshield Wipers & Parts          \n",
       "20 20                Bus Accessories & Cleaning Tools   \n",
       "21 21                Thermal Heaters                    \n",
       "22 22                Wheelchair Lift & Mobility         \n",
       "23 23                Body Accessories                   \n",
       "24 24                OEM Body Parts                     \n",
       "25 25                Brakes                             \n",
       "26 26                Suspension                         \n",
       "27 27                Filters                            \n",
       "28 28                Exhaust                            "
      ]
     },
     "metadata": {},
     "output_type": "display_data"
    }
   ],
   "source": [
    "expenseCategories %>% arrange(ExpenseCategoryID)"
   ]
  },
  {
   "cell_type": "markdown",
   "metadata": {},
   "source": [
    "### Vendors\n",
    "\n",
    "There are 15 vendors.  Each vendor has its own specialties."
   ]
  },
  {
   "cell_type": "code",
   "execution_count": 9,
   "metadata": {},
   "outputs": [
    {
     "data": {
      "text/html": [
       "<table>\n",
       "<thead><tr><th scope=col>VendorID</th><th scope=col>VendorName</th></tr></thead>\n",
       "<tbody>\n",
       "\t<tr><td> 1                                  </td><td>Bus Repair Shack                    </td></tr>\n",
       "\t<tr><td> 2                                  </td><td>VehiCo Parts and Accessories        </td></tr>\n",
       "\t<tr><td> 3                                  </td><td>Fuel Suppliers, Ltd                 </td></tr>\n",
       "\t<tr><td> 4                                  </td><td>Fuel Associates, Unlimited          </td></tr>\n",
       "\t<tr><td> 5                                  </td><td>Glass and Sons Glass and Accessories</td></tr>\n",
       "\t<tr><td> 6                                  </td><td>Electronics and Repairs             </td></tr>\n",
       "\t<tr><td> 7                                  </td><td>Clean Sweep Cleaning Supplies       </td></tr>\n",
       "\t<tr><td> 8                                  </td><td>Engine Mates                        </td></tr>\n",
       "\t<tr><td> 9                                  </td><td>Safety First                        </td></tr>\n",
       "\t<tr><td>10                                  </td><td>Mobility Accessories R Us           </td></tr>\n",
       "\t<tr><td>11                                  </td><td>Tony's Bus Fixer Uppers             </td></tr>\n",
       "\t<tr><td>12                                  </td><td>Tony's Fixer Upper Buses            </td></tr>\n",
       "\t<tr><td>13                                  </td><td>Comfort Rider, GmbH                 </td></tr>\n",
       "\t<tr><td>14                                  </td><td>Doodads and Thingies, Inc.          </td></tr>\n",
       "\t<tr><td>15                                  </td><td>The Longevity Crew                  </td></tr>\n",
       "</tbody>\n",
       "</table>\n"
      ],
      "text/latex": [
       "\\begin{tabular}{r|ll}\n",
       " VendorID & VendorName\\\\\n",
       "\\hline\n",
       "\t  1                                   & Bus Repair Shack                    \\\\\n",
       "\t  2                                   & VehiCo Parts and Accessories        \\\\\n",
       "\t  3                                   & Fuel Suppliers, Ltd                 \\\\\n",
       "\t  4                                   & Fuel Associates, Unlimited          \\\\\n",
       "\t  5                                   & Glass and Sons Glass and Accessories\\\\\n",
       "\t  6                                   & Electronics and Repairs             \\\\\n",
       "\t  7                                   & Clean Sweep Cleaning Supplies       \\\\\n",
       "\t  8                                   & Engine Mates                        \\\\\n",
       "\t  9                                   & Safety First                        \\\\\n",
       "\t 10                                   & Mobility Accessories R Us           \\\\\n",
       "\t 11                                   & Tony's Bus Fixer Uppers             \\\\\n",
       "\t 12                                   & Tony's Fixer Upper Buses            \\\\\n",
       "\t 13                                   & Comfort Rider, GmbH                 \\\\\n",
       "\t 14                                   & Doodads and Thingies, Inc.          \\\\\n",
       "\t 15                                   & The Longevity Crew                  \\\\\n",
       "\\end{tabular}\n"
      ],
      "text/markdown": [
       "\n",
       "VendorID | VendorName | \n",
       "|---|---|---|---|---|---|---|---|---|---|---|---|---|---|---|\n",
       "|  1                                   | Bus Repair Shack                     | \n",
       "|  2                                   | VehiCo Parts and Accessories         | \n",
       "|  3                                   | Fuel Suppliers, Ltd                  | \n",
       "|  4                                   | Fuel Associates, Unlimited           | \n",
       "|  5                                   | Glass and Sons Glass and Accessories | \n",
       "|  6                                   | Electronics and Repairs              | \n",
       "|  7                                   | Clean Sweep Cleaning Supplies        | \n",
       "|  8                                   | Engine Mates                         | \n",
       "|  9                                   | Safety First                         | \n",
       "| 10                                   | Mobility Accessories R Us            | \n",
       "| 11                                   | Tony's Bus Fixer Uppers              | \n",
       "| 12                                   | Tony's Fixer Upper Buses             | \n",
       "| 13                                   | Comfort Rider, GmbH                  | \n",
       "| 14                                   | Doodads and Thingies, Inc.           | \n",
       "| 15                                   | The Longevity Crew                   | \n",
       "\n",
       "\n"
      ],
      "text/plain": [
       "   VendorID VendorName                          \n",
       "1   1       Bus Repair Shack                    \n",
       "2   2       VehiCo Parts and Accessories        \n",
       "3   3       Fuel Suppliers, Ltd                 \n",
       "4   4       Fuel Associates, Unlimited          \n",
       "5   5       Glass and Sons Glass and Accessories\n",
       "6   6       Electronics and Repairs             \n",
       "7   7       Clean Sweep Cleaning Supplies       \n",
       "8   8       Engine Mates                        \n",
       "9   9       Safety First                        \n",
       "10 10       Mobility Accessories R Us           \n",
       "11 11       Tony's Bus Fixer Uppers             \n",
       "12 12       Tony's Fixer Upper Buses            \n",
       "13 13       Comfort Rider, GmbH                 \n",
       "14 14       Doodads and Thingies, Inc.          \n",
       "15 15       The Longevity Crew                  "
      ]
     },
     "metadata": {},
     "output_type": "display_data"
    }
   ],
   "source": [
    "vendors %>% arrange(VendorID)"
   ]
  },
  {
   "cell_type": "markdown",
   "metadata": {},
   "source": [
    "### Vendor Expense Categories\n",
    "\n",
    "This is a listing of which vendors offer which services."
   ]
  },
  {
   "cell_type": "code",
   "execution_count": 10,
   "metadata": {},
   "outputs": [
    {
     "data": {
      "text/html": [
       "<table>\n",
       "<thead><tr><th scope=col>VendorID</th><th scope=col>ExpenseCategoryID</th><th scope=col>VendorName</th><th scope=col>ExpenseCategory</th></tr></thead>\n",
       "<tbody>\n",
       "\t<tr><td>1                                   </td><td> 1                                  </td><td>Bus Repair Shack                    </td><td>Vehicle repair labor                </td></tr>\n",
       "\t<tr><td>1                                   </td><td> 2                                  </td><td>Bus Repair Shack                    </td><td>Vehicle maintenance labor           </td></tr>\n",
       "\t<tr><td>2                                   </td><td> 5                                  </td><td>VehiCo Parts and Accessories        </td><td>Switches                            </td></tr>\n",
       "\t<tr><td>2                                   </td><td> 6                                  </td><td>VehiCo Parts and Accessories        </td><td>Electrical                          </td></tr>\n",
       "\t<tr><td>2                                                                           </td><td> 7                                                                          </td><td><span style=white-space:pre-wrap>VehiCo Parts and Accessories        </span></td><td><span style=white-space:pre-wrap>Signs &amp; Decals                  </span></td></tr>\n",
       "\t<tr><td>2                                                                           </td><td>12                                                                          </td><td><span style=white-space:pre-wrap>VehiCo Parts and Accessories        </span></td><td><span style=white-space:pre-wrap>Seats &amp; Seat Belts              </span></td></tr>\n",
       "\t<tr><td>2                                   </td><td>13                                  </td><td>VehiCo Parts and Accessories        </td><td>Radio / PA                          </td></tr>\n",
       "\t<tr><td>2                                                                           </td><td>16                                                                          </td><td><span style=white-space:pre-wrap>VehiCo Parts and Accessories        </span></td><td><span style=white-space:pre-wrap>Child Seats &amp; Restraints        </span></td></tr>\n",
       "\t<tr><td>2                                   </td><td>17                                  </td><td>VehiCo Parts and Accessories        </td><td>Wheelchair Tie-Downs                </td></tr>\n",
       "\t<tr><td>3                                   </td><td> 3                                  </td><td>Fuel Suppliers, Ltd                 </td><td>Fuel                                </td></tr>\n",
       "\t<tr><td>4                                   </td><td> 3                                  </td><td>Fuel Associates, Unlimited          </td><td>Fuel                                </td></tr>\n",
       "\t<tr><td>5                                                                           </td><td> 4                                                                          </td><td>Glass and Sons Glass and Accessories                                        </td><td><span style=white-space:pre-wrap>Lights &amp; Reflectors             </span></td></tr>\n",
       "\t<tr><td>5                                   </td><td> 8                                  </td><td>Glass and Sons Glass and Accessories</td><td>Mirrors                             </td></tr>\n",
       "\t<tr><td>5                                                                           </td><td>18                                                                          </td><td>Glass and Sons Glass and Accessories                                        </td><td><span style=white-space:pre-wrap>Glass, Windshields &amp; Windows    </span></td></tr>\n",
       "\t<tr><td>5                                                                           </td><td>19                                                                          </td><td>Glass and Sons Glass and Accessories                                        </td><td><span style=white-space:pre-wrap>Windshield Wipers &amp; Parts       </span></td></tr>\n",
       "\t<tr><td>6                                   </td><td> 5                                  </td><td>Electronics and Repairs             </td><td>Switches                            </td></tr>\n",
       "\t<tr><td>6                                   </td><td> 6                                  </td><td>Electronics and Repairs             </td><td>Electrical                          </td></tr>\n",
       "\t<tr><td>6                                   </td><td>13                                  </td><td>Electronics and Repairs             </td><td>Radio / PA                          </td></tr>\n",
       "\t<tr><td>6                                   </td><td>14                                  </td><td>Electronics and Repairs             </td><td>Video Camera/Check Systems          </td></tr>\n",
       "\t<tr><td>7                                                                           </td><td> 7                                                                          </td><td><span style=white-space:pre-wrap>Clean Sweep Cleaning Supplies       </span></td><td><span style=white-space:pre-wrap>Signs &amp; Decals                  </span></td></tr>\n",
       "\t<tr><td>7                                   </td><td>17                                  </td><td>Clean Sweep Cleaning Supplies       </td><td>Wheelchair Tie-Downs                </td></tr>\n",
       "\t<tr><td>7                                                                           </td><td>19                                                                          </td><td><span style=white-space:pre-wrap>Clean Sweep Cleaning Supplies       </span></td><td><span style=white-space:pre-wrap>Windshield Wipers &amp; Parts       </span></td></tr>\n",
       "\t<tr><td>7                                                                           </td><td>20                                                                          </td><td><span style=white-space:pre-wrap>Clean Sweep Cleaning Supplies       </span></td><td>Bus Accessories &amp; Cleaning Tools                                        </td></tr>\n",
       "\t<tr><td>7                                   </td><td>27                                  </td><td>Clean Sweep Cleaning Supplies       </td><td>Filters                             </td></tr>\n",
       "\t<tr><td>7                                   </td><td>28                                  </td><td>Clean Sweep Cleaning Supplies       </td><td>Exhaust                             </td></tr>\n",
       "\t<tr><td>8                                                                           </td><td> 9                                                                          </td><td><span style=white-space:pre-wrap>Engine Mates                        </span></td><td><span style=white-space:pre-wrap>Heater &amp; Defroster              </span></td></tr>\n",
       "\t<tr><td>8                                   </td><td>21                                  </td><td>Engine Mates                        </td><td>Thermal Heaters                     </td></tr>\n",
       "\t<tr><td>8                                   </td><td>24                                  </td><td>Engine Mates                        </td><td>OEM Body Parts                      </td></tr>\n",
       "\t<tr><td>8                                   </td><td>25                                  </td><td>Engine Mates                        </td><td>Brakes                              </td></tr>\n",
       "\t<tr><td>8                                   </td><td>26                                  </td><td>Engine Mates                        </td><td>Suspension                          </td></tr>\n",
       "\t<tr><td>...</td><td>...</td><td>...</td><td>...</td></tr>\n",
       "\t<tr><td> 9                        </td><td>23                        </td><td>Safety First              </td><td>Body Accessories          </td></tr>\n",
       "\t<tr><td>10                                                                    </td><td>16                                                                    </td><td>Mobility Accessories R Us                                             </td><td><span style=white-space:pre-wrap>Child Seats &amp; Restraints  </span></td></tr>\n",
       "\t<tr><td>10                        </td><td>17                        </td><td>Mobility Accessories R Us </td><td>Wheelchair Tie-Downs      </td></tr>\n",
       "\t<tr><td>10                            </td><td>22                            </td><td>Mobility Accessories R Us     </td><td>Wheelchair Lift &amp; Mobility</td></tr>\n",
       "\t<tr><td>10                        </td><td>23                        </td><td>Mobility Accessories R Us </td><td>Body Accessories          </td></tr>\n",
       "\t<tr><td>11                        </td><td> 1                        </td><td>Tony's Bus Fixer Uppers   </td><td>Vehicle repair labor      </td></tr>\n",
       "\t<tr><td>11                        </td><td> 2                        </td><td>Tony's Bus Fixer Uppers   </td><td>Vehicle maintenance labor </td></tr>\n",
       "\t<tr><td>11                        </td><td>24                        </td><td>Tony's Bus Fixer Uppers   </td><td>OEM Body Parts            </td></tr>\n",
       "\t<tr><td>12                                                                    </td><td> 9                                                                    </td><td><span style=white-space:pre-wrap>Tony's Fixer Upper Buses  </span>    </td><td><span style=white-space:pre-wrap>Heater &amp; Defroster        </span></td></tr>\n",
       "\t<tr><td>12                                                                    </td><td>12                                                                    </td><td><span style=white-space:pre-wrap>Tony's Fixer Upper Buses  </span>    </td><td><span style=white-space:pre-wrap>Seats &amp; Seat Belts        </span></td></tr>\n",
       "\t<tr><td>12                        </td><td>13                        </td><td>Tony's Fixer Upper Buses  </td><td>Radio / PA                </td></tr>\n",
       "\t<tr><td>12                        </td><td>15                        </td><td>Tony's Fixer Upper Buses  </td><td>Seat Repair               </td></tr>\n",
       "\t<tr><td>12                                                                </td><td>19                                                                </td><td><span style=white-space:pre-wrap>Tony's Fixer Upper Buses  </span></td><td>Windshield Wipers &amp; Parts                                     </td></tr>\n",
       "\t<tr><td>12                        </td><td>21                        </td><td>Tony's Fixer Upper Buses  </td><td>Thermal Heaters           </td></tr>\n",
       "\t<tr><td>12                        </td><td>25                        </td><td>Tony's Fixer Upper Buses  </td><td>Brakes                    </td></tr>\n",
       "\t<tr><td>12                        </td><td>27                        </td><td>Tony's Fixer Upper Buses  </td><td>Filters                   </td></tr>\n",
       "\t<tr><td>13                                                                    </td><td> 9                                                                    </td><td><span style=white-space:pre-wrap>Comfort Rider, GmbH       </span>    </td><td><span style=white-space:pre-wrap>Heater &amp; Defroster        </span></td></tr>\n",
       "\t<tr><td>13                        </td><td>11                        </td><td>Comfort Rider, GmbH       </td><td>Safety Equipment (1st Aid)</td></tr>\n",
       "\t<tr><td>13                                                                    </td><td>12                                                                    </td><td><span style=white-space:pre-wrap>Comfort Rider, GmbH       </span>    </td><td><span style=white-space:pre-wrap>Seats &amp; Seat Belts        </span></td></tr>\n",
       "\t<tr><td>13                        </td><td>15                        </td><td>Comfort Rider, GmbH       </td><td>Seat Repair               </td></tr>\n",
       "\t<tr><td>13                                                                    </td><td>16                                                                    </td><td><span style=white-space:pre-wrap>Comfort Rider, GmbH       </span>    </td><td><span style=white-space:pre-wrap>Child Seats &amp; Restraints  </span></td></tr>\n",
       "\t<tr><td>13                        </td><td>21                        </td><td>Comfort Rider, GmbH       </td><td>Thermal Heaters           </td></tr>\n",
       "\t<tr><td>14                                                                    </td><td> 7                                                                    </td><td>Doodads and Thingies, Inc.                                            </td><td><span style=white-space:pre-wrap>Signs &amp; Decals            </span></td></tr>\n",
       "\t<tr><td>14                                                                    </td><td> 9                                                                    </td><td>Doodads and Thingies, Inc.                                            </td><td><span style=white-space:pre-wrap>Heater &amp; Defroster        </span></td></tr>\n",
       "\t<tr><td>14                        </td><td>14                        </td><td>Doodads and Thingies, Inc.</td><td>Video Camera/Check Systems</td></tr>\n",
       "\t<tr><td>14                        </td><td>17                        </td><td>Doodads and Thingies, Inc.</td><td>Wheelchair Tie-Downs      </td></tr>\n",
       "\t<tr><td>14                            </td><td>22                            </td><td>Doodads and Thingies, Inc.    </td><td>Wheelchair Lift &amp; Mobility</td></tr>\n",
       "\t<tr><td>14                        </td><td>23                        </td><td>Doodads and Thingies, Inc.</td><td>Body Accessories          </td></tr>\n",
       "\t<tr><td>14                        </td><td>28                        </td><td>Doodads and Thingies, Inc.</td><td>Exhaust                   </td></tr>\n",
       "\t<tr><td>15                        </td><td> 2                        </td><td>The Longevity Crew        </td><td>Vehicle maintenance labor </td></tr>\n",
       "</tbody>\n",
       "</table>\n"
      ],
      "text/latex": [
       "\\begin{tabular}{r|llll}\n",
       " VendorID & ExpenseCategoryID & VendorName & ExpenseCategory\\\\\n",
       "\\hline\n",
       "\t 1                                    &  1                                   & Bus Repair Shack                     & Vehicle repair labor                \\\\\n",
       "\t 1                                    &  2                                   & Bus Repair Shack                     & Vehicle maintenance labor           \\\\\n",
       "\t 2                                    &  5                                   & VehiCo Parts and Accessories         & Switches                            \\\\\n",
       "\t 2                                    &  6                                   & VehiCo Parts and Accessories         & Electrical                          \\\\\n",
       "\t 2                                    &  7                                   & VehiCo Parts and Accessories         & Signs \\& Decals                    \\\\\n",
       "\t 2                                    & 12                                   & VehiCo Parts and Accessories         & Seats \\& Seat Belts                \\\\\n",
       "\t 2                                    & 13                                   & VehiCo Parts and Accessories         & Radio / PA                          \\\\\n",
       "\t 2                                    & 16                                   & VehiCo Parts and Accessories         & Child Seats \\& Restraints          \\\\\n",
       "\t 2                                    & 17                                   & VehiCo Parts and Accessories         & Wheelchair Tie-Downs                \\\\\n",
       "\t 3                                    &  3                                   & Fuel Suppliers, Ltd                  & Fuel                                \\\\\n",
       "\t 4                                    &  3                                   & Fuel Associates, Unlimited           & Fuel                                \\\\\n",
       "\t 5                                    &  4                                   & Glass and Sons Glass and Accessories & Lights \\& Reflectors               \\\\\n",
       "\t 5                                    &  8                                   & Glass and Sons Glass and Accessories & Mirrors                             \\\\\n",
       "\t 5                                    & 18                                   & Glass and Sons Glass and Accessories & Glass, Windshields \\& Windows      \\\\\n",
       "\t 5                                    & 19                                   & Glass and Sons Glass and Accessories & Windshield Wipers \\& Parts         \\\\\n",
       "\t 6                                    &  5                                   & Electronics and Repairs              & Switches                            \\\\\n",
       "\t 6                                    &  6                                   & Electronics and Repairs              & Electrical                          \\\\\n",
       "\t 6                                    & 13                                   & Electronics and Repairs              & Radio / PA                          \\\\\n",
       "\t 6                                    & 14                                   & Electronics and Repairs              & Video Camera/Check Systems          \\\\\n",
       "\t 7                                    &  7                                   & Clean Sweep Cleaning Supplies        & Signs \\& Decals                    \\\\\n",
       "\t 7                                    & 17                                   & Clean Sweep Cleaning Supplies        & Wheelchair Tie-Downs                \\\\\n",
       "\t 7                                    & 19                                   & Clean Sweep Cleaning Supplies        & Windshield Wipers \\& Parts         \\\\\n",
       "\t 7                                    & 20                                   & Clean Sweep Cleaning Supplies        & Bus Accessories \\& Cleaning Tools  \\\\\n",
       "\t 7                                    & 27                                   & Clean Sweep Cleaning Supplies        & Filters                             \\\\\n",
       "\t 7                                    & 28                                   & Clean Sweep Cleaning Supplies        & Exhaust                             \\\\\n",
       "\t 8                                    &  9                                   & Engine Mates                         & Heater \\& Defroster                \\\\\n",
       "\t 8                                    & 21                                   & Engine Mates                         & Thermal Heaters                     \\\\\n",
       "\t 8                                    & 24                                   & Engine Mates                         & OEM Body Parts                      \\\\\n",
       "\t 8                                    & 25                                   & Engine Mates                         & Brakes                              \\\\\n",
       "\t 8                                    & 26                                   & Engine Mates                         & Suspension                          \\\\\n",
       "\t ... & ... & ... & ...\\\\\n",
       "\t  9                         & 23                         & Safety First               & Body Accessories          \\\\\n",
       "\t 10                           & 16                           & Mobility Accessories R Us    & Child Seats \\& Restraints  \\\\\n",
       "\t 10                         & 17                         & Mobility Accessories R Us  & Wheelchair Tie-Downs      \\\\\n",
       "\t 10                           & 22                           & Mobility Accessories R Us    & Wheelchair Lift \\& Mobility\\\\\n",
       "\t 10                         & 23                         & Mobility Accessories R Us  & Body Accessories          \\\\\n",
       "\t 11                         &  1                         & Tony's Bus Fixer Uppers    & Vehicle repair labor      \\\\\n",
       "\t 11                         &  2                         & Tony's Bus Fixer Uppers    & Vehicle maintenance labor \\\\\n",
       "\t 11                         & 24                         & Tony's Bus Fixer Uppers    & OEM Body Parts            \\\\\n",
       "\t 12                           &  9                           & Tony's Fixer Upper Buses     & Heater \\& Defroster        \\\\\n",
       "\t 12                           & 12                           & Tony's Fixer Upper Buses     & Seats \\& Seat Belts        \\\\\n",
       "\t 12                         & 13                         & Tony's Fixer Upper Buses   & Radio / PA                \\\\\n",
       "\t 12                         & 15                         & Tony's Fixer Upper Buses   & Seat Repair               \\\\\n",
       "\t 12                           & 19                           & Tony's Fixer Upper Buses     & Windshield Wipers \\& Parts \\\\\n",
       "\t 12                         & 21                         & Tony's Fixer Upper Buses   & Thermal Heaters           \\\\\n",
       "\t 12                         & 25                         & Tony's Fixer Upper Buses   & Brakes                    \\\\\n",
       "\t 12                         & 27                         & Tony's Fixer Upper Buses   & Filters                   \\\\\n",
       "\t 13                           &  9                           & Comfort Rider, GmbH          & Heater \\& Defroster        \\\\\n",
       "\t 13                         & 11                         & Comfort Rider, GmbH        & Safety Equipment (1st Aid)\\\\\n",
       "\t 13                           & 12                           & Comfort Rider, GmbH          & Seats \\& Seat Belts        \\\\\n",
       "\t 13                         & 15                         & Comfort Rider, GmbH        & Seat Repair               \\\\\n",
       "\t 13                           & 16                           & Comfort Rider, GmbH          & Child Seats \\& Restraints  \\\\\n",
       "\t 13                         & 21                         & Comfort Rider, GmbH        & Thermal Heaters           \\\\\n",
       "\t 14                           &  7                           & Doodads and Thingies, Inc.   & Signs \\& Decals            \\\\\n",
       "\t 14                           &  9                           & Doodads and Thingies, Inc.   & Heater \\& Defroster        \\\\\n",
       "\t 14                         & 14                         & Doodads and Thingies, Inc. & Video Camera/Check Systems\\\\\n",
       "\t 14                         & 17                         & Doodads and Thingies, Inc. & Wheelchair Tie-Downs      \\\\\n",
       "\t 14                           & 22                           & Doodads and Thingies, Inc.   & Wheelchair Lift \\& Mobility\\\\\n",
       "\t 14                         & 23                         & Doodads and Thingies, Inc. & Body Accessories          \\\\\n",
       "\t 14                         & 28                         & Doodads and Thingies, Inc. & Exhaust                   \\\\\n",
       "\t 15                         &  2                         & The Longevity Crew         & Vehicle maintenance labor \\\\\n",
       "\\end{tabular}\n"
      ],
      "text/markdown": [
       "\n",
       "VendorID | ExpenseCategoryID | VendorName | ExpenseCategory | \n",
       "|---|---|---|---|---|---|---|---|---|---|---|---|---|---|---|---|---|---|---|---|---|---|---|---|---|---|---|---|---|---|---|---|---|---|---|---|---|---|---|---|---|---|---|---|---|---|---|---|---|---|---|---|---|---|---|---|---|---|---|---|---|\n",
       "| 1                                    |  1                                   | Bus Repair Shack                     | Vehicle repair labor                 | \n",
       "| 1                                    |  2                                   | Bus Repair Shack                     | Vehicle maintenance labor            | \n",
       "| 2                                    |  5                                   | VehiCo Parts and Accessories         | Switches                             | \n",
       "| 2                                    |  6                                   | VehiCo Parts and Accessories         | Electrical                           | \n",
       "| 2                                    |  7                                   | VehiCo Parts and Accessories         | Signs & Decals                       | \n",
       "| 2                                    | 12                                   | VehiCo Parts and Accessories         | Seats & Seat Belts                   | \n",
       "| 2                                    | 13                                   | VehiCo Parts and Accessories         | Radio / PA                           | \n",
       "| 2                                    | 16                                   | VehiCo Parts and Accessories         | Child Seats & Restraints             | \n",
       "| 2                                    | 17                                   | VehiCo Parts and Accessories         | Wheelchair Tie-Downs                 | \n",
       "| 3                                    |  3                                   | Fuel Suppliers, Ltd                  | Fuel                                 | \n",
       "| 4                                    |  3                                   | Fuel Associates, Unlimited           | Fuel                                 | \n",
       "| 5                                    |  4                                   | Glass and Sons Glass and Accessories | Lights & Reflectors                  | \n",
       "| 5                                    |  8                                   | Glass and Sons Glass and Accessories | Mirrors                              | \n",
       "| 5                                    | 18                                   | Glass and Sons Glass and Accessories | Glass, Windshields & Windows         | \n",
       "| 5                                    | 19                                   | Glass and Sons Glass and Accessories | Windshield Wipers & Parts            | \n",
       "| 6                                    |  5                                   | Electronics and Repairs              | Switches                             | \n",
       "| 6                                    |  6                                   | Electronics and Repairs              | Electrical                           | \n",
       "| 6                                    | 13                                   | Electronics and Repairs              | Radio / PA                           | \n",
       "| 6                                    | 14                                   | Electronics and Repairs              | Video Camera/Check Systems           | \n",
       "| 7                                    |  7                                   | Clean Sweep Cleaning Supplies        | Signs & Decals                       | \n",
       "| 7                                    | 17                                   | Clean Sweep Cleaning Supplies        | Wheelchair Tie-Downs                 | \n",
       "| 7                                    | 19                                   | Clean Sweep Cleaning Supplies        | Windshield Wipers & Parts            | \n",
       "| 7                                    | 20                                   | Clean Sweep Cleaning Supplies        | Bus Accessories & Cleaning Tools     | \n",
       "| 7                                    | 27                                   | Clean Sweep Cleaning Supplies        | Filters                              | \n",
       "| 7                                    | 28                                   | Clean Sweep Cleaning Supplies        | Exhaust                              | \n",
       "| 8                                    |  9                                   | Engine Mates                         | Heater & Defroster                   | \n",
       "| 8                                    | 21                                   | Engine Mates                         | Thermal Heaters                      | \n",
       "| 8                                    | 24                                   | Engine Mates                         | OEM Body Parts                       | \n",
       "| 8                                    | 25                                   | Engine Mates                         | Brakes                               | \n",
       "| 8                                    | 26                                   | Engine Mates                         | Suspension                           | \n",
       "| ... | ... | ... | ... | \n",
       "|  9                         | 23                         | Safety First               | Body Accessories           | \n",
       "| 10                         | 16                         | Mobility Accessories R Us  | Child Seats & Restraints   | \n",
       "| 10                         | 17                         | Mobility Accessories R Us  | Wheelchair Tie-Downs       | \n",
       "| 10                         | 22                         | Mobility Accessories R Us  | Wheelchair Lift & Mobility | \n",
       "| 10                         | 23                         | Mobility Accessories R Us  | Body Accessories           | \n",
       "| 11                         |  1                         | Tony's Bus Fixer Uppers    | Vehicle repair labor       | \n",
       "| 11                         |  2                         | Tony's Bus Fixer Uppers    | Vehicle maintenance labor  | \n",
       "| 11                         | 24                         | Tony's Bus Fixer Uppers    | OEM Body Parts             | \n",
       "| 12                         |  9                         | Tony's Fixer Upper Buses   | Heater & Defroster         | \n",
       "| 12                         | 12                         | Tony's Fixer Upper Buses   | Seats & Seat Belts         | \n",
       "| 12                         | 13                         | Tony's Fixer Upper Buses   | Radio / PA                 | \n",
       "| 12                         | 15                         | Tony's Fixer Upper Buses   | Seat Repair                | \n",
       "| 12                         | 19                         | Tony's Fixer Upper Buses   | Windshield Wipers & Parts  | \n",
       "| 12                         | 21                         | Tony's Fixer Upper Buses   | Thermal Heaters            | \n",
       "| 12                         | 25                         | Tony's Fixer Upper Buses   | Brakes                     | \n",
       "| 12                         | 27                         | Tony's Fixer Upper Buses   | Filters                    | \n",
       "| 13                         |  9                         | Comfort Rider, GmbH        | Heater & Defroster         | \n",
       "| 13                         | 11                         | Comfort Rider, GmbH        | Safety Equipment (1st Aid) | \n",
       "| 13                         | 12                         | Comfort Rider, GmbH        | Seats & Seat Belts         | \n",
       "| 13                         | 15                         | Comfort Rider, GmbH        | Seat Repair                | \n",
       "| 13                         | 16                         | Comfort Rider, GmbH        | Child Seats & Restraints   | \n",
       "| 13                         | 21                         | Comfort Rider, GmbH        | Thermal Heaters            | \n",
       "| 14                         |  7                         | Doodads and Thingies, Inc. | Signs & Decals             | \n",
       "| 14                         |  9                         | Doodads and Thingies, Inc. | Heater & Defroster         | \n",
       "| 14                         | 14                         | Doodads and Thingies, Inc. | Video Camera/Check Systems | \n",
       "| 14                         | 17                         | Doodads and Thingies, Inc. | Wheelchair Tie-Downs       | \n",
       "| 14                         | 22                         | Doodads and Thingies, Inc. | Wheelchair Lift & Mobility | \n",
       "| 14                         | 23                         | Doodads and Thingies, Inc. | Body Accessories           | \n",
       "| 14                         | 28                         | Doodads and Thingies, Inc. | Exhaust                    | \n",
       "| 15                         |  2                         | The Longevity Crew         | Vehicle maintenance labor  | \n",
       "\n",
       "\n"
      ],
      "text/plain": [
       "    VendorID ExpenseCategoryID VendorName                          \n",
       "1   1         1                Bus Repair Shack                    \n",
       "2   1         2                Bus Repair Shack                    \n",
       "3   2         5                VehiCo Parts and Accessories        \n",
       "4   2         6                VehiCo Parts and Accessories        \n",
       "5   2         7                VehiCo Parts and Accessories        \n",
       "6   2        12                VehiCo Parts and Accessories        \n",
       "7   2        13                VehiCo Parts and Accessories        \n",
       "8   2        16                VehiCo Parts and Accessories        \n",
       "9   2        17                VehiCo Parts and Accessories        \n",
       "10  3         3                Fuel Suppliers, Ltd                 \n",
       "11  4         3                Fuel Associates, Unlimited          \n",
       "12  5         4                Glass and Sons Glass and Accessories\n",
       "13  5         8                Glass and Sons Glass and Accessories\n",
       "14  5        18                Glass and Sons Glass and Accessories\n",
       "15  5        19                Glass and Sons Glass and Accessories\n",
       "16  6         5                Electronics and Repairs             \n",
       "17  6         6                Electronics and Repairs             \n",
       "18  6        13                Electronics and Repairs             \n",
       "19  6        14                Electronics and Repairs             \n",
       "20  7         7                Clean Sweep Cleaning Supplies       \n",
       "21  7        17                Clean Sweep Cleaning Supplies       \n",
       "22  7        19                Clean Sweep Cleaning Supplies       \n",
       "23  7        20                Clean Sweep Cleaning Supplies       \n",
       "24  7        27                Clean Sweep Cleaning Supplies       \n",
       "25  7        28                Clean Sweep Cleaning Supplies       \n",
       "26  8         9                Engine Mates                        \n",
       "27  8        21                Engine Mates                        \n",
       "28  8        24                Engine Mates                        \n",
       "29  8        25                Engine Mates                        \n",
       "30  8        26                Engine Mates                        \n",
       "... ...      ...               ...                                 \n",
       "44   9       23                Safety First                        \n",
       "45  10       16                Mobility Accessories R Us           \n",
       "46  10       17                Mobility Accessories R Us           \n",
       "47  10       22                Mobility Accessories R Us           \n",
       "48  10       23                Mobility Accessories R Us           \n",
       "49  11        1                Tony's Bus Fixer Uppers             \n",
       "50  11        2                Tony's Bus Fixer Uppers             \n",
       "51  11       24                Tony's Bus Fixer Uppers             \n",
       "52  12        9                Tony's Fixer Upper Buses            \n",
       "53  12       12                Tony's Fixer Upper Buses            \n",
       "54  12       13                Tony's Fixer Upper Buses            \n",
       "55  12       15                Tony's Fixer Upper Buses            \n",
       "56  12       19                Tony's Fixer Upper Buses            \n",
       "57  12       21                Tony's Fixer Upper Buses            \n",
       "58  12       25                Tony's Fixer Upper Buses            \n",
       "59  12       27                Tony's Fixer Upper Buses            \n",
       "60  13        9                Comfort Rider, GmbH                 \n",
       "61  13       11                Comfort Rider, GmbH                 \n",
       "62  13       12                Comfort Rider, GmbH                 \n",
       "63  13       15                Comfort Rider, GmbH                 \n",
       "64  13       16                Comfort Rider, GmbH                 \n",
       "65  13       21                Comfort Rider, GmbH                 \n",
       "66  14        7                Doodads and Thingies, Inc.          \n",
       "67  14        9                Doodads and Thingies, Inc.          \n",
       "68  14       14                Doodads and Thingies, Inc.          \n",
       "69  14       17                Doodads and Thingies, Inc.          \n",
       "70  14       22                Doodads and Thingies, Inc.          \n",
       "71  14       23                Doodads and Thingies, Inc.          \n",
       "72  14       28                Doodads and Thingies, Inc.          \n",
       "73  15        2                The Longevity Crew                  \n",
       "    ExpenseCategory                 \n",
       "1   Vehicle repair labor            \n",
       "2   Vehicle maintenance labor       \n",
       "3   Switches                        \n",
       "4   Electrical                      \n",
       "5   Signs & Decals                  \n",
       "6   Seats & Seat Belts              \n",
       "7   Radio / PA                      \n",
       "8   Child Seats & Restraints        \n",
       "9   Wheelchair Tie-Downs            \n",
       "10  Fuel                            \n",
       "11  Fuel                            \n",
       "12  Lights & Reflectors             \n",
       "13  Mirrors                         \n",
       "14  Glass, Windshields & Windows    \n",
       "15  Windshield Wipers & Parts       \n",
       "16  Switches                        \n",
       "17  Electrical                      \n",
       "18  Radio / PA                      \n",
       "19  Video Camera/Check Systems      \n",
       "20  Signs & Decals                  \n",
       "21  Wheelchair Tie-Downs            \n",
       "22  Windshield Wipers & Parts       \n",
       "23  Bus Accessories & Cleaning Tools\n",
       "24  Filters                         \n",
       "25  Exhaust                         \n",
       "26  Heater & Defroster              \n",
       "27  Thermal Heaters                 \n",
       "28  OEM Body Parts                  \n",
       "29  Brakes                          \n",
       "30  Suspension                      \n",
       "... ...                             \n",
       "44  Body Accessories                \n",
       "45  Child Seats & Restraints        \n",
       "46  Wheelchair Tie-Downs            \n",
       "47  Wheelchair Lift & Mobility      \n",
       "48  Body Accessories                \n",
       "49  Vehicle repair labor            \n",
       "50  Vehicle maintenance labor       \n",
       "51  OEM Body Parts                  \n",
       "52  Heater & Defroster              \n",
       "53  Seats & Seat Belts              \n",
       "54  Radio / PA                      \n",
       "55  Seat Repair                     \n",
       "56  Windshield Wipers & Parts       \n",
       "57  Thermal Heaters                 \n",
       "58  Brakes                          \n",
       "59  Filters                         \n",
       "60  Heater & Defroster              \n",
       "61  Safety Equipment (1st Aid)      \n",
       "62  Seats & Seat Belts              \n",
       "63  Seat Repair                     \n",
       "64  Child Seats & Restraints        \n",
       "65  Thermal Heaters                 \n",
       "66  Signs & Decals                  \n",
       "67  Heater & Defroster              \n",
       "68  Video Camera/Check Systems      \n",
       "69  Wheelchair Tie-Downs            \n",
       "70  Wheelchair Lift & Mobility      \n",
       "71  Body Accessories                \n",
       "72  Exhaust                         \n",
       "73  Vehicle maintenance labor       "
      ]
     },
     "metadata": {},
     "output_type": "display_data"
    }
   ],
   "source": [
    "vendorExpenseCategories %>% arrange(VendorID, ExpenseCategoryID)"
   ]
  },
  {
   "cell_type": "markdown",
   "metadata": {},
   "source": [
    "We can easily see how many different categories each vendor offers."
   ]
  },
  {
   "cell_type": "code",
   "execution_count": 11,
   "metadata": {},
   "outputs": [
    {
     "data": {
      "text/html": [
       "<table>\n",
       "<thead><tr><th scope=col>VendorID</th><th scope=col>VendorName</th><th scope=col>n</th></tr></thead>\n",
       "<tbody>\n",
       "\t<tr><td> 1                                  </td><td>Bus Repair Shack                    </td><td> 2                                  </td></tr>\n",
       "\t<tr><td> 2                                  </td><td>VehiCo Parts and Accessories        </td><td> 7                                  </td></tr>\n",
       "\t<tr><td> 3                                  </td><td>Fuel Suppliers, Ltd                 </td><td> 1                                  </td></tr>\n",
       "\t<tr><td> 4                                  </td><td>Fuel Associates, Unlimited          </td><td> 1                                  </td></tr>\n",
       "\t<tr><td> 5                                  </td><td>Glass and Sons Glass and Accessories</td><td> 4                                  </td></tr>\n",
       "\t<tr><td> 6                                  </td><td>Electronics and Repairs             </td><td> 4                                  </td></tr>\n",
       "\t<tr><td> 7                                  </td><td>Clean Sweep Cleaning Supplies       </td><td> 6                                  </td></tr>\n",
       "\t<tr><td> 8                                  </td><td>Engine Mates                        </td><td> 7                                  </td></tr>\n",
       "\t<tr><td> 9                                  </td><td>Safety First                        </td><td>12                                  </td></tr>\n",
       "\t<tr><td>10                                  </td><td>Mobility Accessories R Us           </td><td> 4                                  </td></tr>\n",
       "\t<tr><td>11                                  </td><td>Tony's Bus Fixer Uppers             </td><td> 3                                  </td></tr>\n",
       "\t<tr><td>12                                  </td><td>Tony's Fixer Upper Buses            </td><td> 8                                  </td></tr>\n",
       "\t<tr><td>13                                  </td><td>Comfort Rider, GmbH                 </td><td> 6                                  </td></tr>\n",
       "\t<tr><td>14                                  </td><td>Doodads and Thingies, Inc.          </td><td> 7                                  </td></tr>\n",
       "\t<tr><td>15                                  </td><td>The Longevity Crew                  </td><td> 1                                  </td></tr>\n",
       "</tbody>\n",
       "</table>\n"
      ],
      "text/latex": [
       "\\begin{tabular}{r|lll}\n",
       " VendorID & VendorName & n\\\\\n",
       "\\hline\n",
       "\t  1                                   & Bus Repair Shack                     &  2                                  \\\\\n",
       "\t  2                                   & VehiCo Parts and Accessories         &  7                                  \\\\\n",
       "\t  3                                   & Fuel Suppliers, Ltd                  &  1                                  \\\\\n",
       "\t  4                                   & Fuel Associates, Unlimited           &  1                                  \\\\\n",
       "\t  5                                   & Glass and Sons Glass and Accessories &  4                                  \\\\\n",
       "\t  6                                   & Electronics and Repairs              &  4                                  \\\\\n",
       "\t  7                                   & Clean Sweep Cleaning Supplies        &  6                                  \\\\\n",
       "\t  8                                   & Engine Mates                         &  7                                  \\\\\n",
       "\t  9                                   & Safety First                         & 12                                  \\\\\n",
       "\t 10                                   & Mobility Accessories R Us            &  4                                  \\\\\n",
       "\t 11                                   & Tony's Bus Fixer Uppers              &  3                                  \\\\\n",
       "\t 12                                   & Tony's Fixer Upper Buses             &  8                                  \\\\\n",
       "\t 13                                   & Comfort Rider, GmbH                  &  6                                  \\\\\n",
       "\t 14                                   & Doodads and Thingies, Inc.           &  7                                  \\\\\n",
       "\t 15                                   & The Longevity Crew                   &  1                                  \\\\\n",
       "\\end{tabular}\n"
      ],
      "text/markdown": [
       "\n",
       "VendorID | VendorName | n | \n",
       "|---|---|---|---|---|---|---|---|---|---|---|---|---|---|---|\n",
       "|  1                                   | Bus Repair Shack                     |  2                                   | \n",
       "|  2                                   | VehiCo Parts and Accessories         |  7                                   | \n",
       "|  3                                   | Fuel Suppliers, Ltd                  |  1                                   | \n",
       "|  4                                   | Fuel Associates, Unlimited           |  1                                   | \n",
       "|  5                                   | Glass and Sons Glass and Accessories |  4                                   | \n",
       "|  6                                   | Electronics and Repairs              |  4                                   | \n",
       "|  7                                   | Clean Sweep Cleaning Supplies        |  6                                   | \n",
       "|  8                                   | Engine Mates                         |  7                                   | \n",
       "|  9                                   | Safety First                         | 12                                   | \n",
       "| 10                                   | Mobility Accessories R Us            |  4                                   | \n",
       "| 11                                   | Tony's Bus Fixer Uppers              |  3                                   | \n",
       "| 12                                   | Tony's Fixer Upper Buses             |  8                                   | \n",
       "| 13                                   | Comfort Rider, GmbH                  |  6                                   | \n",
       "| 14                                   | Doodads and Thingies, Inc.           |  7                                   | \n",
       "| 15                                   | The Longevity Crew                   |  1                                   | \n",
       "\n",
       "\n"
      ],
      "text/plain": [
       "   VendorID VendorName                           n \n",
       "1   1       Bus Repair Shack                      2\n",
       "2   2       VehiCo Parts and Accessories          7\n",
       "3   3       Fuel Suppliers, Ltd                   1\n",
       "4   4       Fuel Associates, Unlimited            1\n",
       "5   5       Glass and Sons Glass and Accessories  4\n",
       "6   6       Electronics and Repairs               4\n",
       "7   7       Clean Sweep Cleaning Supplies         6\n",
       "8   8       Engine Mates                          7\n",
       "9   9       Safety First                         12\n",
       "10 10       Mobility Accessories R Us             4\n",
       "11 11       Tony's Bus Fixer Uppers               3\n",
       "12 12       Tony's Fixer Upper Buses              8\n",
       "13 13       Comfort Rider, GmbH                   6\n",
       "14 14       Doodads and Thingies, Inc.            7\n",
       "15 15       The Longevity Crew                    1"
      ]
     },
     "metadata": {},
     "output_type": "display_data"
    }
   ],
   "source": [
    "vendorExpenseCategories %>%\n",
    "    group_by(VendorID, VendorName) %>%\n",
    "    summarize(n = n())"
   ]
  },
  {
   "cell_type": "markdown",
   "metadata": {},
   "source": [
    "We can also see that there are a few sole-source suppliers.  In an audit, we might investigate the reason why we would have sole-source suppliers in these categories."
   ]
  },
  {
   "cell_type": "code",
   "execution_count": 12,
   "metadata": {},
   "outputs": [
    {
     "data": {
      "text/html": [
       "<table>\n",
       "<thead><tr><th scope=col>ExpenseCategoryID</th><th scope=col>ExpenseCategory</th><th scope=col>n</th></tr></thead>\n",
       "<tbody>\n",
       "\t<tr><td> 1                                 </td><td>Vehicle repair labor               </td><td>2                                  </td></tr>\n",
       "\t<tr><td> 2                                 </td><td>Vehicle maintenance labor          </td><td>3                                  </td></tr>\n",
       "\t<tr><td> 3                                 </td><td>Fuel                               </td><td>2                                  </td></tr>\n",
       "\t<tr><td> 4                                                                             </td><td><span style=white-space:pre-wrap>Lights &amp; Reflectors                </span></td><td>2                                                                              </td></tr>\n",
       "\t<tr><td> 5                                 </td><td>Switches                           </td><td>3                                  </td></tr>\n",
       "\t<tr><td> 6                                 </td><td>Electrical                         </td><td>2                                  </td></tr>\n",
       "\t<tr><td> 7                                                                             </td><td><span style=white-space:pre-wrap>Signs &amp; Decals                     </span></td><td>4                                                                              </td></tr>\n",
       "\t<tr><td> 8                                 </td><td>Mirrors                            </td><td>2                                  </td></tr>\n",
       "\t<tr><td> 9                                                                             </td><td><span style=white-space:pre-wrap>Heater &amp; Defroster                 </span></td><td>4                                                                              </td></tr>\n",
       "\t<tr><td>10                                     </td><td>Stop Arms, Crossing Gates &amp; Hatches</td><td>1                                      </td></tr>\n",
       "\t<tr><td>11                                 </td><td>Safety Equipment (1st Aid)         </td><td>2                                  </td></tr>\n",
       "\t<tr><td>12                                                                             </td><td><span style=white-space:pre-wrap>Seats &amp; Seat Belts                 </span></td><td>4                                                                              </td></tr>\n",
       "\t<tr><td>13                                 </td><td>Radio / PA                         </td><td>3                                  </td></tr>\n",
       "\t<tr><td>14                                 </td><td>Video Camera/Check Systems         </td><td>2                                  </td></tr>\n",
       "\t<tr><td>15                                 </td><td>Seat Repair                        </td><td>3                                  </td></tr>\n",
       "\t<tr><td>16                                                                             </td><td><span style=white-space:pre-wrap>Child Seats &amp; Restraints           </span></td><td>3                                                                              </td></tr>\n",
       "\t<tr><td>17                                 </td><td>Wheelchair Tie-Downs               </td><td>5                                  </td></tr>\n",
       "\t<tr><td>18                                                                             </td><td><span style=white-space:pre-wrap>Glass, Windshields &amp; Windows       </span></td><td>1                                                                              </td></tr>\n",
       "\t<tr><td>19                                                                             </td><td><span style=white-space:pre-wrap>Windshield Wipers &amp; Parts          </span></td><td>3                                                                              </td></tr>\n",
       "\t<tr><td>20                                                                             </td><td><span style=white-space:pre-wrap>Bus Accessories &amp; Cleaning Tools   </span></td><td>1                                                                              </td></tr>\n",
       "\t<tr><td>21                                 </td><td>Thermal Heaters                    </td><td>4                                  </td></tr>\n",
       "\t<tr><td>22                                                                             </td><td><span style=white-space:pre-wrap>Wheelchair Lift &amp; Mobility         </span></td><td>3                                                                              </td></tr>\n",
       "\t<tr><td>23                                 </td><td>Body Accessories                   </td><td>3                                  </td></tr>\n",
       "\t<tr><td>24                                 </td><td>OEM Body Parts                     </td><td>2                                  </td></tr>\n",
       "\t<tr><td>25                                 </td><td>Brakes                             </td><td>2                                  </td></tr>\n",
       "\t<tr><td>26                                 </td><td>Suspension                         </td><td>1                                  </td></tr>\n",
       "\t<tr><td>27                                 </td><td>Filters                            </td><td>3                                  </td></tr>\n",
       "\t<tr><td>28                                 </td><td>Exhaust                            </td><td>3                                  </td></tr>\n",
       "</tbody>\n",
       "</table>\n"
      ],
      "text/latex": [
       "\\begin{tabular}{r|lll}\n",
       " ExpenseCategoryID & ExpenseCategory & n\\\\\n",
       "\\hline\n",
       "\t  1                                  & Vehicle repair labor                & 2                                  \\\\\n",
       "\t  2                                  & Vehicle maintenance labor           & 3                                  \\\\\n",
       "\t  3                                  & Fuel                                & 2                                  \\\\\n",
       "\t  4                                    & Lights \\& Reflectors                 & 2                                    \\\\\n",
       "\t  5                                  & Switches                            & 3                                  \\\\\n",
       "\t  6                                  & Electrical                          & 2                                  \\\\\n",
       "\t  7                                    & Signs \\& Decals                      & 4                                    \\\\\n",
       "\t  8                                  & Mirrors                             & 2                                  \\\\\n",
       "\t  9                                    & Heater \\& Defroster                  & 4                                    \\\\\n",
       "\t 10                                    & Stop Arms, Crossing Gates \\& Hatches & 1                                    \\\\\n",
       "\t 11                                  & Safety Equipment (1st Aid)          & 2                                  \\\\\n",
       "\t 12                                    & Seats \\& Seat Belts                  & 4                                    \\\\\n",
       "\t 13                                  & Radio / PA                          & 3                                  \\\\\n",
       "\t 14                                  & Video Camera/Check Systems          & 2                                  \\\\\n",
       "\t 15                                  & Seat Repair                         & 3                                  \\\\\n",
       "\t 16                                    & Child Seats \\& Restraints            & 3                                    \\\\\n",
       "\t 17                                  & Wheelchair Tie-Downs                & 5                                  \\\\\n",
       "\t 18                                    & Glass, Windshields \\& Windows        & 1                                    \\\\\n",
       "\t 19                                    & Windshield Wipers \\& Parts           & 3                                    \\\\\n",
       "\t 20                                    & Bus Accessories \\& Cleaning Tools    & 1                                    \\\\\n",
       "\t 21                                  & Thermal Heaters                     & 4                                  \\\\\n",
       "\t 22                                    & Wheelchair Lift \\& Mobility          & 3                                    \\\\\n",
       "\t 23                                  & Body Accessories                    & 3                                  \\\\\n",
       "\t 24                                  & OEM Body Parts                      & 2                                  \\\\\n",
       "\t 25                                  & Brakes                              & 2                                  \\\\\n",
       "\t 26                                  & Suspension                          & 1                                  \\\\\n",
       "\t 27                                  & Filters                             & 3                                  \\\\\n",
       "\t 28                                  & Exhaust                             & 3                                  \\\\\n",
       "\\end{tabular}\n"
      ],
      "text/markdown": [
       "\n",
       "ExpenseCategoryID | ExpenseCategory | n | \n",
       "|---|---|---|---|---|---|---|---|---|---|---|---|---|---|---|---|---|---|---|---|---|---|---|---|---|---|---|---|\n",
       "|  1                                  | Vehicle repair labor                | 2                                   | \n",
       "|  2                                  | Vehicle maintenance labor           | 3                                   | \n",
       "|  3                                  | Fuel                                | 2                                   | \n",
       "|  4                                  | Lights & Reflectors                 | 2                                   | \n",
       "|  5                                  | Switches                            | 3                                   | \n",
       "|  6                                  | Electrical                          | 2                                   | \n",
       "|  7                                  | Signs & Decals                      | 4                                   | \n",
       "|  8                                  | Mirrors                             | 2                                   | \n",
       "|  9                                  | Heater & Defroster                  | 4                                   | \n",
       "| 10                                  | Stop Arms, Crossing Gates & Hatches | 1                                   | \n",
       "| 11                                  | Safety Equipment (1st Aid)          | 2                                   | \n",
       "| 12                                  | Seats & Seat Belts                  | 4                                   | \n",
       "| 13                                  | Radio / PA                          | 3                                   | \n",
       "| 14                                  | Video Camera/Check Systems          | 2                                   | \n",
       "| 15                                  | Seat Repair                         | 3                                   | \n",
       "| 16                                  | Child Seats & Restraints            | 3                                   | \n",
       "| 17                                  | Wheelchair Tie-Downs                | 5                                   | \n",
       "| 18                                  | Glass, Windshields & Windows        | 1                                   | \n",
       "| 19                                  | Windshield Wipers & Parts           | 3                                   | \n",
       "| 20                                  | Bus Accessories & Cleaning Tools    | 1                                   | \n",
       "| 21                                  | Thermal Heaters                     | 4                                   | \n",
       "| 22                                  | Wheelchair Lift & Mobility          | 3                                   | \n",
       "| 23                                  | Body Accessories                    | 3                                   | \n",
       "| 24                                  | OEM Body Parts                      | 2                                   | \n",
       "| 25                                  | Brakes                              | 2                                   | \n",
       "| 26                                  | Suspension                          | 1                                   | \n",
       "| 27                                  | Filters                             | 3                                   | \n",
       "| 28                                  | Exhaust                             | 3                                   | \n",
       "\n",
       "\n"
      ],
      "text/plain": [
       "   ExpenseCategoryID ExpenseCategory                     n\n",
       "1   1                Vehicle repair labor                2\n",
       "2   2                Vehicle maintenance labor           3\n",
       "3   3                Fuel                                2\n",
       "4   4                Lights & Reflectors                 2\n",
       "5   5                Switches                            3\n",
       "6   6                Electrical                          2\n",
       "7   7                Signs & Decals                      4\n",
       "8   8                Mirrors                             2\n",
       "9   9                Heater & Defroster                  4\n",
       "10 10                Stop Arms, Crossing Gates & Hatches 1\n",
       "11 11                Safety Equipment (1st Aid)          2\n",
       "12 12                Seats & Seat Belts                  4\n",
       "13 13                Radio / PA                          3\n",
       "14 14                Video Camera/Check Systems          2\n",
       "15 15                Seat Repair                         3\n",
       "16 16                Child Seats & Restraints            3\n",
       "17 17                Wheelchair Tie-Downs                5\n",
       "18 18                Glass, Windshields & Windows        1\n",
       "19 19                Windshield Wipers & Parts           3\n",
       "20 20                Bus Accessories & Cleaning Tools    1\n",
       "21 21                Thermal Heaters                     4\n",
       "22 22                Wheelchair Lift & Mobility          3\n",
       "23 23                Body Accessories                    3\n",
       "24 24                OEM Body Parts                      2\n",
       "25 25                Brakes                              2\n",
       "26 26                Suspension                          1\n",
       "27 27                Filters                             3\n",
       "28 28                Exhaust                             3"
      ]
     },
     "metadata": {},
     "output_type": "display_data"
    }
   ],
   "source": [
    "vendorExpenseCategories %>%\n",
    "    group_by(ExpenseCategoryID, ExpenseCategory) %>%\n",
    "    summarize(n = n())"
   ]
  },
  {
   "cell_type": "markdown",
   "metadata": {},
   "source": [
    "## Growth Analysis\n",
    "\n",
    "In this section, we want to see how things have changed over time.\n",
    "\n",
    "### Active Buses\n",
    "\n",
    "The first thing we will look at is how many active buses the agency has at its disposal each year.  To make things simpler, we add new buses and take buses out of service once a year."
   ]
  },
  {
   "cell_type": "code",
   "execution_count": 13,
   "metadata": {},
   "outputs": [],
   "source": [
    "activeBuses <- DBI::dbGetQuery(conn, \"SELECT\n",
    "\tc.CalendarYear,\n",
    "\tCOUNT(*) AS NumberOfBuses\n",
    "FROM dbo.Bus b\n",
    "\tINNER JOIN dbo.Calendar c\n",
    "\t\tON b.DateFirstInService <= c.Date\n",
    "\t\tAND ISNULL(b.DateRetired, '2018-12-31') >= c.Date\n",
    "WHERE\n",
    "\tc.CalendarDayOfYear = 1\n",
    "\tAND c.CalendarYear >= 2011\n",
    "\tAND c.CalendarYear < 2019\n",
    "GROUP BY\n",
    "\tc.CalendarYear\n",
    "ORDER BY\n",
    "\tc.CalendarYear;\")"
   ]
  },
  {
   "cell_type": "code",
   "execution_count": 14,
   "metadata": {},
   "outputs": [
    {
     "data": {},
     "metadata": {},
     "output_type": "display_data"
    },
    {
     "data": {
      "image/png": "[encoded data removed]",
      "text/plain": [
       "plot without title"
      ]
     },
     "metadata": {},
     "output_type": "display_data"
    }
   ],
   "source": [
    "options(repr.plot.width=6, repr.plot.height=4) \n",
    "ggplot(activeBuses, aes(x = CalendarYear, y = NumberOfBuses)) +\n",
    "    geom_point() +\n",
    "    geom_line() +\n",
    "    labs(x = \"Calendar Year\", y = \"Number of Buses\", title = \"Number of Buses by Year\") +\n",
    "    ylim(0, 500) +\n",
    "    theme_minimal()"
   ]
  },
  {
   "cell_type": "markdown",
   "metadata": {},
   "source": [
    "We see a steady increase in the number of buses by year.  The number of buses is likely the biggest driver for our expenses, so we'd expect to see similar growth over time in expenses."
   ]
  },
  {
   "cell_type": "markdown",
   "metadata": {},
   "source": [
    "### Invoices Per Year\n",
    "\n",
    "The next thing we want to look at is the number of invoices per year our staff handle."
   ]
  },
  {
   "cell_type": "code",
   "execution_count": 15,
   "metadata": {},
   "outputs": [],
   "source": [
    "invoicesPerYear <- DBI::dbGetQuery(conn, \"SELECT\n",
    "\tc.CalendarYear,\n",
    "\tCOUNT(*) AS NumberOfInvoices\n",
    "FROM dbo.LineItem li\n",
    "\tINNER JOIN dbo.Calendar c\n",
    "\t\tON li.LineItemDate = c.Date\n",
    "GROUP BY\n",
    "\tc.CalendarYear\n",
    "ORDER BY\n",
    "\tc.CalendarYear;\")"
   ]
  },
  {
   "cell_type": "code",
   "execution_count": 16,
   "metadata": {},
   "outputs": [
    {
     "data": {},
     "metadata": {},
     "output_type": "display_data"
    },
    {
     "data": {
      "image/png": "[encoded data removed]",
      "text/plain": [
       "plot without title"
      ]
     },
     "metadata": {},
     "output_type": "display_data"
    }
   ],
   "source": [
    "ggplot(invoicesPerYear, aes(x = CalendarYear, y = NumberOfInvoices)) +\n",
    "    geom_point() +\n",
    "    geom_line() +\n",
    "    labs(x = \"Calendar Year\", y = \"Number of Invoices\", title = \"Number of Invoices by Year\") +\n",
    "    theme_minimal()"
   ]
  },
  {
   "cell_type": "markdown",
   "metadata": {},
   "source": [
    "We can see steady growth through most of the time frame but a huge spike in 2018.  This looks very weird."
   ]
  },
  {
   "cell_type": "markdown",
   "metadata": {},
   "source": [
    "### Expenditures Per Year\n",
    "\n",
    "Knowing that we saw a spike in invoices it would also be illustrative to review the amount of money we spend per year."
   ]
  },
  {
   "cell_type": "code",
   "execution_count": 17,
   "metadata": {},
   "outputs": [],
   "source": [
    "expendituresPerYear <- DBI::dbGetQuery(conn, \"SELECT\n",
    "\tc.CalendarYear,\n",
    "\tSUM(li.Amount) AS TotalInvoicedAmount\n",
    "FROM dbo.LineItem li\n",
    "\tINNER JOIN dbo.Calendar c\n",
    "\t\tON li.LineItemDate = c.Date\n",
    "GROUP BY\n",
    "\tc.CalendarYear\n",
    "ORDER BY\n",
    "\tc.CalendarYear;\")"
   ]
  },
  {
   "cell_type": "code",
   "execution_count": 18,
   "metadata": {},
   "outputs": [
    {
     "data": {},
     "metadata": {},
     "output_type": "display_data"
    },
    {
     "data": {
      "image/png": "[encoded data removed]",
      "text/plain": [
       "plot without title"
      ]
     },
     "metadata": {},
     "output_type": "display_data"
    }
   ],
   "source": [
    "ggplot(expendituresPerYear, aes(x = CalendarYear, y = TotalInvoicedAmount)) +\n",
    "    geom_point() +\n",
    "    geom_line() +\n",
    "    scale_y_continuous(labels = scales::dollar) +\n",
    "    labs(x = \"Calendar Year\", y = \"Total Invoiced Amount\", title = \"Total Invoiced Amount by Year\") +\n",
    "    theme_minimal()"
   ]
  },
  {
   "cell_type": "markdown",
   "metadata": {},
   "source": [
    "This is looking suspicious.  We were a little under \\$1 million in 2017 and jump up over \\$2 million in 2018.  Yes, there are more buses in the fleet in 2018 but that's a sharp incline.  We'll need to do more research and get back to it."
   ]
  }
 ],
 "metadata": {
  "kernelspec": {
   "display_name": "R",
   "language": "R",
   "name": "ir"
  },
  "language_info": {
   "codemirror_mode": "r",
   "file_extension": ".r",
   "mimetype": "text/x-r-source",
   "name": "R",
   "pygments_lexer": "r",
   "version": "3.5.1"
  }
 },
 "nbformat": 4,
 "nbformat_minor": 2
}
