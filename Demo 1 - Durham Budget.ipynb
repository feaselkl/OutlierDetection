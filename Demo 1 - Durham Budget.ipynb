{
 "cells": [
  {
   "cell_type": "markdown",
   "metadata": {},
   "source": [
    "# Demo 1 - Durham Budget"
   ]
  },
  {
   "cell_type": "markdown",
   "metadata": {},
   "source": [
    "In this demo, we will perform some basic growth analysis on the city of Durham, North Carolina's annual budgets from 2010-2015.  This will allow us to familiarize ourselves with some of the basics of growth analysis, including generating and charting percent changes by category.\n",
    "\n",
    "We will first load some packages, including the tidyverse package (which installs a large number of packages) and formattable."
   ]
  },
  {
   "cell_type": "code",
   "execution_count": null,
   "metadata": {
    "collapsed": false
   },
   "outputs": [],
   "source": [
    "install.packages(\"lazyeval\", repos = \"http://cran.us.r-project.org\")\n",
    "install.packages(\"tidyverse\", repos = \"http://cran.us.r-project.org\")\n",
    "install.packages(\"formattable\", repos = \"http://cran.us.r-project.org\")"
   ]
  },
  {
   "cell_type": "code",
   "execution_count": null,
   "metadata": {
    "collapsed": false
   },
   "outputs": [],
   "source": [
    "library(lazyeval)\n",
    "library(tidyverse)\n",
    "library(formattable)"
   ]
  },
  {
   "cell_type": "markdown",
   "metadata": {},
   "source": [
    "We will load the data set from the Data directory.  This is a semi-colon delimited file but otherwise is pretty clean data."
   ]
  },
  {
   "cell_type": "code",
   "execution_count": null,
   "metadata": {
    "collapsed": true
   },
   "outputs": [],
   "source": [
    "durham.budget.raw <- read.csv('Data/DurhamBudget2015.csv', sep=\";\")"
   ]
  },
  {
   "cell_type": "markdown",
   "metadata": {},
   "source": [
    "We will grab the first several rows just to get an idea of what the data frame looks like."
   ]
  },
  {
   "cell_type": "code",
   "execution_count": null,
   "metadata": {
    "collapsed": false
   },
   "outputs": [],
   "source": [
    "head(durham.budget.raw)"
   ]
  },
  {
   "cell_type": "markdown",
   "metadata": {},
   "source": [
    "We can see that this is *not* a tidy data set.  Notice the FY.##.Actual and FY.##.Bud values.  This kind of wide table is common for third-party data sets, but isn't great for our analysis.  Let's use the *gather* and *separate* functions (from dplyr, part of the tidyverse) to turn this into a more classical data set."
   ]
  },
  {
   "cell_type": "code",
   "execution_count": null,
   "metadata": {
    "collapsed": true
   },
   "outputs": [],
   "source": [
    "durham.budget <- durham.budget.raw %>%\n",
    "                  filter(!grepl(\"Total\", Fund)) %>%\n",
    "                  #Use gather to unpviot our actuals & estimates by fiscal year into a single column\n",
    "                  gather(FY, Amount, FY.10.Actual:FY.15.YTD.Actual, na.rm = TRUE) %>%\n",
    "                  #Separate out whether the budget is actuals or budgeted values\n",
    "                  separate(FY, c(\"FiscalYear\", \"BudgetType\"), 6)"
   ]
  },
  {
   "cell_type": "markdown",
   "metadata": {},
   "source": [
    "This is an intermediate step, but let's take a quick look at how the data looks right now:"
   ]
  },
  {
   "cell_type": "code",
   "execution_count": null,
   "metadata": {
    "collapsed": false
   },
   "outputs": [],
   "source": [
    "head(durham.budget, 3)"
   ]
  },
  {
   "cell_type": "markdown",
   "metadata": {},
   "source": [
    "FiscalYear is pretty nice, but we want to turn it into a year number.  Then let's do some more data type cleanup."
   ]
  },
  {
   "cell_type": "code",
   "execution_count": null,
   "metadata": {
    "collapsed": true
   },
   "outputs": [],
   "source": [
    "durham.budget$FiscalYear <- paste(\"20\", substring(durham.budget$FiscalYear, 4, 5), sep=\"\")\n",
    "\n",
    "durham.budget$Fund <- as.character(durham.budget$Fund)\n",
    "durham.budget$Fund_Desc <- as.character(durham.budget$Fund_Desc)\n",
    "durham.budget$Dept <- as.character(durham.budget$Dept)\n",
    "durham.budget$Dept.Name <- as.character(durham.budget$Dept.Name)\n",
    "durham.budget$Char.Code <- as.character(durham.budget$Char.Code)\n",
    "durham.budget$FiscalYear <- as.numeric(durham.budget$FiscalYear)\n",
    "durham.budget$BudgetType <- as.factor(durham.budget$BudgetType)"
   ]
  },
  {
   "cell_type": "markdown",
   "metadata": {},
   "source": [
    "We now have some cleaned up data, so let's filter out to get just the actuals.  Note that this filters out 2015 YTD actuals, which is what we want:  FY15 isn't done yet in our data sample."
   ]
  },
  {
   "cell_type": "code",
   "execution_count": null,
   "metadata": {
    "collapsed": true
   },
   "outputs": [],
   "source": [
    "durham.budget.actuals <- durham.budget %>%\n",
    "                          filter(BudgetType == \"Actual\")"
   ]
  },
  {
   "cell_type": "markdown",
   "metadata": {},
   "source": [
    "The first thing we want to look at is dollar amounts."
   ]
  },
  {
   "cell_type": "code",
   "execution_count": null,
   "metadata": {
    "collapsed": false
   },
   "outputs": [],
   "source": [
    "ggplot(data=durham.budget.actuals, aes(x=FiscalYear, y=Amount, group=1)) +\n",
    "  stat_summary(geom=\"bar\", fun.y = sum) +\n",
    "  scale_y_continuous(expand = c(0, 0), limits = c(0, 420000000), labels = scales::dollar)"
   ]
  },
  {
   "cell_type": "markdown",
   "metadata": {},
   "source": [
    "The dollar amount looks pretty consistent.  2010 is a bit lower than the other years, but not outlandishly different.\n",
    "\n",
    "Let's look at the totals in log-normal form to get a clearer idea of the rate of change."
   ]
  },
  {
   "cell_type": "code",
   "execution_count": null,
   "metadata": {
    "collapsed": false
   },
   "outputs": [],
   "source": [
    "durham.budget.summary <- durham.budget.actuals %>%\n",
    "                          group_by(FiscalYear, Dept.Name) %>%\n",
    "                          summarize(Total = sum(Amount)) %>%\n",
    "                          arrange(Dept.Name, FiscalYear)\n",
    "\n",
    "head(durham.budget.summary, 10)"
   ]
  },
  {
   "cell_type": "markdown",
   "metadata": {},
   "source": [
    "What we have done so far is group the actuals by department name.\n",
    "\n",
    "We can calculate percentage growth using one neat trick.\n",
    "http://stackoverflow.com/questions/19824601/how-calculate-growth-rate-in-long-format-data-frame"
   ]
  },
  {
   "cell_type": "code",
   "execution_count": null,
   "metadata": {
    "collapsed": false
   },
   "outputs": [],
   "source": [
    "durham.growth <- plyr::ddply(durham.budget.summary, \"Dept.Name\", transform,\n",
    "                             Percent.Change = c(0, exp(diff(log(Total))) - 1))\n",
    "\n",
    "head(durham.growth, 10)"
   ]
  },
  {
   "cell_type": "markdown",
   "metadata": {},
   "source": [
    "Now we can reconstitute the annual budget values to look for patterns."
   ]
  },
  {
   "cell_type": "code",
   "execution_count": null,
   "metadata": {
    "collapsed": false
   },
   "outputs": [],
   "source": [
    "budget.table <- durham.budget.summary %>%\n",
    "                  mutate(Total = currency(Total, digits = 0)) %>%\n",
    "                  spread(FiscalYear, Total) %>%\n",
    "                  mutate(Diff = (`2014`-`2010`))\n",
    "budget.table"
   ]
  },
  {
   "cell_type": "markdown",
   "metadata": {},
   "source": [
    "It seems interesting that Human Relations fell off a cliff after 2011.  What's up with this?"
   ]
  },
  {
   "cell_type": "code",
   "execution_count": null,
   "metadata": {
    "collapsed": false
   },
   "outputs": [],
   "source": [
    "durham.budget %>%\n",
    "  filter(Dept.Name == \"HUMAN RELATIONS\") %>%\n",
    "  spread(BudgetType, Amount) %>%\n",
    "  arrange(FiscalYear, Fund_Desc, Char.Code)"
   ]
  },
  {
   "cell_type": "markdown",
   "metadata": {},
   "source": [
    "Looks like it was originally budgeted for FY 12 but stripped from the revised budget and never returned.\n",
    "\n",
    "So with Human Relations dropping off so much, let's see what are the major drivers behind budget growth post-2010."
   ]
  },
  {
   "cell_type": "code",
   "execution_count": null,
   "metadata": {
    "collapsed": false
   },
   "outputs": [],
   "source": [
    "budget.table %>%\n",
    "  select(Dept.Name, `2010`, `2014`, Diff) %>%\n",
    "  arrange(desc(Diff))"
   ]
  },
  {
   "cell_type": "markdown",
   "metadata": {},
   "source": [
    "Human Relations dropped off the map, but Human Resources shot up.  What's up with that?"
   ]
  },
  {
   "cell_type": "code",
   "execution_count": null,
   "metadata": {
    "collapsed": false
   },
   "outputs": [],
   "source": [
    "durham.budget %>%\n",
    "  filter(Dept.Name == \"HUMAN RESOURCES\") %>%\n",
    "  spread(BudgetType, Amount) %>%\n",
    "  arrange(FiscalYear, Fund_Desc, Char.Code)"
   ]
  },
  {
   "cell_type": "markdown",
   "metadata": {},
   "source": [
    "There's an employee insurance fund which took off in 2011.  Prior to that, looks like it was listed in the general fund as operating expenses.  Interesting that it jumped $15m per year!\n",
    "\n",
    "Let's look at the top ten departments in the 2014 budget."
   ]
  },
  {
   "cell_type": "code",
   "execution_count": null,
   "metadata": {
    "collapsed": true
   },
   "outputs": [],
   "source": [
    "top.ten <- durham.budget.summary %>%\n",
    "  filter(FiscalYear == 2014) %>%\n",
    "  arrange(desc(Total)) %>%\n",
    "  head(10)"
   ]
  },
  {
   "cell_type": "markdown",
   "metadata": {},
   "source": [
    "Let's get the percent change for the ten biggest departments."
   ]
  },
  {
   "cell_type": "code",
   "execution_count": null,
   "metadata": {
    "collapsed": false
   },
   "outputs": [],
   "source": [
    "durham.percent.change <- durham.growth %>%\n",
    "  mutate(Percent.Change = 100.0 * Percent.Change) %>%\n",
    "  merge(top.ten, by = \"Dept.Name\") %>%\n",
    "  select(FiscalYear = FiscalYear.x, Dept.Name, Percent.Change)\n",
    "\n",
    "durham.percent.change %>%\n",
    "  spread(FiscalYear, Percent.Change)"
   ]
  },
  {
   "cell_type": "code",
   "execution_count": null,
   "metadata": {
    "collapsed": false
   },
   "outputs": [],
   "source": [
    "ggplot(data=durham.percent.change, aes(x=FiscalYear, y=Percent.Change, group=Dept.Name, color=Dept.Name)) +\n",
    "  geom_line()"
   ]
  },
  {
   "cell_type": "markdown",
   "metadata": {},
   "source": [
    "We can see the giant bump in the HR budget in 2011 and the corresponding drop in the General Services budget."
   ]
  },
  {
   "cell_type": "code",
   "execution_count": null,
   "metadata": {
    "collapsed": true
   },
   "outputs": [],
   "source": []
  }
 ],
 "metadata": {
  "kernelspec": {
   "display_name": "R",
   "language": "R",
   "name": "ir"
  },
  "language_info": {
   "codemirror_mode": "r",
   "file_extension": ".r",
   "mimetype": "text/x-r-source",
   "name": "R",
   "pygments_lexer": "r",
   "version": "3.3.2"
  }
 },
 "nbformat": 4,
 "nbformat_minor": 2
}
