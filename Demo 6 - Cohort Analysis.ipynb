{
 "cells": [
  {
   "cell_type": "markdown",
   "metadata": {},
   "source": [
    "# Demo 6 - Cohort Analysis"
   ]
  },
  {
   "cell_type": "markdown",
   "metadata": {},
   "source": [
    "In the last notebook, we noticed that there were two beats with a significantly larger number of MISC instances than anyone else.  Let's dig into this!"
   ]
  },
  {
   "cell_type": "code",
   "execution_count": null,
   "metadata": {
    "collapsed": false
   },
   "outputs": [],
   "source": [
    "!pip install pyodbc"
   ]
  },
  {
   "cell_type": "markdown",
   "metadata": {},
   "source": [
    "To load pyodbc, we can use the **import** statement."
   ]
  },
  {
   "cell_type": "code",
   "execution_count": null,
   "metadata": {
    "collapsed": true
   },
   "outputs": [],
   "source": [
    "import pyodbc"
   ]
  },
  {
   "cell_type": "code",
   "execution_count": null,
   "metadata": {
    "collapsed": false
   },
   "outputs": [],
   "source": [
    "!pip install ipython-sql"
   ]
  },
  {
   "cell_type": "markdown",
   "metadata": {},
   "source": [
    "To use SQL magic, we will need to run the following load command."
   ]
  },
  {
   "cell_type": "code",
   "execution_count": null,
   "metadata": {
    "collapsed": false
   },
   "outputs": [],
   "source": [
    "%load_ext sql"
   ]
  },
  {
   "cell_type": "markdown",
   "metadata": {},
   "source": [
    "We next need to connect to the OutlierDetection ODBC source."
   ]
  },
  {
   "cell_type": "code",
   "execution_count": null,
   "metadata": {
    "collapsed": false
   },
   "outputs": [],
   "source": [
    "%sql mssql+pyodbc://OutlierDetection"
   ]
  },
  {
   "cell_type": "markdown",
   "metadata": {},
   "source": [
    "This query gives me the number of incidents by beat where the incident type fits into the category \"miscellaneous.\""
   ]
  },
  {
   "cell_type": "code",
   "execution_count": null,
   "metadata": {
    "collapsed": false
   },
   "outputs": [],
   "source": [
    "%%sql\n",
    "SELECT\n",
    "\ti.BeatID,\n",
    "\tCOUNT(1) AS NumberOfIncidents\n",
    "FROM Raleigh2014.Incident i\n",
    "\tINNER JOIN Raleigh2014.IncidentCode ic\n",
    "\t\tON i.IncidentCode = ic.IncidentCode\n",
    "\tINNER JOIN Raleigh2014.IncidentType it\n",
    "\t\tON ic.IncidentTypeID = it.IncidentTypeID\n",
    "WHERE\n",
    "\tit.IncidentType = 'MISC'\n",
    "GROUP BY\n",
    "\ti.BeatID\n",
    "ORDER BY\n",
    "\tNumberOfIncidents DESC;"
   ]
  },
  {
   "cell_type": "markdown",
   "metadata": {},
   "source": [
    "We can now see that beats 2403 and 2402 are huge outliers:  2403 is 3x as big as the third-biggest row, and 2402 is about 1.5 times bigger than the third-biggest row.  This...seems odd.  The next question is, what is so special about beat 2403?  Let's take a closer look at the individual incident descriptions to see if we can figure something out."
   ]
  },
  {
   "cell_type": "code",
   "execution_count": null,
   "metadata": {
    "collapsed": false
   },
   "outputs": [],
   "source": [
    "%%sql\n",
    "SELECT\n",
    "\tic.IncidentDescription,\n",
    "\tCOUNT(1) AS NumberOfIncidents\n",
    "FROM Raleigh2014.Incident i\n",
    "\tINNER JOIN Raleigh2014.IncidentCode ic\n",
    "\t\tON i.IncidentCode = ic.IncidentCode\n",
    "\tINNER JOIN Raleigh2014.IncidentType it\n",
    "\t\tON ic.IncidentTypeID = it.IncidentTypeID\n",
    "WHERE\n",
    "\ti.BeatID = 2403\n",
    "\tAND it.IncidentType = 'MISC'\n",
    "GROUP BY\n",
    "\tic.IncidentDescription\n",
    "ORDER BY\n",
    "\tNumberOfIncidents DESC,\n",
    "\tIncidentDescription;\n"
   ]
  },
  {
   "cell_type": "markdown",
   "metadata": {},
   "source": [
    "Now it makes sense:  almost all of the miscellaneous types involve mental commmitment.  4543 records is, by itself, the difference between being an extreme outlier versus being within the inter-quartile range.\n",
    "\n",
    "So what about beat 2402?  Will we see something similar?"
   ]
  },
  {
   "cell_type": "code",
   "execution_count": null,
   "metadata": {
    "collapsed": false
   },
   "outputs": [],
   "source": [
    "%%sql\n",
    "SELECT\n",
    "\tic.IncidentDescription,\n",
    "\tCOUNT(1) AS NumberOfIncidents\n",
    "FROM Raleigh2014.Incident i\n",
    "\tINNER JOIN Raleigh2014.IncidentCode ic\n",
    "\t\tON i.IncidentCode = ic.IncidentCode\n",
    "\tINNER JOIN Raleigh2014.IncidentType it\n",
    "\t\tON ic.IncidentTypeID = it.IncidentTypeID\n",
    "WHERE\n",
    "\ti.BeatID = 2402\n",
    "\tAND it.IncidentType = 'MISC'\n",
    "GROUP BY\n",
    "\tic.IncidentDescription\n",
    "ORDER BY\n",
    "\tNumberOfIncidents DESC,\n",
    "\tIncidentDescription;"
   ]
  },
  {
   "cell_type": "markdown",
   "metadata": {
    "collapsed": true
   },
   "source": [
    "As we can see here, mental commitment is definitely the cause of these two beats being extreme outliers.  My conjecture is that there is a mental health facility somewhere around beats 2402 and 2403.  The way we can get latitudes and longitudes for various incidents on this beat.  We are going to focus only on the mental committment cases. "
   ]
  },
  {
   "cell_type": "code",
   "execution_count": null,
   "metadata": {
    "collapsed": false
   },
   "outputs": [],
   "source": [
    "%%sql\n",
    "SELECT\n",
    "\tCAST(i.IncidentLocation.Lat AS DECIMAL(5,2)) AS Latitude,\n",
    "\tCAST(i.IncidentLocation.Long AS DECIMAL(5,2)) AS Longitude,\n",
    "\tCOUNT(1) AS NumberOfIncidents\n",
    "FROM Raleigh2014.Incident i\n",
    "\tINNER JOIN Raleigh2014.IncidentCode ic\n",
    "\t\tON i.IncidentCode = ic.IncidentCode\n",
    "\tINNER JOIN Raleigh2014.IncidentType it\n",
    "\t\tON ic.IncidentTypeID = it.IncidentTypeID\n",
    "WHERE\n",
    "\ti.BeatID IN (2403, 2402)\n",
    "\tAND it.IncidentType = 'MISC'\n",
    "\tAND ic.IncidentDescription = 'MISC/MENTAL COMMITMENT'\n",
    "GROUP BY\n",
    "\tCAST(i.IncidentLocation.Lat AS DECIMAL(5,2)),\n",
    "\tCAST(i.IncidentLocation.Long AS DECIMAL(5,2))\n",
    "ORDER BY\n",
    "\tNumberOfIncidents DESC;"
   ]
  },
  {
   "cell_type": "markdown",
   "metadata": {},
   "source": [
    "Now let's plot a Google map centered around 35.78, -78.59.  There should probably be a mental health facility here."
   ]
  },
  {
   "cell_type": "markdown",
   "metadata": {},
   "source": [
    "![Google map showing pinpoints at (35.78, -78.59) and surroundings.](Images/MentalHealthMapSmall.png)"
   ]
  },
  {
   "cell_type": "markdown",
   "metadata": {},
   "source": [
    "As we can see, Wake County Human Services is right between our two main lat-long pairs, and there is an addiction treatment center slightly north.  This explains the massive discrepancy between these two beats and the rest."
   ]
  },
  {
   "cell_type": "code",
   "execution_count": null,
   "metadata": {
    "collapsed": true
   },
   "outputs": [],
   "source": []
  }
 ],
 "metadata": {
  "kernelspec": {
   "display_name": "Python 3",
   "language": "python",
   "name": "python3"
  },
  "language_info": {
   "codemirror_mode": {
    "name": "ipython",
    "version": 3
   },
   "file_extension": ".py",
   "mimetype": "text/x-python",
   "name": "python",
   "nbconvert_exporter": "python",
   "pygments_lexer": "ipython3",
   "version": "3.6.0"
  }
 },
 "nbformat": 4,
 "nbformat_minor": 2
}
