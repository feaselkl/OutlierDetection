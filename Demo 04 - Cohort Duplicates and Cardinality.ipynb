{
 "cells": [
  {
   "cell_type": "markdown",
   "metadata": {},
   "source": [
    "# Demo 03 - Duplicates and Cardinality\n",
    "\n",
    "In the first notebook, we saw some fishy behavior with respect to increases in expenses in the year 2018 versus prior years.  Now let's use a couple tools at our disposal to delve further into the problem."
   ]
  },
  {
   "cell_type": "code",
   "execution_count": 1,
   "metadata": {},
   "outputs": [
    {
     "name": "stderr",
     "output_type": "stream",
     "text": [
      "Loading required package: tidyverse\n",
      "Warning message:\n",
      "\"package 'tidyverse' was built under R version 3.5.2\"-- Attaching packages --------------------------------------- tidyverse 1.2.1 --\n",
      "v ggplot2 3.1.0     v purrr   0.2.5\n",
      "v tibble  1.4.2     v dplyr   0.7.6\n",
      "v tidyr   0.8.1     v stringr 1.3.1\n",
      "v readr   1.1.1     v forcats 0.3.0\n",
      "Warning message:\n",
      "\"package 'ggplot2' was built under R version 3.5.2\"-- Conflicts ------------------------------------------ tidyverse_conflicts() --\n",
      "x dplyr::filter() masks stats::filter()\n",
      "x dplyr::lag()    masks stats::lag()\n",
      "Loading required package: odbc\n",
      "Warning message:\n",
      "\"package 'odbc' was built under R version 3.5.3\"Loading required package: data.table\n",
      "\n",
      "Attaching package: 'data.table'\n",
      "\n",
      "The following objects are masked from 'package:dplyr':\n",
      "\n",
      "    between, first, last\n",
      "\n",
      "The following object is masked from 'package:purrr':\n",
      "\n",
      "    transpose\n",
      "\n"
     ]
    }
   ],
   "source": [
    "if(!require(tidyverse)) {\n",
    "    install.packages(\"tidyverse\", repos = \"http://cran.us.r-project.org\")\n",
    "    library(tidyverse)\n",
    "}\n",
    "\n",
    "if(!require(odbc)) {\n",
    "    install.packages(\"odbc\", repos = \"http://cran.us.r-project.org\")\n",
    "    library(odbc)\n",
    "}\n",
    "\n",
    "if(!require(data.table)) {\n",
    "  install.packages(\"data.table\", repos = \"http://cran.us.r-project.org\")\n",
    "  library(data.table)\n",
    "}"
   ]
  },
  {
   "cell_type": "markdown",
   "metadata": {},
   "source": [
    "## Count of Invoices by Day\n",
    "\n",
    "The first thing we want to do is see how many invoices we get per bus, vendor, and day.  Our organization requires vendors send one invoice per bus maintenance item, so we generally expect no more than one invoice per combination of bus, vendor, and day.  After all, invoices can get lost in the shuffle and creating more than one is inefficient."
   ]
  },
  {
   "cell_type": "code",
   "execution_count": 2,
   "metadata": {},
   "outputs": [],
   "source": [
    "conn <- DBI::dbConnect(odbc::odbc(), \n",
    "                      Driver = \"SQL Server\", \n",
    "                      Server = \"localhost\", \n",
    "                      Database = \"ForensicAccounting\", \n",
    "                      Trusted_Connection = \"True\")"
   ]
  },
  {
   "cell_type": "code",
   "execution_count": 3,
   "metadata": {},
   "outputs": [],
   "source": [
    "dupes <- DBI::dbGetQuery(conn, \"WITH records AS\n",
    "(\n",
    "\tSELECT\n",
    "\t\tli.LineItemDate,\n",
    "\t\tli.BusID,\n",
    "\t\tli.VendorID,\n",
    "\t\tCOUNT(*) AS NumberOfInvoices\n",
    "\tFROM dbo.LineItem li\n",
    "\tGROUP BY\n",
    "\t\tli.LineItemDate,\n",
    "\t\tli.BusID,\n",
    "\t\tli.VendorID\n",
    ")\n",
    "SELECT\n",
    "\tNumberOfInvoices,\n",
    "\tCOUNT(*) AS NumberOfOccurrences\n",
    "FROM records\n",
    "GROUP BY\n",
    "\tNumberOfInvoices\n",
    "ORDER BY\n",
    "\tNumberOfInvoices;\")"
   ]
  },
  {
   "cell_type": "code",
   "execution_count": 4,
   "metadata": {},
   "outputs": [
    {
     "data": {
      "text/html": [
       "<table>\n",
       "<thead><tr><th scope=col>NumberOfInvoices</th><th scope=col>NumberOfOccurrences</th></tr></thead>\n",
       "<tbody>\n",
       "\t<tr><td>1    </td><td>37224</td></tr>\n",
       "\t<tr><td>2    </td><td>  118</td></tr>\n",
       "\t<tr><td>3    </td><td>    1</td></tr>\n",
       "</tbody>\n",
       "</table>\n"
      ],
      "text/latex": [
       "\\begin{tabular}{r|ll}\n",
       " NumberOfInvoices & NumberOfOccurrences\\\\\n",
       "\\hline\n",
       "\t 1     & 37224\\\\\n",
       "\t 2     &   118\\\\\n",
       "\t 3     &     1\\\\\n",
       "\\end{tabular}\n"
      ],
      "text/markdown": [
       "\n",
       "NumberOfInvoices | NumberOfOccurrences | \n",
       "|---|---|---|\n",
       "| 1     | 37224 | \n",
       "| 2     |   118 | \n",
       "| 3     |     1 | \n",
       "\n",
       "\n"
      ],
      "text/plain": [
       "  NumberOfInvoices NumberOfOccurrences\n",
       "1 1                37224              \n",
       "2 2                  118              \n",
       "3 3                    1              "
      ]
     },
     "metadata": {},
     "output_type": "display_data"
    }
   ],
   "source": [
    "dupes"
   ]
  },
  {
   "cell_type": "markdown",
   "metadata": {},
   "source": [
    "It looks like for the vast majority of the time, we see one invoice per bus, vendor, and day.  118 times we have 2 invoices and we got three invoices on a single day once.  It might be interesting to see who's sending us multiple invoices so let's do that."
   ]
  },
  {
   "cell_type": "code",
   "execution_count": 5,
   "metadata": {},
   "outputs": [],
   "source": [
    "dupeSenders <- DBI::dbGetQuery(conn, \"WITH records AS\n",
    "(\n",
    "\tSELECT\n",
    "\t\tli.LineItemDate,\n",
    "\t\tli.BusID,\n",
    "\t\tli.VendorID,\n",
    "\t\tCOUNT(*) AS NumberOfInvoices\n",
    "\tFROM dbo.LineItem li\n",
    "\tGROUP BY\n",
    "\t\tli.LineItemDate,\n",
    "\t\tli.BusID,\n",
    "\t\tli.VendorID\n",
    ")\n",
    "SELECT\n",
    "\tVendorID,\n",
    "\tCOUNT(*) AS NumberOfOccurrences\n",
    "FROM records\n",
    "WHERE\n",
    "\tNumberOfInvoices > 1\n",
    "GROUP BY\n",
    "\tVendorID\n",
    "ORDER BY\n",
    "\tVendorID;\")"
   ]
  },
  {
   "cell_type": "code",
   "execution_count": 6,
   "metadata": {},
   "outputs": [
    {
     "data": {
      "text/html": [
       "<table>\n",
       "<thead><tr><th scope=col>VendorID</th><th scope=col>NumberOfOccurrences</th></tr></thead>\n",
       "<tbody>\n",
       "\t<tr><td> 2</td><td>11</td></tr>\n",
       "\t<tr><td> 5</td><td>59</td></tr>\n",
       "\t<tr><td> 6</td><td> 1</td></tr>\n",
       "\t<tr><td> 7</td><td> 2</td></tr>\n",
       "\t<tr><td> 8</td><td> 4</td></tr>\n",
       "\t<tr><td> 9</td><td>16</td></tr>\n",
       "\t<tr><td>10</td><td> 4</td></tr>\n",
       "\t<tr><td>11</td><td> 1</td></tr>\n",
       "\t<tr><td>12</td><td> 6</td></tr>\n",
       "\t<tr><td>13</td><td> 6</td></tr>\n",
       "\t<tr><td>14</td><td> 9</td></tr>\n",
       "</tbody>\n",
       "</table>\n"
      ],
      "text/latex": [
       "\\begin{tabular}{r|ll}\n",
       " VendorID & NumberOfOccurrences\\\\\n",
       "\\hline\n",
       "\t  2 & 11\\\\\n",
       "\t  5 & 59\\\\\n",
       "\t  6 &  1\\\\\n",
       "\t  7 &  2\\\\\n",
       "\t  8 &  4\\\\\n",
       "\t  9 & 16\\\\\n",
       "\t 10 &  4\\\\\n",
       "\t 11 &  1\\\\\n",
       "\t 12 &  6\\\\\n",
       "\t 13 &  6\\\\\n",
       "\t 14 &  9\\\\\n",
       "\\end{tabular}\n"
      ],
      "text/markdown": [
       "\n",
       "VendorID | NumberOfOccurrences | \n",
       "|---|---|---|---|---|---|---|---|---|---|---|\n",
       "|  2 | 11 | \n",
       "|  5 | 59 | \n",
       "|  6 |  1 | \n",
       "|  7 |  2 | \n",
       "|  8 |  4 | \n",
       "|  9 | 16 | \n",
       "| 10 |  4 | \n",
       "| 11 |  1 | \n",
       "| 12 |  6 | \n",
       "| 13 |  6 | \n",
       "| 14 |  9 | \n",
       "\n",
       "\n"
      ],
      "text/plain": [
       "   VendorID NumberOfOccurrences\n",
       "1   2       11                 \n",
       "2   5       59                 \n",
       "3   6        1                 \n",
       "4   7        2                 \n",
       "5   8        4                 \n",
       "6   9       16                 \n",
       "7  10        4                 \n",
       "8  11        1                 \n",
       "9  12        6                 \n",
       "10 13        6                 \n",
       "11 14        9                 "
      ]
     },
     "metadata": {},
     "output_type": "display_data"
    }
   ],
   "source": [
    "dupeSenders"
   ]
  },
  {
   "cell_type": "markdown",
   "metadata": {},
   "source": [
    "Vendors 2, 5, and 9 have double-digit counts of double-invoice days, but vendor 5 has four times as many days as the next-highest.  That's a little weird and worth keeping in the back of our minds, but it's not outlandish.  So let's keeep digging.\n",
    "\n",
    "## Cardinality Checks\n",
    "\n",
    "We can use the `rapply()` function to perform cardinality checks, showing us how many distinct values there are in our data set."
   ]
  },
  {
   "cell_type": "code",
   "execution_count": 7,
   "metadata": {},
   "outputs": [],
   "source": [
    "lineItems <- DBI::dbGetQuery(conn, \"SELECT\n",
    "\t*\n",
    "FROM dbo.LineItem li;\")"
   ]
  },
  {
   "cell_type": "code",
   "execution_count": 8,
   "metadata": {},
   "outputs": [
    {
     "data": {
      "text/html": [
       "<dl class=dl-horizontal>\n",
       "\t<dt>LineItemID</dt>\n",
       "\t\t<dd>37463</dd>\n",
       "\t<dt>BusID</dt>\n",
       "\t\t<dd>664</dd>\n",
       "\t<dt>VendorID</dt>\n",
       "\t\t<dd>15</dd>\n",
       "\t<dt>ExpenseCategoryID</dt>\n",
       "\t\t<dd>28</dd>\n",
       "\t<dt>EmployeeID</dt>\n",
       "\t\t<dd>12</dd>\n",
       "\t<dt>LineItemDate</dt>\n",
       "\t\t<dd>1837</dd>\n",
       "\t<dt>Amount</dt>\n",
       "\t\t<dd>23585</dd>\n",
       "</dl>\n"
      ],
      "text/latex": [
       "\\begin{description*}\n",
       "\\item[LineItemID] 37463\n",
       "\\item[BusID] 664\n",
       "\\item[VendorID] 15\n",
       "\\item[ExpenseCategoryID] 28\n",
       "\\item[EmployeeID] 12\n",
       "\\item[LineItemDate] 1837\n",
       "\\item[Amount] 23585\n",
       "\\end{description*}\n"
      ],
      "text/markdown": [
       "LineItemID\n",
       ":   37463BusID\n",
       ":   664VendorID\n",
       ":   15ExpenseCategoryID\n",
       ":   28EmployeeID\n",
       ":   12LineItemDate\n",
       ":   1837Amount\n",
       ":   23585\n",
       "\n"
      ],
      "text/plain": [
       "       LineItemID             BusID          VendorID ExpenseCategoryID \n",
       "            37463               664                15                28 \n",
       "       EmployeeID      LineItemDate            Amount \n",
       "               12              1837             23585 "
      ]
     },
     "metadata": {},
     "output_type": "display_data"
    }
   ],
   "source": [
    "rapply(lineItems, function(x) { length(unique(x)) })"
   ]
  },
  {
   "cell_type": "markdown",
   "metadata": {},
   "source": [
    "We knew that there were 15 vendors, 28 expense categories, and 12 employees, so those aren't surprising.  We do see 664 buses which have had maintenance of some sort done on them.  That means 36 buses were retired without ever having gone through maintenance.\n",
    "\n",
    "Cardinality is also useful when looking at subsets of data.  For example, let's filter to include just invoices valued between \\$850 and \\$999.99, as these are high-value invoices which fall below the two-signer rule."
   ]
  },
  {
   "cell_type": "code",
   "execution_count": 9,
   "metadata": {},
   "outputs": [],
   "source": [
    "highValueInvoices <- lineItems %>% dplyr::filter(Amount >= 850 & Amount < 1000)"
   ]
  },
  {
   "cell_type": "code",
   "execution_count": 10,
   "metadata": {},
   "outputs": [
    {
     "data": {
      "text/html": [
       "<dl class=dl-horizontal>\n",
       "\t<dt>LineItemID</dt>\n",
       "\t\t<dd>996</dd>\n",
       "\t<dt>BusID</dt>\n",
       "\t\t<dd>452</dd>\n",
       "\t<dt>VendorID</dt>\n",
       "\t\t<dd>12</dd>\n",
       "\t<dt>ExpenseCategoryID</dt>\n",
       "\t\t<dd>9</dd>\n",
       "\t<dt>EmployeeID</dt>\n",
       "\t\t<dd>12</dd>\n",
       "\t<dt>LineItemDate</dt>\n",
       "\t\t<dd>525</dd>\n",
       "\t<dt>Amount</dt>\n",
       "\t\t<dd>576</dd>\n",
       "</dl>\n"
      ],
      "text/latex": [
       "\\begin{description*}\n",
       "\\item[LineItemID] 996\n",
       "\\item[BusID] 452\n",
       "\\item[VendorID] 12\n",
       "\\item[ExpenseCategoryID] 9\n",
       "\\item[EmployeeID] 12\n",
       "\\item[LineItemDate] 525\n",
       "\\item[Amount] 576\n",
       "\\end{description*}\n"
      ],
      "text/markdown": [
       "LineItemID\n",
       ":   996BusID\n",
       ":   452VendorID\n",
       ":   12ExpenseCategoryID\n",
       ":   9EmployeeID\n",
       ":   12LineItemDate\n",
       ":   525Amount\n",
       ":   576\n",
       "\n"
      ],
      "text/plain": [
       "       LineItemID             BusID          VendorID ExpenseCategoryID \n",
       "              996               452                12                 9 \n",
       "       EmployeeID      LineItemDate            Amount \n",
       "               12               525               576 "
      ]
     },
     "metadata": {},
     "output_type": "display_data"
    }
   ],
   "source": [
    "rapply(highValueInvoices, function(x) { length(unique(x)) })"
   ]
  },
  {
   "cell_type": "markdown",
   "metadata": {},
   "source": [
    "It looks like 12 of our 15 vendors invoices between \\$850 and \\$999.99.  We can dig deeper using the `setDT()` function in the `data.table` package.  Let's look at counts by vendor ID:"
   ]
  },
  {
   "cell_type": "code",
   "execution_count": 11,
   "metadata": {},
   "outputs": [
    {
     "data": {
      "text/html": [
       "<table>\n",
       "<thead><tr><th scope=col>VendorID</th><th scope=col>N</th></tr></thead>\n",
       "<tbody>\n",
       "\t<tr><td> 1 </td><td> 75</td></tr>\n",
       "\t<tr><td> 2 </td><td> 22</td></tr>\n",
       "\t<tr><td> 5 </td><td>525</td></tr>\n",
       "\t<tr><td> 6 </td><td> 48</td></tr>\n",
       "\t<tr><td> 7 </td><td> 46</td></tr>\n",
       "\t<tr><td> 8 </td><td> 42</td></tr>\n",
       "\t<tr><td> 9 </td><td> 12</td></tr>\n",
       "\t<tr><td>11 </td><td> 72</td></tr>\n",
       "\t<tr><td>12 </td><td> 10</td></tr>\n",
       "\t<tr><td>13 </td><td> 11</td></tr>\n",
       "\t<tr><td>14 </td><td> 88</td></tr>\n",
       "\t<tr><td>15 </td><td> 45</td></tr>\n",
       "</tbody>\n",
       "</table>\n"
      ],
      "text/latex": [
       "\\begin{tabular}{r|ll}\n",
       " VendorID & N\\\\\n",
       "\\hline\n",
       "\t  1  &  75\\\\\n",
       "\t  2  &  22\\\\\n",
       "\t  5  & 525\\\\\n",
       "\t  6  &  48\\\\\n",
       "\t  7  &  46\\\\\n",
       "\t  8  &  42\\\\\n",
       "\t  9  &  12\\\\\n",
       "\t 11  &  72\\\\\n",
       "\t 12  &  10\\\\\n",
       "\t 13  &  11\\\\\n",
       "\t 14  &  88\\\\\n",
       "\t 15  &  45\\\\\n",
       "\\end{tabular}\n"
      ],
      "text/markdown": [
       "\n",
       "VendorID | N | \n",
       "|---|---|---|---|---|---|---|---|---|---|---|---|\n",
       "|  1  |  75 | \n",
       "|  2  |  22 | \n",
       "|  5  | 525 | \n",
       "|  6  |  48 | \n",
       "|  7  |  46 | \n",
       "|  8  |  42 | \n",
       "|  9  |  12 | \n",
       "| 11  |  72 | \n",
       "| 12  |  10 | \n",
       "| 13  |  11 | \n",
       "| 14  |  88 | \n",
       "| 15  |  45 | \n",
       "\n",
       "\n"
      ],
      "text/plain": [
       "   VendorID N  \n",
       "1   1        75\n",
       "2   2        22\n",
       "3   5       525\n",
       "4   6        48\n",
       "5   7        46\n",
       "6   8        42\n",
       "7   9        12\n",
       "8  11        72\n",
       "9  12        10\n",
       "10 13        11\n",
       "11 14        88\n",
       "12 15        45"
      ]
     },
     "metadata": {},
     "output_type": "display_data"
    }
   ],
   "source": [
    "data.table::setDT(highValueInvoices)[, .N, keyby=VendorID]"
   ]
  },
  {
   "cell_type": "markdown",
   "metadata": {},
   "source": [
    "Vendor 5 seems to keep coming up as an outlier.  Maybe they are special but if your spidey-senses are tingling, I don't blame you.\n",
    "\n",
    "Maybe they just have a lot of high-value items, so let's see how many invoices over \\$1000 they have in our data set."
   ]
  },
  {
   "cell_type": "code",
   "execution_count": 12,
   "metadata": {},
   "outputs": [
    {
     "data": {
      "text/html": [
       "<table>\n",
       "<thead><tr><th scope=col>VendorID</th><th scope=col>N</th></tr></thead>\n",
       "<tbody>\n",
       "\t<tr><td> 1 </td><td>171</td></tr>\n",
       "\t<tr><td> 2 </td><td>  7</td></tr>\n",
       "\t<tr><td> 6 </td><td> 37</td></tr>\n",
       "\t<tr><td> 7 </td><td>105</td></tr>\n",
       "\t<tr><td> 8 </td><td>101</td></tr>\n",
       "\t<tr><td> 9 </td><td>  6</td></tr>\n",
       "\t<tr><td>11 </td><td>161</td></tr>\n",
       "\t<tr><td>12 </td><td>  7</td></tr>\n",
       "\t<tr><td>13 </td><td> 11</td></tr>\n",
       "\t<tr><td>14 </td><td>157</td></tr>\n",
       "\t<tr><td>15 </td><td> 46</td></tr>\n",
       "</tbody>\n",
       "</table>\n"
      ],
      "text/latex": [
       "\\begin{tabular}{r|ll}\n",
       " VendorID & N\\\\\n",
       "\\hline\n",
       "\t  1  & 171\\\\\n",
       "\t  2  &   7\\\\\n",
       "\t  6  &  37\\\\\n",
       "\t  7  & 105\\\\\n",
       "\t  8  & 101\\\\\n",
       "\t  9  &   6\\\\\n",
       "\t 11  & 161\\\\\n",
       "\t 12  &   7\\\\\n",
       "\t 13  &  11\\\\\n",
       "\t 14  & 157\\\\\n",
       "\t 15  &  46\\\\\n",
       "\\end{tabular}\n"
      ],
      "text/markdown": [
       "\n",
       "VendorID | N | \n",
       "|---|---|---|---|---|---|---|---|---|---|---|\n",
       "|  1  | 171 | \n",
       "|  2  |   7 | \n",
       "|  6  |  37 | \n",
       "|  7  | 105 | \n",
       "|  8  | 101 | \n",
       "|  9  |   6 | \n",
       "| 11  | 161 | \n",
       "| 12  |   7 | \n",
       "| 13  |  11 | \n",
       "| 14  | 157 | \n",
       "| 15  |  46 | \n",
       "\n",
       "\n"
      ],
      "text/plain": [
       "   VendorID N  \n",
       "1   1       171\n",
       "2   2         7\n",
       "3   6        37\n",
       "4   7       105\n",
       "5   8       101\n",
       "6   9         6\n",
       "7  11       161\n",
       "8  12         7\n",
       "9  13        11\n",
       "10 14       157\n",
       "11 15        46"
      ]
     },
     "metadata": {},
     "output_type": "display_data"
    }
   ],
   "source": [
    "data.table::setDT(filter(lineItems, Amount > 1000))[, .N, keyby=VendorID]"
   ]
  },
  {
   "cell_type": "markdown",
   "metadata": {},
   "source": [
    "That's strange.  They have no invoices over \\$1000.  How about ones which are just under \\$1000?  Here we will focus specifically on vendor 5 and look at amounts greater than \\$995."
   ]
  },
  {
   "cell_type": "code",
   "execution_count": 13,
   "metadata": {},
   "outputs": [
    {
     "data": {
      "text/html": [
       "<table>\n",
       "<thead><tr><th scope=col>Amount</th><th scope=col>N</th></tr></thead>\n",
       "<tbody>\n",
       "\t<tr><td>996.06</td><td>  1   </td></tr>\n",
       "\t<tr><td>997.25</td><td>  1   </td></tr>\n",
       "\t<tr><td>997.43</td><td>  1   </td></tr>\n",
       "\t<tr><td>999.29</td><td>  1   </td></tr>\n",
       "\t<tr><td>999.99</td><td>411   </td></tr>\n",
       "</tbody>\n",
       "</table>\n"
      ],
      "text/latex": [
       "\\begin{tabular}{r|ll}\n",
       " Amount & N\\\\\n",
       "\\hline\n",
       "\t 996.06 &   1   \\\\\n",
       "\t 997.25 &   1   \\\\\n",
       "\t 997.43 &   1   \\\\\n",
       "\t 999.29 &   1   \\\\\n",
       "\t 999.99 & 411   \\\\\n",
       "\\end{tabular}\n"
      ],
      "text/markdown": [
       "\n",
       "Amount | N | \n",
       "|---|---|---|---|---|\n",
       "| 996.06 |   1    | \n",
       "| 997.25 |   1    | \n",
       "| 997.43 |   1    | \n",
       "| 999.29 |   1    | \n",
       "| 999.99 | 411    | \n",
       "\n",
       "\n"
      ],
      "text/plain": [
       "  Amount N  \n",
       "1 996.06   1\n",
       "2 997.25   1\n",
       "3 997.43   1\n",
       "4 999.29   1\n",
       "5 999.99 411"
      ]
     },
     "metadata": {},
     "output_type": "display_data"
    }
   ],
   "source": [
    "data.table::setDT(filter(lineItems, VendorID == 5 & Amount > 995))[, .N, keyby=Amount]"
   ]
  },
  {
   "cell_type": "markdown",
   "metadata": {},
   "source": [
    "415 invoices all happen to be within \\$5 of our two-signer cutoff?  And 411 of those happen to be one penny short?  The circumstantial evidence is starting to add up.  We don't have anything yet but this is looking very suspicious.\n",
    "\n",
    "Now let's pivot and look at high-value invoices by employee."
   ]
  },
  {
   "cell_type": "code",
   "execution_count": 14,
   "metadata": {},
   "outputs": [
    {
     "data": {
      "text/html": [
       "<table>\n",
       "<thead><tr><th scope=col>EmployeeID</th><th scope=col>N</th></tr></thead>\n",
       "<tbody>\n",
       "\t<tr><td> 1 </td><td> 42</td></tr>\n",
       "\t<tr><td> 2 </td><td> 37</td></tr>\n",
       "\t<tr><td> 3 </td><td> 35</td></tr>\n",
       "\t<tr><td> 4 </td><td>146</td></tr>\n",
       "\t<tr><td> 5 </td><td> 38</td></tr>\n",
       "\t<tr><td> 6 </td><td> 46</td></tr>\n",
       "\t<tr><td> 7 </td><td> 36</td></tr>\n",
       "\t<tr><td> 8 </td><td>155</td></tr>\n",
       "\t<tr><td> 9 </td><td> 51</td></tr>\n",
       "\t<tr><td>10 </td><td>184</td></tr>\n",
       "\t<tr><td>11 </td><td> 48</td></tr>\n",
       "\t<tr><td>12 </td><td>178</td></tr>\n",
       "</tbody>\n",
       "</table>\n"
      ],
      "text/latex": [
       "\\begin{tabular}{r|ll}\n",
       " EmployeeID & N\\\\\n",
       "\\hline\n",
       "\t  1  &  42\\\\\n",
       "\t  2  &  37\\\\\n",
       "\t  3  &  35\\\\\n",
       "\t  4  & 146\\\\\n",
       "\t  5  &  38\\\\\n",
       "\t  6  &  46\\\\\n",
       "\t  7  &  36\\\\\n",
       "\t  8  & 155\\\\\n",
       "\t  9  &  51\\\\\n",
       "\t 10  & 184\\\\\n",
       "\t 11  &  48\\\\\n",
       "\t 12  & 178\\\\\n",
       "\\end{tabular}\n"
      ],
      "text/markdown": [
       "\n",
       "EmployeeID | N | \n",
       "|---|---|---|---|---|---|---|---|---|---|---|---|\n",
       "|  1  |  42 | \n",
       "|  2  |  37 | \n",
       "|  3  |  35 | \n",
       "|  4  | 146 | \n",
       "|  5  |  38 | \n",
       "|  6  |  46 | \n",
       "|  7  |  36 | \n",
       "|  8  | 155 | \n",
       "|  9  |  51 | \n",
       "| 10  | 184 | \n",
       "| 11  |  48 | \n",
       "| 12  | 178 | \n",
       "\n",
       "\n"
      ],
      "text/plain": [
       "   EmployeeID N  \n",
       "1   1          42\n",
       "2   2          37\n",
       "3   3          35\n",
       "4   4         146\n",
       "5   5          38\n",
       "6   6          46\n",
       "7   7          36\n",
       "8   8         155\n",
       "9   9          51\n",
       "10 10         184\n",
       "11 11          48\n",
       "12 12         178"
      ]
     },
     "metadata": {},
     "output_type": "display_data"
    }
   ],
   "source": [
    "data.table::setDT(highValueInvoices)[, .N, keyby=EmployeeID]"
   ]
  },
  {
   "cell_type": "markdown",
   "metadata": {},
   "source": [
    "All twelve of our employees have dealt with high-value invoices.  Let's see what it looks like when we filter on the suspicious vendor."
   ]
  },
  {
   "cell_type": "code",
   "execution_count": 15,
   "metadata": {},
   "outputs": [
    {
     "data": {
      "text/html": [
       "<table>\n",
       "<thead><tr><th scope=col>EmployeeID</th><th scope=col>N</th></tr></thead>\n",
       "<tbody>\n",
       "\t<tr><td> 4 </td><td> 80</td></tr>\n",
       "\t<tr><td> 8 </td><td>104</td></tr>\n",
       "\t<tr><td>10 </td><td>123</td></tr>\n",
       "\t<tr><td>12 </td><td>108</td></tr>\n",
       "</tbody>\n",
       "</table>\n"
      ],
      "text/latex": [
       "\\begin{tabular}{r|ll}\n",
       " EmployeeID & N\\\\\n",
       "\\hline\n",
       "\t  4  &  80\\\\\n",
       "\t  8  & 104\\\\\n",
       "\t 10  & 123\\\\\n",
       "\t 12  & 108\\\\\n",
       "\\end{tabular}\n"
      ],
      "text/markdown": [
       "\n",
       "EmployeeID | N | \n",
       "|---|---|---|---|\n",
       "|  4  |  80 | \n",
       "|  8  | 104 | \n",
       "| 10  | 123 | \n",
       "| 12  | 108 | \n",
       "\n",
       "\n"
      ],
      "text/plain": [
       "  EmployeeID N  \n",
       "1  4          80\n",
       "2  8         104\n",
       "3 10         123\n",
       "4 12         108"
      ]
     },
     "metadata": {},
     "output_type": "display_data"
    }
   ],
   "source": [
    "data.table::setDT(filter(lineItems, VendorID == 5 & Amount > 995))[, .N, keyby=EmployeeID]"
   ]
  },
  {
   "cell_type": "markdown",
   "metadata": {},
   "source": [
    "Only four employees handled those invoices for vendor 5.  But maybe the agency has people focus on certain sets of vendors.  Let's limit ourselves to the year 2018 and see how many invoices for vendor 5 each employee has handled."
   ]
  },
  {
   "cell_type": "code",
   "execution_count": 16,
   "metadata": {},
   "outputs": [
    {
     "data": {
      "text/html": [
       "<table>\n",
       "<thead><tr><th scope=col>EmployeeID</th><th scope=col>N</th></tr></thead>\n",
       "<tbody>\n",
       "\t<tr><td> 1 </td><td> 24</td></tr>\n",
       "\t<tr><td> 2 </td><td> 22</td></tr>\n",
       "\t<tr><td> 3 </td><td> 21</td></tr>\n",
       "\t<tr><td> 4 </td><td>610</td></tr>\n",
       "\t<tr><td> 5 </td><td> 25</td></tr>\n",
       "\t<tr><td> 6 </td><td> 21</td></tr>\n",
       "\t<tr><td> 7 </td><td> 26</td></tr>\n",
       "\t<tr><td> 8 </td><td>666</td></tr>\n",
       "\t<tr><td> 9 </td><td> 19</td></tr>\n",
       "\t<tr><td>10 </td><td>667</td></tr>\n",
       "\t<tr><td>11 </td><td> 28</td></tr>\n",
       "\t<tr><td>12 </td><td>631</td></tr>\n",
       "</tbody>\n",
       "</table>\n"
      ],
      "text/latex": [
       "\\begin{tabular}{r|ll}\n",
       " EmployeeID & N\\\\\n",
       "\\hline\n",
       "\t  1  &  24\\\\\n",
       "\t  2  &  22\\\\\n",
       "\t  3  &  21\\\\\n",
       "\t  4  & 610\\\\\n",
       "\t  5  &  25\\\\\n",
       "\t  6  &  21\\\\\n",
       "\t  7  &  26\\\\\n",
       "\t  8  & 666\\\\\n",
       "\t  9  &  19\\\\\n",
       "\t 10  & 667\\\\\n",
       "\t 11  &  28\\\\\n",
       "\t 12  & 631\\\\\n",
       "\\end{tabular}\n"
      ],
      "text/markdown": [
       "\n",
       "EmployeeID | N | \n",
       "|---|---|---|---|---|---|---|---|---|---|---|---|\n",
       "|  1  |  24 | \n",
       "|  2  |  22 | \n",
       "|  3  |  21 | \n",
       "|  4  | 610 | \n",
       "|  5  |  25 | \n",
       "|  6  |  21 | \n",
       "|  7  |  26 | \n",
       "|  8  | 666 | \n",
       "|  9  |  19 | \n",
       "| 10  | 667 | \n",
       "| 11  |  28 | \n",
       "| 12  | 631 | \n",
       "\n",
       "\n"
      ],
      "text/plain": [
       "   EmployeeID N  \n",
       "1   1          24\n",
       "2   2          22\n",
       "3   3          21\n",
       "4   4         610\n",
       "5   5          25\n",
       "6   6          21\n",
       "7   7          26\n",
       "8   8         666\n",
       "9   9          19\n",
       "10 10         667\n",
       "11 11          28\n",
       "12 12         631"
      ]
     },
     "metadata": {},
     "output_type": "display_data"
    }
   ],
   "source": [
    "data.table::setDT(filter(lineItems, VendorID == 5 & year(LineItemDate) == 2018))[, .N, keyby=EmployeeID]"
   ]
  },
  {
   "cell_type": "markdown",
   "metadata": {},
   "source": [
    "All 12 have handled invoices.  8 of the 12 have taken a couple dozen but our final four have over 600 apiece.  That's averaging 2 invoices per employee per day.  That's a lot of invoices!"
   ]
  },
  {
   "cell_type": "code",
   "execution_count": null,
   "metadata": {},
   "outputs": [],
   "source": []
  }
 ],
 "metadata": {
  "kernelspec": {
   "display_name": "R",
   "language": "R",
   "name": "ir"
  },
  "language_info": {
   "codemirror_mode": "r",
   "file_extension": ".r",
   "mimetype": "text/x-r-source",
   "name": "R",
   "pygments_lexer": "r",
   "version": "3.5.1"
  }
 },
 "nbformat": 4,
 "nbformat_minor": 2
}
