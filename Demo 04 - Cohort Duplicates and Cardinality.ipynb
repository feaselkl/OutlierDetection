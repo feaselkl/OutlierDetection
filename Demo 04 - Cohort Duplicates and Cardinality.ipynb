{
 "cells": [
  {
   "cell_type": "markdown",
   "metadata": {},
   "source": [
    "# Demo 04 - Duplicates and Cardinality\n",
    "\n",
    "In the first notebook, we saw some fishy behavior with respect to increases in expenses in the year 2018 versus prior years.  Now let's use a couple tools at our disposal to delve further into the problem."
   ]
  },
  {
   "cell_type": "code",
   "execution_count": null,
   "metadata": {},
   "outputs": [],
   "source": [
    "if(!require(tidyverse)) {\n",
    "    install.packages(\"tidyverse\", repos = \"http://cran.us.r-project.org\")\n",
    "    library(tidyverse)\n",
    "}\n",
    "\n",
    "if(!require(odbc)) {\n",
    "    install.packages(\"odbc\", repos = \"http://cran.us.r-project.org\")\n",
    "    library(odbc)\n",
    "}\n",
    "\n",
    "if(!require(data.table)) {\n",
    "  install.packages(\"data.table\", repos = \"http://cran.us.r-project.org\")\n",
    "  library(data.table)\n",
    "}"
   ]
  },
  {
   "cell_type": "markdown",
   "metadata": {},
   "source": [
    "## Count of Invoices by Day\n",
    "\n",
    "The first thing we want to do is see how many invoices we get per bus, vendor, and day.  Our organization requires vendors send one invoice per bus maintenance item, so we generally expect no more than one invoice per combination of bus, vendor, and day.  After all, invoices can get lost in the shuffle and creating more than one is inefficient."
   ]
  },
  {
   "cell_type": "code",
   "execution_count": null,
   "metadata": {},
   "outputs": [],
   "source": [
    "conn <- DBI::dbConnect(odbc::odbc(), \n",
    "                      Driver = \"SQL Server\", \n",
    "                      Server = \"localhost\", \n",
    "                      Database = \"ForensicAccounting\", \n",
    "                      Trusted_Connection = \"True\")"
   ]
  },
  {
   "cell_type": "code",
   "execution_count": null,
   "metadata": {},
   "outputs": [],
   "source": [
    "dupes <- DBI::dbGetQuery(conn, \"WITH records AS\n",
    "(\n",
    "\tSELECT\n",
    "\t\tli.LineItemDate,\n",
    "\t\tli.BusID,\n",
    "\t\tli.VendorID,\n",
    "\t\tCOUNT(*) AS NumberOfInvoices\n",
    "\tFROM dbo.LineItem li\n",
    "\tGROUP BY\n",
    "\t\tli.LineItemDate,\n",
    "\t\tli.BusID,\n",
    "\t\tli.VendorID\n",
    ")\n",
    "SELECT\n",
    "\tNumberOfInvoices,\n",
    "\tCOUNT(*) AS NumberOfOccurrences\n",
    "FROM records\n",
    "GROUP BY\n",
    "\tNumberOfInvoices\n",
    "ORDER BY\n",
    "\tNumberOfInvoices;\")"
   ]
  },
  {
   "cell_type": "code",
   "execution_count": null,
   "metadata": {},
   "outputs": [],
   "source": [
    "dupes"
   ]
  },
  {
   "cell_type": "markdown",
   "metadata": {},
   "source": [
    "It looks like for the vast majority of the time, we see one invoice per bus, vendor, and day.  569 times we have 2 invoices and we got 26 invoices on a single day once.  It might be interesting to see who's sending us multiple invoices so let's do that."
   ]
  },
  {
   "cell_type": "code",
   "execution_count": null,
   "metadata": {},
   "outputs": [],
   "source": [
    "dupeSenders <- DBI::dbGetQuery(conn, \"WITH records AS\n",
    "(\n",
    "\tSELECT\n",
    "\t\tli.LineItemDate,\n",
    "\t\tli.BusID,\n",
    "\t\tli.VendorID,\n",
    "\t\tCOUNT(*) AS NumberOfInvoices\n",
    "\tFROM dbo.LineItem li\n",
    "\tGROUP BY\n",
    "\t\tli.LineItemDate,\n",
    "\t\tli.BusID,\n",
    "\t\tli.VendorID\n",
    ")\n",
    "SELECT\n",
    "\tVendorID,\n",
    "\tCOUNT(*) AS NumberOfOccurrences\n",
    "FROM records\n",
    "WHERE\n",
    "\tNumberOfInvoices > 1\n",
    "GROUP BY\n",
    "\tVendorID\n",
    "ORDER BY\n",
    "\tVendorID;\")"
   ]
  },
  {
   "cell_type": "code",
   "execution_count": null,
   "metadata": {},
   "outputs": [],
   "source": [
    "dupeSenders"
   ]
  },
  {
   "cell_type": "markdown",
   "metadata": {},
   "source": [
    "Vendors 2, 5, and 9 have double-digit counts of double-invoice days, but vendor 5 has four times as many days as the next-highest.  That's a little weird and worth keeping in the back of our minds, but it's not outlandish.  So let's keeep digging.\n",
    "\n",
    "## Cardinality Checks\n",
    "\n",
    "We can use the `rapply()` function to perform cardinality checks, showing us how many distinct values there are in our data set."
   ]
  },
  {
   "cell_type": "code",
   "execution_count": null,
   "metadata": {},
   "outputs": [],
   "source": [
    "lineItems <- DBI::dbGetQuery(conn, \"SELECT\n",
    "\t*\n",
    "FROM dbo.LineItem li;\")"
   ]
  },
  {
   "cell_type": "code",
   "execution_count": null,
   "metadata": {},
   "outputs": [],
   "source": [
    "rapply(lineItems, function(x) { length(unique(x)) })"
   ]
  },
  {
   "cell_type": "markdown",
   "metadata": {},
   "source": [
    "We knew that there were 15 vendors, 28 expense categories, and 12 employees, so those aren't surprising.  We do see 460 buses which have had maintenance of some sort done on them.  That means 36 buses were retired without ever having gone through maintenance.\n",
    "\n",
    "Cardinality is also useful when looking at subsets of data.  For example, let's filter to include just invoices valued between \\\\$850 and \\\\$999.99, as these are high-value invoices which fall below the two-signer rule."
   ]
  },
  {
   "cell_type": "code",
   "execution_count": null,
   "metadata": {},
   "outputs": [],
   "source": [
    "highValueInvoices <- lineItems %>% dplyr::filter(Amount >= 850 & Amount < 1000)"
   ]
  },
  {
   "cell_type": "code",
   "execution_count": null,
   "metadata": {},
   "outputs": [],
   "source": [
    "rapply(highValueInvoices, function(x) { length(unique(x)) })"
   ]
  },
  {
   "cell_type": "markdown",
   "metadata": {},
   "source": [
    "It looks like 12 of our 15 vendors invoices between \\\\$850 and \\\\$999.99.  We can dig deeper using the `setDT()` function in the `data.table` package.  Let's look at counts by vendor ID:"
   ]
  },
  {
   "cell_type": "code",
   "execution_count": null,
   "metadata": {},
   "outputs": [],
   "source": [
    "data.table::setDT(highValueInvoices)[, .N, keyby=VendorID]"
   ]
  },
  {
   "cell_type": "markdown",
   "metadata": {},
   "source": [
    "Vendor 5 seems to keep coming up as an outlier.  Maybe they are special but if your spidey-senses are tingling, I don't blame you.\n",
    "\n",
    "Maybe they just have a lot of high-value items, so let's see how many invoices over \\$1000 they have in our data set."
   ]
  },
  {
   "cell_type": "code",
   "execution_count": null,
   "metadata": {},
   "outputs": [],
   "source": [
    "data.table::setDT(filter(lineItems, Amount > 1000))[, .N, keyby=VendorID]"
   ]
  },
  {
   "cell_type": "markdown",
   "metadata": {},
   "source": [
    "That's strange.  They have no invoices over \\\\$1000.  How about ones which are just under \\\\$1000?  Here we will focus specifically on vendor 5 and look at amounts greater than \\\\$995."
   ]
  },
  {
   "cell_type": "code",
   "execution_count": null,
   "metadata": {},
   "outputs": [],
   "source": [
    "data.table::setDT(filter(lineItems, VendorID == 5 & Amount > 995))[, .N, keyby=Amount]"
   ]
  },
  {
   "cell_type": "markdown",
   "metadata": {},
   "source": [
    "1468 invoices all happen to be within \\$5 of our two-signer cutoff?  And 1446 of those happen to be one penny short?  The circumstantial evidence is starting to add up.  We don't have anything yet but this is looking very suspicious.\n",
    "\n",
    "Now let's pivot and look at high-value invoices by employee."
   ]
  },
  {
   "cell_type": "code",
   "execution_count": null,
   "metadata": {},
   "outputs": [],
   "source": [
    "data.table::setDT(highValueInvoices)[, .N, keyby=EmployeeID]"
   ]
  },
  {
   "cell_type": "markdown",
   "metadata": {},
   "source": [
    "All twelve of our employees have dealt with high-value invoices.  Let's see what it looks like when we filter on the suspicious vendor."
   ]
  },
  {
   "cell_type": "code",
   "execution_count": null,
   "metadata": {},
   "outputs": [],
   "source": [
    "data.table::setDT(filter(lineItems, VendorID == 5 & Amount > 995))[, .N, keyby=EmployeeID]"
   ]
  },
  {
   "cell_type": "markdown",
   "metadata": {},
   "source": [
    "Only four employees handled those invoices for vendor 5.  But maybe the agency has people focus on certain sets of vendors.  Let's limit ourselves to the year 2018 and see how many invoices for vendor 5 each employee has handled."
   ]
  },
  {
   "cell_type": "code",
   "execution_count": null,
   "metadata": {},
   "outputs": [],
   "source": [
    "data.table::setDT(filter(lineItems, VendorID == 5 & year(LineItemDate) == 2018))[, .N, keyby=EmployeeID]"
   ]
  },
  {
   "cell_type": "markdown",
   "metadata": {},
   "source": [
    "All 12 have handled invoices.  8 of the 12 have taken a couple dozen but our final four have over 2000 apiece.  That's averaging 6-7 invoices per employee per day just for that vendor.  That's a lot of invoices!"
   ]
  },
  {
   "cell_type": "code",
   "execution_count": null,
   "metadata": {},
   "outputs": [],
   "source": []
  }
 ],
 "metadata": {
  "kernelspec": {
   "display_name": "R",
   "language": "R",
   "name": "ir"
  },
  "language_info": {
   "codemirror_mode": "r",
   "file_extension": ".r",
   "mimetype": "text/x-r-source",
   "name": "R",
   "pygments_lexer": "r",
   "version": "3.6.1"
  }
 },
 "nbformat": 4,
 "nbformat_minor": 2
}
