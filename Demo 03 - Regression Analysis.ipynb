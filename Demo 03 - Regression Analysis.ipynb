{
 "cells": [
  {
   "cell_type": "markdown",
   "metadata": {},
   "source": [
    "# Demo 04 - Regression Analysis\n",
    "\n",
    "Up to this point, we've performed basic descriptive analytics, looking at counts.  We can also use regression analysis to help us understand our data better."
   ]
  },
  {
   "cell_type": "code",
   "execution_count": 1,
   "metadata": {},
   "outputs": [
    {
     "name": "stderr",
     "output_type": "stream",
     "text": [
      "Loading required package: tidyverse\n",
      "Warning message:\n",
      "\"package 'tidyverse' was built under R version 3.5.2\"-- Attaching packages --------------------------------------- tidyverse 1.2.1 --\n",
      "v ggplot2 3.1.0     v purrr   0.2.5\n",
      "v tibble  1.4.2     v dplyr   0.7.6\n",
      "v tidyr   0.8.1     v stringr 1.3.1\n",
      "v readr   1.1.1     v forcats 0.3.0\n",
      "Warning message:\n",
      "\"package 'ggplot2' was built under R version 3.5.2\"-- Conflicts ------------------------------------------ tidyverse_conflicts() --\n",
      "x dplyr::filter() masks stats::filter()\n",
      "x dplyr::lag()    masks stats::lag()\n",
      "Loading required package: odbc\n",
      "Warning message:\n",
      "\"package 'odbc' was built under R version 3.5.3\""
     ]
    }
   ],
   "source": [
    "if(!require(tidyverse)) {\n",
    "    install.packages(\"tidyverse\", repos = \"http://cran.us.r-project.org\")\n",
    "    library(tidyverse)\n",
    "}\n",
    "\n",
    "if(!require(odbc)) {\n",
    "    install.packages(\"odbc\", repos = \"http://cran.us.r-project.org\")\n",
    "    library(odbc)\n",
    "}\n",
    "\n",
    "# ggplot2 is installed with the tidyverse.\n",
    "library(ggplot2)"
   ]
  },
  {
   "cell_type": "markdown",
   "metadata": {},
   "source": [
    "## Regressing Expenditures Against Bus Counts\n",
    "\n",
    "We have data broken down by month to try to avoid some of the noise while still giving us enough data points for regression."
   ]
  },
  {
   "cell_type": "code",
   "execution_count": 2,
   "metadata": {},
   "outputs": [],
   "source": [
    "conn <- DBI::dbConnect(odbc::odbc(), \n",
    "                      Driver = \"SQL Server\", \n",
    "                      Server = \"localhost\", \n",
    "                      Database = \"ForensicAccounting\", \n",
    "                      Trusted_Connection = \"True\")"
   ]
  },
  {
   "cell_type": "code",
   "execution_count": 3,
   "metadata": {},
   "outputs": [],
   "source": [
    "expenditures <- DBI::dbGetQuery(conn, \"WITH buses AS\n",
    "(\n",
    "\tSELECT\n",
    "\t\tc.FirstDayOfMonth,\n",
    "\t\tc.CalendarMonth,\n",
    "\t\tc.CalendarYear,\n",
    "\t\tCOUNT(*) AS NumberOfBuses\n",
    "\tFROM dbo.Bus b\n",
    "\t\tINNER JOIN dbo.Calendar c\n",
    "\t\t\tON b.DateFirstInService <= c.Date\n",
    "\t\t\tAND ISNULL(b.DateRetired, '2018-12-31') >= c.Date\n",
    "\tWHERE\n",
    "\t\tc.Date = c.FirstDayOfMonth\n",
    "\t\tAND c.CalendarYear >= 2011\n",
    "\t\tAND c.CalendarYear < 2019\n",
    "\tGROUP BY\n",
    "\t\tc.FirstDayOfMonth,\n",
    "\t\tc.CalendarMonth,\n",
    "\t\tc.CalendarYear\n",
    "),\n",
    "expenses AS\n",
    "(\n",
    "\tSELECT\n",
    "\t\tc.FirstDayOfMonth,\n",
    "\t\tCOUNT(*) AS NumberOfInvoices,\n",
    "\t\tSUM(li.Amount) AS TotalInvoicedAmount\n",
    "\tFROM dbo.LineItem li\n",
    "\t\tINNER JOIN dbo.Calendar c\n",
    "\t\t\tON li.LineItemDate = c.Date\n",
    "\tGROUP BY\n",
    "\tc.FirstDayOfMonth\n",
    ")\n",
    "SELECT\n",
    "\tb.FirstDayOfMonth,\n",
    "\tb.CalendarMonth,\n",
    "\tb.CalendarYear,\n",
    "\tb.NumberOfBuses,\n",
    "\te.NumberOfInvoices,\n",
    "\te.TotalInvoicedAmount\n",
    "FROM buses b\n",
    "\tINNER JOIN expenses e\n",
    "\t\tON b.FirstDayOfMonth = e.FirstDayOfMonth\n",
    "ORDER BY\n",
    "\tb.FirstDayOfMonth;\n",
    "\")"
   ]
  },
  {
   "cell_type": "code",
   "execution_count": 4,
   "metadata": {},
   "outputs": [
    {
     "data": {
      "text/plain": [
       " FirstDayOfMonth    CalendarMonth    CalendarYear  NumberOfBuses  \n",
       " Length:96          Min.   : 1.00   Min.   :2011   Min.   :314.0  \n",
       " Class :character   1st Qu.: 3.75   1st Qu.:2013   1st Qu.:352.0  \n",
       " Mode  :character   Median : 6.50   Median :2014   Median :391.0  \n",
       "                    Mean   : 6.50   Mean   :2014   Mean   :388.2  \n",
       "                    3rd Qu.: 9.25   3rd Qu.:2016   3rd Qu.:441.0  \n",
       "                    Max.   :12.00   Max.   :2018   Max.   :491.0  \n",
       " NumberOfInvoices TotalInvoicedAmount\n",
       " Min.   :228.0    Min.   : 39783     \n",
       " 1st Qu.:319.2    1st Qu.: 60936     \n",
       " Median :364.5    Median : 71342     \n",
       " Mean   :390.2    Mean   : 80961     \n",
       " 3rd Qu.:425.2    3rd Qu.: 81576     \n",
       " Max.   :871.0    Max.   :253762     "
      ]
     },
     "metadata": {},
     "output_type": "display_data"
    }
   ],
   "source": [
    "summary(expenditures)"
   ]
  },
  {
   "cell_type": "markdown",
   "metadata": {},
   "source": [
    "The `lm()` function allows us to build a linear regression quickly in R.  Our assumption is that bus expenditures scale linearly with respect to the number of buses in our fleet.  This might not be a perfect understanding of the data but should be good for a first glance."
   ]
  },
  {
   "cell_type": "code",
   "execution_count": 5,
   "metadata": {},
   "outputs": [],
   "source": [
    "reg <- lm(formula = TotalInvoicedAmount ~ NumberOfBuses, data = expenditures)"
   ]
  },
  {
   "cell_type": "code",
   "execution_count": 6,
   "metadata": {},
   "outputs": [
    {
     "data": {
      "text/plain": [
       "\n",
       "Call:\n",
       "lm(formula = TotalInvoicedAmount ~ NumberOfBuses, data = expenditures)\n",
       "\n",
       "Residuals:\n",
       "   Min     1Q Median     3Q    Max \n",
       "-52900 -17880  -2927   6702 131081 \n",
       "\n",
       "Coefficients:\n",
       "                Estimate Std. Error t value Pr(>|t|)    \n",
       "(Intercept)   -121888.40   26347.88  -4.626 1.19e-05 ***\n",
       "NumberOfBuses     522.58      67.31   7.764 9.94e-12 ***\n",
       "---\n",
       "Signif. codes:  0 '***' 0.001 '**' 0.01 '*' 0.05 '.' 0.1 ' ' 1\n",
       "\n",
       "Residual standard error: 33450 on 94 degrees of freedom\n",
       "Multiple R-squared:  0.3907,\tAdjusted R-squared:  0.3843 \n",
       "F-statistic: 60.28 on 1 and 94 DF,  p-value: 9.938e-12\n"
      ]
     },
     "metadata": {},
     "output_type": "display_data"
    }
   ],
   "source": [
    "summary(reg)"
   ]
  },
  {
   "cell_type": "markdown",
   "metadata": {},
   "source": [
    "As a first approximation, the number of buses explains about 38% of the variance in data.  This graph can show us why:"
   ]
  },
  {
   "cell_type": "code",
   "execution_count": 7,
   "metadata": {},
   "outputs": [
    {
     "name": "stderr",
     "output_type": "stream",
     "text": [
      "`geom_smooth()` using method = 'loess' and formula 'y ~ x'\n"
     ]
    },
    {
     "data": {},
     "metadata": {},
     "output_type": "display_data"
    },
    {
     "data": {
      "image/png": "[encoded data removed]",
      "text/plain": [
       "plot without title"
      ]
     },
     "metadata": {},
     "output_type": "display_data"
    }
   ],
   "source": [
    "options(repr.plot.width=6, repr.plot.height=4) \n",
    "ggplot(data = expenditures, aes(x = NumberOfBuses, y = TotalInvoicedAmount)) +\n",
    "    geom_point() +\n",
    "    geom_smooth()"
   ]
  },
  {
   "cell_type": "markdown",
   "metadata": {},
   "source": [
    "But remember that we saw the data in 2018 spike.  Given that, let's see how the regression works prior to 2018."
   ]
  },
  {
   "cell_type": "code",
   "execution_count": 8,
   "metadata": {},
   "outputs": [],
   "source": [
    "regPre2018 <- lm(formula = TotalInvoicedAmount ~ NumberOfBuses,\n",
    "                 data = filter(expenditures, lubridate::year(FirstDayOfMonth) < 2018))"
   ]
  },
  {
   "cell_type": "code",
   "execution_count": 9,
   "metadata": {},
   "outputs": [
    {
     "data": {
      "text/plain": [
       "\n",
       "Call:\n",
       "lm(formula = TotalInvoicedAmount ~ NumberOfBuses, data = filter(expenditures, \n",
       "    lubridate::year(FirstDayOfMonth) < 2018))\n",
       "\n",
       "Residuals:\n",
       "     Min       1Q   Median       3Q      Max \n",
       "-24749.7  -4618.9    -23.9   7028.9  18342.5 \n",
       "\n",
       "Coefficients:\n",
       "              Estimate Std. Error t value Pr(>|t|)    \n",
       "(Intercept)   -2515.07    9311.20   -0.27    0.788    \n",
       "NumberOfBuses   187.24      24.57    7.62 3.93e-11 ***\n",
       "---\n",
       "Signif. codes:  0 '***' 0.001 '**' 0.01 '*' 0.05 '.' 0.1 ' ' 1\n",
       "\n",
       "Residual standard error: 9668 on 82 degrees of freedom\n",
       "Multiple R-squared:  0.4146,\tAdjusted R-squared:  0.4074 \n",
       "F-statistic: 58.06 on 1 and 82 DF,  p-value: 3.933e-11\n"
      ]
     },
     "metadata": {},
     "output_type": "display_data"
    }
   ],
   "source": [
    "summary(regPre2018)"
   ]
  },
  {
   "cell_type": "code",
   "execution_count": 10,
   "metadata": {},
   "outputs": [
    {
     "data": {
      "image/png": "[encoded data removed]",
      "text/plain": [
       "Plot with title \"\""
      ]
     },
     "metadata": {},
     "output_type": "display_data"
    },
    {
     "data": {
      "image/png": "[encoded data removed]",
      "text/plain": [
       "Plot with title \"\""
      ]
     },
     "metadata": {},
     "output_type": "display_data"
    },
    {
     "data": {
      "image/png": "[encoded data removed]",
      "text/plain": [
       "Plot with title \"\""
      ]
     },
     "metadata": {},
     "output_type": "display_data"
    },
    {
     "data": {
      "image/png": "[encoded data removed]",
      "text/plain": [
       "Plot with title \"\""
      ]
     },
     "metadata": {},
     "output_type": "display_data"
    }
   ],
   "source": [
    "options(repr.plot.width=6, repr.plot.height=4) \n",
    "plot(regPre2018)"
   ]
  },
  {
   "cell_type": "markdown",
   "metadata": {},
   "source": [
    "It turns out that this is only a minor improvement.  But let's look at counts.\n",
    "\n",
    "## Regressing Invoice Counts Against Bus Counts"
   ]
  },
  {
   "cell_type": "code",
   "execution_count": 11,
   "metadata": {},
   "outputs": [],
   "source": [
    "regICPre2018 <- lm(formula = NumberOfInvoices ~ NumberOfBuses,\n",
    "                 data = filter(expenditures, lubridate::year(FirstDayOfMonth) < 2018))"
   ]
  },
  {
   "cell_type": "code",
   "execution_count": 12,
   "metadata": {},
   "outputs": [
    {
     "data": {
      "text/plain": [
       "\n",
       "Call:\n",
       "lm(formula = NumberOfInvoices ~ NumberOfBuses, data = filter(expenditures, \n",
       "    lubridate::year(FirstDayOfMonth) < 2018))\n",
       "\n",
       "Residuals:\n",
       "     Min       1Q   Median       3Q      Max \n",
       "-106.500  -31.232    8.396   29.740  108.119 \n",
       "\n",
       "Coefficients:\n",
       "              Estimate Std. Error t value Pr(>|t|)    \n",
       "(Intercept)   -13.5276    44.2825  -0.305    0.761    \n",
       "NumberOfBuses   0.9771     0.1169   8.361 1.34e-12 ***\n",
       "---\n",
       "Signif. codes:  0 '***' 0.001 '**' 0.01 '*' 0.05 '.' 0.1 ' ' 1\n",
       "\n",
       "Residual standard error: 45.98 on 82 degrees of freedom\n",
       "Multiple R-squared:  0.4602,\tAdjusted R-squared:  0.4536 \n",
       "F-statistic:  69.9 on 1 and 82 DF,  p-value: 1.345e-12\n"
      ]
     },
     "metadata": {},
     "output_type": "display_data"
    }
   ],
   "source": [
    "summary(regICPre2018)"
   ]
  },
  {
   "cell_type": "markdown",
   "metadata": {},
   "source": [
    "Doing this against the count of invoices gives us an R^2 of 0.45, so it's a moderate regression.  So maybe there's a bit too much noise in the monthly data.\n",
    "\n",
    "We might also be missing an important variable.  Number of buses is significant according to our probability test---its p-value is tiny.  A small p-value isn't proof of anything but here the result fits our intuition:  more buses means more invoices.  Specifically, we get approximately 1 invoice per bus per month--the estimate is 0.9771, so I'm rounding it for purposes of understanding and because these estimates have error bars, meaning it's not exactly 0.9771 but some range around 0.9771.\n",
    "\n",
    "That aside, let's see if we can do better here.  The three variables we have in our SQL query are number of buses, calendar month and calendar year.  Let's see how adding the calendar dates change our results.  First we'll add month."
   ]
  },
  {
   "cell_type": "code",
   "execution_count": 13,
   "metadata": {},
   "outputs": [],
   "source": [
    "regICPre2018 <- lm(formula = NumberOfInvoices ~ NumberOfBuses + CalendarMonth,\n",
    "                 data = filter(expenditures, lubridate::year(FirstDayOfMonth) < 2018))"
   ]
  },
  {
   "cell_type": "code",
   "execution_count": 14,
   "metadata": {
    "scrolled": false
   },
   "outputs": [
    {
     "data": {
      "text/plain": [
       "\n",
       "Call:\n",
       "lm(formula = NumberOfInvoices ~ NumberOfBuses + CalendarMonth, \n",
       "    data = filter(expenditures, lubridate::year(FirstDayOfMonth) < \n",
       "        2018))\n",
       "\n",
       "Residuals:\n",
       "    Min      1Q  Median      3Q     Max \n",
       "-96.690 -31.292   8.387  33.687 104.081 \n",
       "\n",
       "Coefficients:\n",
       "              Estimate Std. Error t value Pr(>|t|)    \n",
       "(Intercept)   -34.2890    45.9290  -0.747    0.457    \n",
       "NumberOfBuses   0.9936     0.1164   8.537 6.53e-13 ***\n",
       "CalendarMonth   2.2335     1.4474   1.543    0.127    \n",
       "---\n",
       "Signif. codes:  0 '***' 0.001 '**' 0.01 '*' 0.05 '.' 0.1 ' ' 1\n",
       "\n",
       "Residual standard error: 45.6 on 81 degrees of freedom\n",
       "Multiple R-squared:  0.4756,\tAdjusted R-squared:  0.4626 \n",
       "F-statistic: 36.73 on 2 and 81 DF,  p-value: 4.432e-12\n"
      ]
     },
     "metadata": {},
     "output_type": "display_data"
    }
   ],
   "source": [
    "summary(regICPre2018)"
   ]
  },
  {
   "cell_type": "markdown",
   "metadata": {},
   "source": [
    "There is a **very** small change in the R^2 from 45% to 46% of variance explained.  Not only is that nothing to write home about, it's indistinguishable from noise.\n",
    "\n",
    "How about if we use calendar year instead?"
   ]
  },
  {
   "cell_type": "code",
   "execution_count": 15,
   "metadata": {},
   "outputs": [],
   "source": [
    "regICPre2018 <- lm(formula = NumberOfInvoices ~ NumberOfBuses + CalendarYear,\n",
    "                 data = filter(expenditures, lubridate::year(FirstDayOfMonth) < 2018))"
   ]
  },
  {
   "cell_type": "code",
   "execution_count": 16,
   "metadata": {},
   "outputs": [
    {
     "data": {
      "text/plain": [
       "\n",
       "Call:\n",
       "lm(formula = NumberOfInvoices ~ NumberOfBuses + CalendarYear, \n",
       "    data = filter(expenditures, lubridate::year(FirstDayOfMonth) < \n",
       "        2018))\n",
       "\n",
       "Residuals:\n",
       "     Min       1Q   Median       3Q      Max \n",
       "-109.406  -33.427    8.104   32.726  107.198 \n",
       "\n",
       "Coefficients:\n",
       "                Estimate Std. Error t value Pr(>|t|)\n",
       "(Intercept)   -1.716e+04  2.444e+04  -0.702    0.485\n",
       "NumberOfBuses  5.855e-01  5.702e-01   1.027    0.308\n",
       "CalendarYear   8.588e+00  1.224e+01   0.702    0.485\n",
       "\n",
       "Residual standard error: 46.12 on 81 degrees of freedom\n",
       "Multiple R-squared:  0.4634,\tAdjusted R-squared:  0.4502 \n",
       "F-statistic: 34.98 on 2 and 81 DF,  p-value: 1.121e-11\n"
      ]
     },
     "metadata": {},
     "output_type": "display_data"
    }
   ],
   "source": [
    "summary(regICPre2018)"
   ]
  },
  {
   "cell_type": "markdown",
   "metadata": {},
   "source": [
    "Now this result is quite interesting.  Our R^2 didn't change but now neither variable is significant!  This is a great example of something called multicollinearity, one of the challenges of regression.  Put simply, the number of buses increases by about the same number every year, so there is very high correlation between number of buses and calendar year:"
   ]
  },
  {
   "cell_type": "code",
   "execution_count": 17,
   "metadata": {},
   "outputs": [
    {
     "data": {
      "text/html": [
       "0.97863860940341"
      ],
      "text/latex": [
       "0.97863860940341"
      ],
      "text/markdown": [
       "0.97863860940341"
      ],
      "text/plain": [
       "[1] 0.9786386"
      ]
     },
     "metadata": {},
     "output_type": "display_data"
    }
   ],
   "source": [
    "exp2017 <- filter(expenditures, lubridate::year(FirstDayOfMonth) < 2018)\n",
    "cor(exp2017$NumberOfBuses, exp2017$CalendarYear)"
   ]
  },
  {
   "cell_type": "markdown",
   "metadata": {},
   "source": [
    "That is, 97.9% of the variance reflected in buses is also reflected in year.  These two variables are **co-linear**.  Because these two variables move almost 1 for 1, it is difficult for the regression algorithm to separate behavior in one versus the other.  They're both fighting to explain the same variance and so both end up with higher p-values.  Also of interest is that the R^2 doesn't change.  Multicollinearity doesn't make your overall predictions worse, but it does make it tougher to tell which independent variables are driving the change.\n",
    "\n",
    "This is an extreme scenario, mind you, but mutlicollinearity is a common enough occurrence that you will want to be on the lookout for it.\n",
    "\n",
    "Now let's take a step back, as we're not getting the job done with regressing at the month level."
   ]
  },
  {
   "cell_type": "markdown",
   "metadata": {},
   "source": [
    "## Regressing Annual Data\n",
    "\n",
    "Let's look at annual data to see if this is a tighter fit."
   ]
  },
  {
   "cell_type": "code",
   "execution_count": 18,
   "metadata": {},
   "outputs": [],
   "source": [
    "annualExpenditures <- DBI::dbGetQuery(conn, \"WITH buses AS\n",
    "(\n",
    "\tSELECT\n",
    "\t\tc.CalendarYear,\n",
    "\t\tCOUNT(*) AS NumberOfBuses\n",
    "\tFROM dbo.Bus b\n",
    "\t\tINNER JOIN dbo.Calendar c\n",
    "\t\t\tON b.DateFirstInService <= c.Date\n",
    "\t\t\tAND ISNULL(b.DateRetired, '2018-12-31') >= c.Date\n",
    "\tWHERE\n",
    "\t\tc.CalendarDayOfYear = 1\n",
    "\t\tAND c.CalendarYear >= 2011\n",
    "\t\tAND c.CalendarYear < 2019\n",
    "\tGROUP BY\n",
    "\t\tc.CalendarYear\n",
    "),\n",
    "expenses AS\n",
    "(\n",
    "\tSELECT\n",
    "\t\tc.CalendarYear,\n",
    "\t\tCOUNT(*) AS NumberOfInvoices,\n",
    "\t\tSUM(li.Amount) AS TotalInvoicedAmount\n",
    "\tFROM dbo.LineItem li\n",
    "\t\tINNER JOIN dbo.Calendar c\n",
    "\t\t\tON li.LineItemDate = c.Date\n",
    "\tGROUP BY\n",
    "\tc.CalendarYear\n",
    ")\n",
    "SELECT\n",
    "\tb.CalendarYear,\n",
    "\tb.NumberOfBuses,\n",
    "\te.NumberOfInvoices,\n",
    "\te.TotalInvoicedAmount\n",
    "FROM buses b\n",
    "\tINNER JOIN expenses e\n",
    "\t\tON b.CalendarYear = e.CalendarYear\n",
    "ORDER BY\n",
    "\tb.CalendarYear;\n",
    "\")"
   ]
  },
  {
   "cell_type": "code",
   "execution_count": 19,
   "metadata": {},
   "outputs": [],
   "source": [
    "regICAnnualPre2018 <- lm(formula = NumberOfInvoices ~ NumberOfBuses,\n",
    "                 data = filter(annualExpenditures, CalendarYear < 2018))"
   ]
  },
  {
   "cell_type": "code",
   "execution_count": 20,
   "metadata": {},
   "outputs": [
    {
     "data": {
      "text/plain": [
       "\n",
       "Call:\n",
       "lm(formula = NumberOfInvoices ~ NumberOfBuses, data = filter(annualExpenditures, \n",
       "    CalendarYear < 2018))\n",
       "\n",
       "Residuals:\n",
       "      1       2       3       4       5       6       7 \n",
       "-88.842  96.831 -55.448   3.799  60.520  75.029 -91.889 \n",
       "\n",
       "Coefficients:\n",
       "               Estimate Std. Error t value Pr(>|t|)    \n",
       "(Intercept)   -892.3481   341.9814  -2.609   0.0477 *  \n",
       "NumberOfBuses   12.7377     0.8428  15.113  2.3e-05 ***\n",
       "---\n",
       "Signif. codes:  0 '***' 0.001 '**' 0.01 '*' 0.05 '.' 0.1 ' ' 1\n",
       "\n",
       "Residual standard error: 87.29 on 5 degrees of freedom\n",
       "Multiple R-squared:  0.9786,\tAdjusted R-squared:  0.9743 \n",
       "F-statistic: 228.4 on 1 and 5 DF,  p-value: 2.298e-05\n"
      ]
     },
     "metadata": {},
     "output_type": "display_data"
    }
   ],
   "source": [
    "summary(regICAnnualPre2018)"
   ]
  },
  {
   "cell_type": "code",
   "execution_count": 21,
   "metadata": {
    "scrolled": false
   },
   "outputs": [
    {
     "data": {
      "image/png": "[encoded data removed]",
      "text/plain": [
       "Plot with title \"\""
      ]
     },
     "metadata": {},
     "output_type": "display_data"
    },
    {
     "data": {
      "image/png": "[encoded data removed]",
      "text/plain": [
       "Plot with title \"\""
      ]
     },
     "metadata": {},
     "output_type": "display_data"
    },
    {
     "data": {
      "image/png": "[encoded data removed]",
      "text/plain": [
       "Plot with title \"\""
      ]
     },
     "metadata": {},
     "output_type": "display_data"
    },
    {
     "data": {
      "image/png": "[encoded data removed]",
      "text/plain": [
       "Plot with title \"\""
      ]
     },
     "metadata": {},
     "output_type": "display_data"
    }
   ],
   "source": [
    "options(repr.plot.width=6, repr.plot.height=4) \n",
    "plot(regICAnnualPre2018)"
   ]
  },
  {
   "cell_type": "markdown",
   "metadata": {},
   "source": [
    "Now we have a 97% R^2.  At the annual level, these differences seem to smooth out.  The number of data points is small so be forewarned but it looks stable.  Now let's look at it with 2018 data in."
   ]
  },
  {
   "cell_type": "code",
   "execution_count": 22,
   "metadata": {},
   "outputs": [],
   "source": [
    "regICAnnual <- lm(formula = NumberOfInvoices ~ NumberOfBuses,\n",
    "                 data = annualExpenditures)"
   ]
  },
  {
   "cell_type": "code",
   "execution_count": 23,
   "metadata": {},
   "outputs": [
    {
     "data": {
      "text/plain": [
       "\n",
       "Call:\n",
       "lm(formula = NumberOfInvoices ~ NumberOfBuses, data = annualExpenditures)\n",
       "\n",
       "Residuals:\n",
       "    Min      1Q  Median      3Q     Max \n",
       "-930.72 -335.89  -84.58  293.99 1263.23 \n",
       "\n",
       "Coefficients:\n",
       "               Estimate Std. Error t value Pr(>|t|)   \n",
       "(Intercept)   -4857.145   2236.150  -2.172  0.07285 . \n",
       "NumberOfBuses    23.002      5.358   4.293  0.00513 **\n",
       "---\n",
       "Signif. codes:  0 '***' 0.001 '**' 0.01 '*' 0.05 '.' 0.1 ' ' 1\n",
       "\n",
       "Residual standard error: 706.1 on 6 degrees of freedom\n",
       "Multiple R-squared:  0.7544,\tAdjusted R-squared:  0.7135 \n",
       "F-statistic: 18.43 on 1 and 6 DF,  p-value: 0.005131\n"
      ]
     },
     "metadata": {},
     "output_type": "display_data"
    }
   ],
   "source": [
    "summary(regICAnnual)"
   ]
  },
  {
   "cell_type": "markdown",
   "metadata": {},
   "source": [
    "Note that the R^2 drops from 97% to 71%.  That's a pretty big drop for one year.\n",
    "\n",
    "One last thing is, I'd like to see what the previous model would have predicted for 2018.  We can use the `predict()` function to perform this operation easily."
   ]
  },
  {
   "cell_type": "code",
   "execution_count": 24,
   "metadata": {},
   "outputs": [
    {
     "data": {
      "text/html": [
       "<strong>1:</strong> 5361.85544929003"
      ],
      "text/latex": [
       "\\textbf{1:} 5361.85544929003"
      ],
      "text/markdown": [
       "**1:** 5361.85544929003"
      ],
      "text/plain": [
       "       1 \n",
       "5361.855 "
      ]
     },
     "metadata": {},
     "output_type": "display_data"
    }
   ],
   "source": [
    "predict(regICAnnualPre2018, newdata = filter(annualExpenditures, CalendarYear == 2018))"
   ]
  },
  {
   "cell_type": "code",
   "execution_count": 25,
   "metadata": {},
   "outputs": [
    {
     "data": {
      "text/html": [
       "<table>\n",
       "<thead><tr><th scope=col>CalendarYear</th><th scope=col>NumberOfBuses</th><th scope=col>NumberOfInvoices</th><th scope=col>TotalInvoicedAmount</th></tr></thead>\n",
       "<tbody>\n",
       "\t<tr><td>2018     </td><td>491      </td><td>7700     </td><td>2061966.8</td></tr>\n",
       "\t<tr><td>2017     </td><td>468      </td><td>4977     </td><td> 947527.5</td></tr>\n",
       "\t<tr><td>2016     </td><td>441      </td><td>4800     </td><td> 923023.6</td></tr>\n",
       "\t<tr><td>2015     </td><td>420      </td><td>4518     </td><td> 880116.3</td></tr>\n",
       "\t<tr><td>2014     </td><td>402      </td><td>4232     </td><td> 818787.0</td></tr>\n",
       "\t<tr><td>2013     </td><td>382      </td><td>3918     </td><td> 735916.2</td></tr>\n",
       "\t<tr><td>2012     </td><td>364      </td><td>3841     </td><td> 735574.3</td></tr>\n",
       "\t<tr><td>2011     </td><td>350      </td><td>3477     </td><td> 669353.4</td></tr>\n",
       "</tbody>\n",
       "</table>\n"
      ],
      "text/latex": [
       "\\begin{tabular}{r|llll}\n",
       " CalendarYear & NumberOfBuses & NumberOfInvoices & TotalInvoicedAmount\\\\\n",
       "\\hline\n",
       "\t 2018      & 491       & 7700      & 2061966.8\\\\\n",
       "\t 2017      & 468       & 4977      &  947527.5\\\\\n",
       "\t 2016      & 441       & 4800      &  923023.6\\\\\n",
       "\t 2015      & 420       & 4518      &  880116.3\\\\\n",
       "\t 2014      & 402       & 4232      &  818787.0\\\\\n",
       "\t 2013      & 382       & 3918      &  735916.2\\\\\n",
       "\t 2012      & 364       & 3841      &  735574.3\\\\\n",
       "\t 2011      & 350       & 3477      &  669353.4\\\\\n",
       "\\end{tabular}\n"
      ],
      "text/markdown": [
       "\n",
       "CalendarYear | NumberOfBuses | NumberOfInvoices | TotalInvoicedAmount | \n",
       "|---|---|---|---|---|---|---|---|\n",
       "| 2018      | 491       | 7700      | 2061966.8 | \n",
       "| 2017      | 468       | 4977      |  947527.5 | \n",
       "| 2016      | 441       | 4800      |  923023.6 | \n",
       "| 2015      | 420       | 4518      |  880116.3 | \n",
       "| 2014      | 402       | 4232      |  818787.0 | \n",
       "| 2013      | 382       | 3918      |  735916.2 | \n",
       "| 2012      | 364       | 3841      |  735574.3 | \n",
       "| 2011      | 350       | 3477      |  669353.4 | \n",
       "\n",
       "\n"
      ],
      "text/plain": [
       "  CalendarYear NumberOfBuses NumberOfInvoices TotalInvoicedAmount\n",
       "1 2018         491           7700             2061966.8          \n",
       "2 2017         468           4977              947527.5          \n",
       "3 2016         441           4800              923023.6          \n",
       "4 2015         420           4518              880116.3          \n",
       "5 2014         402           4232              818787.0          \n",
       "6 2013         382           3918              735916.2          \n",
       "7 2012         364           3841              735574.3          \n",
       "8 2011         350           3477              669353.4          "
      ]
     },
     "metadata": {},
     "output_type": "display_data"
    }
   ],
   "source": [
    "annualExpenditures %>% arrange(desc(CalendarYear))"
   ]
  },
  {
   "cell_type": "code",
   "execution_count": null,
   "metadata": {},
   "outputs": [],
   "source": []
  }
 ],
 "metadata": {
  "kernelspec": {
   "display_name": "R",
   "language": "R",
   "name": "ir"
  },
  "language_info": {
   "codemirror_mode": "r",
   "file_extension": ".r",
   "mimetype": "text/x-r-source",
   "name": "R",
   "pygments_lexer": "r",
   "version": "3.5.1"
  }
 },
 "nbformat": 4,
 "nbformat_minor": 2
}
