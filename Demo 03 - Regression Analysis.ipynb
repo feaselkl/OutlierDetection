{
 "cells": [
  {
   "cell_type": "markdown",
   "metadata": {},
   "source": [
    "# Demo 03 - Regression Analysis\n",
    "\n",
    "Up to this point, we've performed basic descriptive analytics, looking at counts.  We can also use regression analysis to help us understand our data better."
   ]
  },
  {
   "cell_type": "code",
   "execution_count": null,
   "metadata": {},
   "outputs": [],
   "source": [
    "if(!require(tidyverse)) {\n",
    "    install.packages(\"tidyverse\", repos = \"http://cran.us.r-project.org\")\n",
    "    library(tidyverse)\n",
    "}\n",
    "\n",
    "if(!require(odbc)) {\n",
    "    install.packages(\"odbc\", repos = \"http://cran.us.r-project.org\")\n",
    "    library(odbc)\n",
    "}\n",
    "\n",
    "# ggplot2 is installed with the tidyverse.\n",
    "library(ggplot2)"
   ]
  },
  {
   "cell_type": "markdown",
   "metadata": {},
   "source": [
    "## Regressing Expenditures Against Bus Counts\n",
    "\n",
    "We have data broken down by month to try to avoid some of the noise while still giving us enough data points for regression."
   ]
  },
  {
   "cell_type": "code",
   "execution_count": null,
   "metadata": {},
   "outputs": [],
   "source": [
    "conn <- DBI::dbConnect(odbc::odbc(), \n",
    "                      Driver = \"SQL Server\", \n",
    "                      Server = \"localhost\", \n",
    "                      Database = \"ForensicAccounting\", \n",
    "                      Trusted_Connection = \"True\")"
   ]
  },
  {
   "cell_type": "code",
   "execution_count": null,
   "metadata": {},
   "outputs": [],
   "source": [
    "expenditures <- DBI::dbGetQuery(conn, \"WITH buses AS\n",
    "(\n",
    "\tSELECT\n",
    "\t\tc.FirstDayOfMonth,\n",
    "\t\tc.CalendarMonth,\n",
    "\t\tc.CalendarYear,\n",
    "\t\tCOUNT(*) AS NumberOfBuses\n",
    "\tFROM dbo.Bus b\n",
    "\t\tINNER JOIN dbo.Calendar c\n",
    "\t\t\tON b.DateFirstInService <= c.Date\n",
    "\t\t\tAND ISNULL(b.DateRetired, '2018-12-31') >= c.Date\n",
    "\tWHERE\n",
    "\t\tc.Date = c.FirstDayOfMonth\n",
    "\t\tAND c.CalendarYear >= 2011\n",
    "\t\tAND c.CalendarYear < 2019\n",
    "\tGROUP BY\n",
    "\t\tc.FirstDayOfMonth,\n",
    "\t\tc.CalendarMonth,\n",
    "\t\tc.CalendarYear\n",
    "),\n",
    "expenses AS\n",
    "(\n",
    "\tSELECT\n",
    "\t\tc.FirstDayOfMonth,\n",
    "\t\tCOUNT(*) AS NumberOfInvoices,\n",
    "\t\tSUM(li.Amount) AS TotalInvoicedAmount\n",
    "\tFROM dbo.LineItem li\n",
    "\t\tINNER JOIN dbo.Calendar c\n",
    "\t\t\tON li.LineItemDate = c.Date\n",
    "\tGROUP BY\n",
    "\tc.FirstDayOfMonth\n",
    ")\n",
    "SELECT\n",
    "\tb.FirstDayOfMonth,\n",
    "\tb.CalendarMonth,\n",
    "\tb.CalendarYear,\n",
    "\tb.NumberOfBuses,\n",
    "\te.NumberOfInvoices,\n",
    "\te.TotalInvoicedAmount\n",
    "FROM buses b\n",
    "\tINNER JOIN expenses e\n",
    "\t\tON b.FirstDayOfMonth = e.FirstDayOfMonth\n",
    "ORDER BY\n",
    "\tb.FirstDayOfMonth;\n",
    "\")"
   ]
  },
  {
   "cell_type": "code",
   "execution_count": null,
   "metadata": {},
   "outputs": [],
   "source": [
    "summary(expenditures)\n",
    "glimpse(expenditures)"
   ]
  },
  {
   "cell_type": "markdown",
   "metadata": {},
   "source": [
    "The `lm()` function allows us to build a linear regression quickly in R.  Our assumption is that bus expenditures scale linearly with respect to the number of buses in our fleet.  This might not be a perfect understanding of the data but should be good for a first glance."
   ]
  },
  {
   "cell_type": "code",
   "execution_count": null,
   "metadata": {},
   "outputs": [],
   "source": [
    "reg <- lm(formula = TotalInvoicedAmount ~ NumberOfBuses, data = expenditures)"
   ]
  },
  {
   "cell_type": "code",
   "execution_count": null,
   "metadata": {},
   "outputs": [],
   "source": [
    "summary(reg)"
   ]
  },
  {
   "cell_type": "markdown",
   "metadata": {},
   "source": [
    "As a first approximation, the number of buses explains about 38% of the variance in data.  This graph can show us why:"
   ]
  },
  {
   "cell_type": "code",
   "execution_count": null,
   "metadata": {},
   "outputs": [],
   "source": [
    "options(repr.plot.width=6, repr.plot.height=4) \n",
    "ggplot(data = expenditures, aes(x = NumberOfBuses, y = TotalInvoicedAmount)) +\n",
    "    geom_point() +\n",
    "    geom_smooth()"
   ]
  },
  {
   "cell_type": "markdown",
   "metadata": {},
   "source": [
    "But remember that we saw the data in 2018 spike.  Given that, let's see how the regression works prior to 2018."
   ]
  },
  {
   "cell_type": "code",
   "execution_count": null,
   "metadata": {},
   "outputs": [],
   "source": [
    "regPre2018 <- lm(formula = TotalInvoicedAmount ~ NumberOfBuses,\n",
    "                 data = filter(expenditures, lubridate::year(FirstDayOfMonth) < 2018))"
   ]
  },
  {
   "cell_type": "code",
   "execution_count": null,
   "metadata": {},
   "outputs": [],
   "source": [
    "summary(regPre2018)"
   ]
  },
  {
   "cell_type": "code",
   "execution_count": null,
   "metadata": {},
   "outputs": [],
   "source": [
    "options(repr.plot.width=6, repr.plot.height=4) \n",
    "plot(regPre2018)"
   ]
  },
  {
   "cell_type": "markdown",
   "metadata": {},
   "source": [
    "It turns out that this is only a minor improvement.  But let's look at counts.\n",
    "\n",
    "## Regressing Invoice Counts Against Bus Counts"
   ]
  },
  {
   "cell_type": "code",
   "execution_count": null,
   "metadata": {},
   "outputs": [],
   "source": [
    "regICPre2018 <- lm(formula = NumberOfInvoices ~ NumberOfBuses,\n",
    "                 data = filter(expenditures, lubridate::year(FirstDayOfMonth) < 2018))"
   ]
  },
  {
   "cell_type": "code",
   "execution_count": null,
   "metadata": {},
   "outputs": [],
   "source": [
    "summary(regICPre2018)"
   ]
  },
  {
   "cell_type": "markdown",
   "metadata": {},
   "source": [
    "Doing this against the count of invoices gives us an R^2 of 0.45, so it's a moderate regression.  So maybe there's a bit too much noise in the monthly data.\n",
    "\n",
    "We might also be missing an important variable.  Number of buses is significant according to our probability test---its p-value is tiny.  A small p-value isn't proof of anything but here the result fits our intuition:  more buses means more invoices.  Specifically, we get approximately 1 invoice per bus per month--the estimate is 0.9771, so I'm rounding it for purposes of understanding and because these estimates have error bars, meaning it's not exactly 0.9771 but some range around 0.9771.\n",
    "\n",
    "That aside, let's see if we can do better here.  The three variables we have in our SQL query are number of buses, calendar month and calendar year.  Let's see how adding the calendar dates change our results.  First we'll add month."
   ]
  },
  {
   "cell_type": "code",
   "execution_count": null,
   "metadata": {},
   "outputs": [],
   "source": [
    "regICPre2018 <- lm(formula = NumberOfInvoices ~ NumberOfBuses + CalendarMonth,\n",
    "                 data = filter(expenditures, lubridate::year(FirstDayOfMonth) < 2018))"
   ]
  },
  {
   "cell_type": "code",
   "execution_count": null,
   "metadata": {
    "scrolled": false
   },
   "outputs": [],
   "source": [
    "summary(regICPre2018)"
   ]
  },
  {
   "cell_type": "markdown",
   "metadata": {},
   "source": [
    "There is a **very** small change in the R^2 from 45% to 46% of variance explained.  Not only is that nothing to write home about, it's indistinguishable from noise.\n",
    "\n",
    "How about if we use calendar year instead?"
   ]
  },
  {
   "cell_type": "code",
   "execution_count": null,
   "metadata": {},
   "outputs": [],
   "source": [
    "regICPre2018 <- lm(formula = NumberOfInvoices ~ NumberOfBuses + CalendarYear,\n",
    "                 data = filter(expenditures, lubridate::year(FirstDayOfMonth) < 2018))"
   ]
  },
  {
   "cell_type": "code",
   "execution_count": null,
   "metadata": {},
   "outputs": [],
   "source": [
    "summary(regICPre2018)"
   ]
  },
  {
   "cell_type": "markdown",
   "metadata": {},
   "source": [
    "Now this result is quite interesting.  Our R^2 didn't change but now neither variable is significant!  This is a great example of something called multicollinearity, one of the challenges of regression.  Put simply, the number of buses increases by about the same number every year, so there is very high correlation between number of buses and calendar year:"
   ]
  },
  {
   "cell_type": "code",
   "execution_count": null,
   "metadata": {},
   "outputs": [],
   "source": [
    "exp2017 <- filter(expenditures, lubridate::year(FirstDayOfMonth) < 2018)\n",
    "cor(exp2017$NumberOfBuses, exp2017$CalendarYear)"
   ]
  },
  {
   "cell_type": "markdown",
   "metadata": {},
   "source": [
    "That is, 99.6% of the variance reflected in buses is also reflected in year.  These two variables are **co-linear**.  Because these two variables move almost 1 for 1, it is difficult for the regression algorithm to separate behavior in one versus the other.  They're both fighting to explain the same variance and so both end up with higher p-values.  Also of interest is that the R^2 doesn't change.  Multicollinearity doesn't make your overall predictions worse, but it does make it tougher to tell which independent variables are driving the change.\n",
    "\n",
    "This is an extreme scenario, mind you, but mutlicollinearity is a common enough occurrence that you will want to be on the lookout for it.\n",
    "\n",
    "Now let's take a step back, as we're not getting the job done with regressing at the month level."
   ]
  },
  {
   "cell_type": "markdown",
   "metadata": {},
   "source": [
    "## Regressing Annual Data\n",
    "\n",
    "Let's look at annual data to see if this is a tighter fit."
   ]
  },
  {
   "cell_type": "code",
   "execution_count": null,
   "metadata": {},
   "outputs": [],
   "source": [
    "annualExpenditures <- DBI::dbGetQuery(conn, \"WITH buses AS\n",
    "(\n",
    "\tSELECT\n",
    "\t\tc.CalendarYear,\n",
    "\t\tCOUNT(*) AS NumberOfBuses\n",
    "\tFROM dbo.Bus b\n",
    "\t\tINNER JOIN dbo.Calendar c\n",
    "\t\t\tON b.DateFirstInService <= c.Date\n",
    "\t\t\tAND ISNULL(b.DateRetired, '2018-12-31') >= c.Date\n",
    "\tWHERE\n",
    "\t\tc.CalendarDayOfYear = 1\n",
    "\t\tAND c.CalendarYear >= 2011\n",
    "\t\tAND c.CalendarYear < 2019\n",
    "\tGROUP BY\n",
    "\t\tc.CalendarYear\n",
    "),\n",
    "expenses AS\n",
    "(\n",
    "\tSELECT\n",
    "\t\tc.CalendarYear,\n",
    "\t\tCOUNT(*) AS NumberOfInvoices,\n",
    "\t\tSUM(li.Amount) AS TotalInvoicedAmount\n",
    "\tFROM dbo.LineItem li\n",
    "\t\tINNER JOIN dbo.Calendar c\n",
    "\t\t\tON li.LineItemDate = c.Date\n",
    "\tGROUP BY\n",
    "\tc.CalendarYear\n",
    ")\n",
    "SELECT\n",
    "\tb.CalendarYear,\n",
    "\tb.NumberOfBuses,\n",
    "\te.NumberOfInvoices,\n",
    "\te.TotalInvoicedAmount\n",
    "FROM buses b\n",
    "\tINNER JOIN expenses e\n",
    "\t\tON b.CalendarYear = e.CalendarYear\n",
    "ORDER BY\n",
    "\tb.CalendarYear;\n",
    "\")"
   ]
  },
  {
   "cell_type": "code",
   "execution_count": null,
   "metadata": {},
   "outputs": [],
   "source": [
    "regICAnnualPre2018 <- lm(formula = NumberOfInvoices ~ NumberOfBuses,\n",
    "                 data = filter(annualExpenditures, CalendarYear < 2018))"
   ]
  },
  {
   "cell_type": "code",
   "execution_count": null,
   "metadata": {},
   "outputs": [],
   "source": [
    "summary(regICAnnualPre2018)"
   ]
  },
  {
   "cell_type": "code",
   "execution_count": null,
   "metadata": {
    "scrolled": false
   },
   "outputs": [],
   "source": [
    "options(repr.plot.width=6, repr.plot.height=4) \n",
    "plot(regICAnnualPre2018)"
   ]
  },
  {
   "cell_type": "markdown",
   "metadata": {},
   "source": [
    "Now we have a 99% R^2.  At the annual level, these differences seem to smooth out.  The number of data points is small so be forewarned but it looks stable.  Now let's look at it with 2018 data in."
   ]
  },
  {
   "cell_type": "code",
   "execution_count": null,
   "metadata": {},
   "outputs": [],
   "source": [
    "regICAnnual <- lm(formula = NumberOfInvoices ~ NumberOfBuses,\n",
    "                 data = annualExpenditures)"
   ]
  },
  {
   "cell_type": "code",
   "execution_count": null,
   "metadata": {},
   "outputs": [],
   "source": [
    "summary(regICAnnual)"
   ]
  },
  {
   "cell_type": "markdown",
   "metadata": {},
   "source": [
    "Note that the R^2 drops from 99% to 46%.  That's a pretty big drop for one year.\n",
    "\n",
    "One last thing is, I'd like to see what the previous model would have predicted for 2018.  We can use the `predict()` function to perform this operation easily."
   ]
  },
  {
   "cell_type": "code",
   "execution_count": null,
   "metadata": {},
   "outputs": [],
   "source": [
    "predict(regICAnnualPre2018, newdata = filter(annualExpenditures, CalendarYear == 2018))"
   ]
  },
  {
   "cell_type": "code",
   "execution_count": null,
   "metadata": {},
   "outputs": [],
   "source": [
    "annualExpenditures %>% arrange(desc(CalendarYear))"
   ]
  },
  {
   "cell_type": "code",
   "execution_count": null,
   "metadata": {},
   "outputs": [],
   "source": []
  }
 ],
 "metadata": {
  "kernelspec": {
   "display_name": "R",
   "language": "R",
   "name": "ir"
  },
  "language_info": {
   "codemirror_mode": "r",
   "file_extension": ".r",
   "mimetype": "text/x-r-source",
   "name": "R",
   "pygments_lexer": "r",
   "version": "3.6.1"
  }
 },
 "nbformat": 4,
 "nbformat_minor": 2
}
