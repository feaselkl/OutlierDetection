{
 "cells": [
  {
   "cell_type": "markdown",
   "metadata": {},
   "source": [
    "# Demo 10 - Benford's Law\n",
    "\n",
    "This is a demo of Benford's Law.  Benford's Law is an interesting numerical phenomenon relating to the first digit in a sequence of numbers."
   ]
  },
  {
   "cell_type": "code",
   "execution_count": null,
   "metadata": {
    "collapsed": false,
    "scrolled": true
   },
   "outputs": [],
   "source": [
    "install.packages('tidyverse', repos = \"http://cran.us.r-project.org\", dependencies = TRUE)\n",
    "install.packages('benford.analysis', repos = \"http://cran.us.r-project.org\")"
   ]
  },
  {
   "cell_type": "code",
   "execution_count": null,
   "metadata": {
    "collapsed": false
   },
   "outputs": [],
   "source": [
    "library(tidyverse)\n",
    "library(benford.analysis)\n",
    "library(MASS)"
   ]
  },
  {
   "cell_type": "markdown",
   "metadata": {
    "collapsed": true
   },
   "source": [
    "First, we will manually build the first-digit Benford data set.  I am adding 0.5 to each value to make it easier to see the point against the histogram backdrop."
   ]
  },
  {
   "cell_type": "code",
   "execution_count": null,
   "metadata": {
    "collapsed": true
   },
   "outputs": [],
   "source": [
    "benford.predictions <- data.frame(\n",
    "  c(1.5,2.5,3.5,4.5,5.5,6.5,7.5,8.5,9.5),\n",
    "  c(0.301,0.176,0.125,0.097,0.079,0.067,0.058,0.051,0.046)\n",
    ")\n",
    "names(benford.predictions)[1] <- \"Digit\"\n",
    "names(benford.predictions)[2] <- \"Frequency\""
   ]
  },
  {
   "cell_type": "markdown",
   "metadata": {},
   "source": [
    "The following function strips out the first digit, as we only care about the first digit for our analysis."
   ]
  },
  {
   "cell_type": "code",
   "execution_count": null,
   "metadata": {
    "collapsed": true
   },
   "outputs": [],
   "source": [
    "firstdigit <- function(k) {\n",
    "  as.numeric(head(strsplit(as.character(k), '')[[1]],n=1))\n",
    "}"
   ]
  },
  {
   "cell_type": "markdown",
   "metadata": {},
   "source": [
    "## North Carolina Population\n",
    "\n",
    "For our first example, we will load the North Carolina population as of 2013."
   ]
  },
  {
   "cell_type": "code",
   "execution_count": null,
   "metadata": {
    "collapsed": false
   },
   "outputs": [],
   "source": [
    "nc.pop <- read.csv(\"Data/NorthCarolinaPopulation2013.csv\", sep=\",\", header=TRUE)"
   ]
  },
  {
   "cell_type": "code",
   "execution_count": null,
   "metadata": {
    "collapsed": false
   },
   "outputs": [],
   "source": [
    "tail(nc.pop, 5)"
   ]
  },
  {
   "cell_type": "markdown",
   "metadata": {},
   "source": [
    "Now we will take the population data and get just the first digit.  We will build a histogram of the first digit of each city's population, and then overlay that with what our Benford analysis values would predict."
   ]
  },
  {
   "cell_type": "code",
   "execution_count": null,
   "metadata": {
    "collapsed": false
   },
   "outputs": [],
   "source": [
    "nc.pop.first <- sapply(nc.pop$Population, firstdigit)\n",
    "truehist(nc.pop.first, nbins=10, ymax = 0.35)\n",
    "points(benford.predictions)\n",
    "lines(benford.predictions)"
   ]
  },
  {
   "cell_type": "markdown",
   "metadata": {},
   "source": [
    "It's not perfect, but it certainly fits.\n",
    "\n",
    "Now let's look at a fancier method of plotting Benford analysis, using the benford.analysis library that we loaded at the top of the notebook."
   ]
  },
  {
   "cell_type": "code",
   "execution_count": null,
   "metadata": {
    "collapsed": false
   },
   "outputs": [],
   "source": [
    "cp <- benford(data = nc.pop$Population, number.of.digits = 1, sign = \"positive\", discrete=TRUE, round=3)\n",
    "plot(cp)"
   ]
  },
  {
   "cell_type": "markdown",
   "metadata": {},
   "source": [
    "Following from the Benford analysis tutorial (https://github.com/carloscinelli/benford.analysis), we should expect values similar to the following when looking at the results:\n",
    "\n",
    "|statistic|values|\n",
    "|---------|------|\n",
    "|mean|0.5|\n",
    "|variance|0.0833 (1/12)|\n",
    "|kurtosis|-1.2|\n",
    "|skewness|0|\n"
   ]
  },
  {
   "cell_type": "code",
   "execution_count": null,
   "metadata": {
    "collapsed": false
   },
   "outputs": [],
   "source": [
    "cp$mantissa"
   ]
  },
  {
   "cell_type": "markdown",
   "metadata": {},
   "source": [
    "Our actual results are very close to the expected results.\n",
    "\n",
    "### Two-Digit Sampling\n",
    "\n",
    "Now let's try two-digit sampling.  Instead of looking at just the first digit of each number, let's look at the first two digits.  Benford's Law has a set of predictions for each two-digit pairing."
   ]
  },
  {
   "cell_type": "code",
   "execution_count": null,
   "metadata": {
    "collapsed": false
   },
   "outputs": [],
   "source": [
    "cp2 <- benford(data = nc.pop$Population, number.of.digits = 2, sign = \"positive\", discrete=TRUE, round=3)\n",
    "plot(cp2)"
   ]
  },
  {
   "cell_type": "markdown",
   "metadata": {},
   "source": [
    "Note:  the spikes in the second-order test does *not* indicate a problem; it indicates that the data is discrete, not continuous.  This is a common occurrence with discrete values packed into tight ranges."
   ]
  },
  {
   "cell_type": "markdown",
   "metadata": {},
   "source": [
    "## Homeowner's Association Budget\n",
    "\n",
    "Our second example looks at my HOA's budget over a three-year period."
   ]
  },
  {
   "cell_type": "code",
   "execution_count": null,
   "metadata": {
    "collapsed": false
   },
   "outputs": [],
   "source": [
    "hoa <- read.table('Data/HOABudget.txt',header=T,sep='\\t',quote=\"\")"
   ]
  },
  {
   "cell_type": "code",
   "execution_count": null,
   "metadata": {
    "collapsed": false
   },
   "outputs": [],
   "source": [
    "hoa.yearly <- hoa %>%\n",
    "               #Use gather to unpviot our actuals & estimates by fiscal year into a single column\n",
    "               gather(FiscalYear, Amount, X2013:X2015, na.rm = TRUE) %>%\n",
    "               mutate(FiscalYear = substring(FiscalYear, 2, 5))\n",
    "                  "
   ]
  },
  {
   "cell_type": "markdown",
   "metadata": {},
   "source": [
    "Now that we have the data loaded for 2013-2015, let's analyze this.  First, we will analyze a single year at a time.  Then, we will analyze the entire data set."
   ]
  },
  {
   "cell_type": "code",
   "execution_count": null,
   "metadata": {
    "collapsed": false
   },
   "outputs": [],
   "source": [
    "hoa.2013 <- hoa.yearly %>% filter(FiscalYear == 2013)\n",
    "cp <- benford(data = hoa.2013$Amount, number.of.digits = 1, sign = \"positive\", discrete=TRUE, round=3)\n",
    "plot(cp, except=c(\"second order\", \"summation\", \"mantissa\", \"chi squared\", \"abs diff\", \"ex summation\"))"
   ]
  },
  {
   "cell_type": "code",
   "execution_count": null,
   "metadata": {
    "collapsed": false
   },
   "outputs": [],
   "source": [
    "hoa.2014 <- hoa.yearly %>% filter(FiscalYear == 2014)\n",
    "cp <- benford(data = hoa.2014$Amount, number.of.digits = 1, sign = \"positive\", discrete=TRUE, round=3)\n",
    "plot(cp, except=c(\"second order\", \"summation\", \"mantissa\", \"chi squared\", \"abs diff\", \"ex summation\"))"
   ]
  },
  {
   "cell_type": "code",
   "execution_count": null,
   "metadata": {
    "collapsed": false
   },
   "outputs": [],
   "source": [
    "hoa.2015 <- hoa.yearly %>% filter(FiscalYear == 2015)\n",
    "cp <- benford(data = hoa.2015$Amount, number.of.digits = 1, sign = \"positive\", discrete=TRUE, round=3)\n",
    "plot(cp, except=c(\"second order\", \"summation\", \"mantissa\", \"chi squared\", \"abs diff\", \"ex summation\"))"
   ]
  },
  {
   "cell_type": "code",
   "execution_count": null,
   "metadata": {
    "collapsed": false
   },
   "outputs": [],
   "source": [
    "cp <- benford(data = hoa.yearly$Amount, number.of.digits = 1, sign = \"positive\", discrete=TRUE, round=3)\n",
    "plot(cp, except=c(\"second order\", \"summation\", \"mantissa\", \"chi squared\", \"abs diff\", \"ex summation\"))"
   ]
  },
  {
   "cell_type": "code",
   "execution_count": null,
   "metadata": {
    "collapsed": false
   },
   "outputs": [],
   "source": [
    "cp$mantissa"
   ]
  },
  {
   "cell_type": "markdown",
   "metadata": {},
   "source": [
    "The mean is a bit lower than \"perfect\" and the kurtosis and skewness are both a little high.  We can see a Benford-like trend, but this doesn't quite fit.\n",
    "\n",
    "But before we start accusing my HOA of siphoning funds off, let's look at one last important measure:"
   ]
  },
  {
   "cell_type": "code",
   "execution_count": null,
   "metadata": {
    "collapsed": false
   },
   "outputs": [],
   "source": [
    "hoa.yearly %>% filter(Amount > 0) %>% count()"
   ]
  },
  {
   "cell_type": "markdown",
   "metadata": {},
   "source": [
    "That is, there are only 260 relevant entries in the entire sample, so it's not a large sample size, and so we can expect some deviation from expectations."
   ]
  },
  {
   "cell_type": "markdown",
   "metadata": {},
   "source": [
    "## Last Digit Analysis\n",
    "\n",
    "Now that we see Benford's Law holding for North Carolina's population and even somewhat for my local HOA, does the same phenomenon hold for the *last* digit of each number?\n",
    "\n",
    "To figure this out, we first need to create a function to get the last digit of each number."
   ]
  },
  {
   "cell_type": "code",
   "execution_count": null,
   "metadata": {
    "collapsed": true
   },
   "outputs": [],
   "source": [
    "lastdigit <- function(k) {\n",
    "  as.numeric(tail(strsplit(as.character(k), '')[[1]],n=1))\n",
    "}"
   ]
  },
  {
   "cell_type": "markdown",
   "metadata": {},
   "source": [
    "Next up, we will apply the function to each record in nc.pop, build a histogram, and overlay the Benford predictions."
   ]
  },
  {
   "cell_type": "code",
   "execution_count": null,
   "metadata": {
    "collapsed": false
   },
   "outputs": [],
   "source": [
    "nc.pop.last <- sapply(nc.pop$Population, lastdigit)\n",
    "truehist(nc.pop.last, nbins=10, ymax = 0.35)\n",
    "points(benford.predictions)\n",
    "lines(benford.predictions)"
   ]
  },
  {
   "cell_type": "markdown",
   "metadata": {},
   "source": [
    "Benford's Law emphatically does not fit here.  Furthermore, last digits are *not* expected to follow Benford's Law.  Instead, we should assume that the last digit is uniform unless there is a reason to believe otherwise.\n",
    "\n",
    "Similarly, here is the last digit for my HOA budget values:"
   ]
  },
  {
   "cell_type": "code",
   "execution_count": null,
   "metadata": {
    "collapsed": false
   },
   "outputs": [],
   "source": [
    "hoa.last <- sapply(hoa.yearly$Amount, lastdigit)\n",
    "truehist(hoa.last, nbins=10)\n",
    "points(benford.predictions)\n",
    "lines(benford.predictions)"
   ]
  },
  {
   "cell_type": "markdown",
   "metadata": {},
   "source": [
    "My HOA's last digit is almost always a 0 and it's not even close.  But there's a reason for us to expect this:  budgeted values tend to end in 0, as there is little value in false precision.  This is a case where we should not expect the uniform distribution to hold."
   ]
  },
  {
   "cell_type": "code",
   "execution_count": null,
   "metadata": {
    "collapsed": true
   },
   "outputs": [],
   "source": []
  }
 ],
 "metadata": {
  "kernelspec": {
   "display_name": "R",
   "language": "R",
   "name": "ir"
  },
  "language_info": {
   "codemirror_mode": "r",
   "file_extension": ".r",
   "mimetype": "text/x-r-source",
   "name": "R",
   "pygments_lexer": "r",
   "version": "3.3.2"
  }
 },
 "nbformat": 4,
 "nbformat_minor": 2
}
