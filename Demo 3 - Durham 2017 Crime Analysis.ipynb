{
 "cells": [
  {
   "cell_type": "markdown",
   "metadata": {},
   "source": [
    "# Demo 3 - Durham 2017 Crime Analysis"
   ]
  },
  {
   "cell_type": "markdown",
   "metadata": {},
   "source": [
    "In this demo, we will look at some basic date-related measures relating to crime in Durham, North Carolina.  Our data set comes from the city of Durham, and we will analyze the data in the rest of this notebook.\n",
    "\n",
    "For this demo, we will use pyodbc and ipython-sql.  pyodbc is an ODBC driver for Python, whereas ipython-sql allows you to use \"sql magic\" in Jupyter.  You can just as easily run the queries in SQL Server Management Studio if you prefer.\n",
    "\n",
    "First, let's use pip to install pyodbc and ipython-sql and prep them for load."
   ]
  },
  {
   "cell_type": "code",
   "execution_count": null,
   "metadata": {
    "collapsed": false
   },
   "outputs": [],
   "source": [
    "!pip install pyodbc"
   ]
  },
  {
   "cell_type": "markdown",
   "metadata": {},
   "source": [
    "To load pyodbc, we can use the **import** statement."
   ]
  },
  {
   "cell_type": "code",
   "execution_count": null,
   "metadata": {
    "collapsed": true
   },
   "outputs": [],
   "source": [
    "import pyodbc"
   ]
  },
  {
   "cell_type": "code",
   "execution_count": null,
   "metadata": {
    "collapsed": false
   },
   "outputs": [],
   "source": [
    "!pip install ipython-sql"
   ]
  },
  {
   "cell_type": "markdown",
   "metadata": {},
   "source": [
    "To use SQL magic, we will need to run the following load command."
   ]
  },
  {
   "cell_type": "code",
   "execution_count": null,
   "metadata": {
    "collapsed": false
   },
   "outputs": [],
   "source": [
    "%load_ext sql"
   ]
  },
  {
   "cell_type": "markdown",
   "metadata": {},
   "source": [
    "From here on out, I can use the *%sql* command to run a single-line SQL command.  I can also use the *%%sql* command to run multi-line SQL commands.\n",
    "\n",
    "The first thing I want to connect to the OutlierDetection database.  I have already created an ODBC connection pointing to localhost.OutlierDetection.  You do not need to use a pre-defined ODBC connection, but when connecting to SQL Server, I've found it easier to use a pre-defined connection."
   ]
  },
  {
   "cell_type": "code",
   "execution_count": null,
   "metadata": {
    "collapsed": false
   },
   "outputs": [],
   "source": [
    "%sql mssql+pyodbc://OutlierDetection"
   ]
  },
  {
   "cell_type": "markdown",
   "metadata": {},
   "source": [
    "Let's start by looking at a few records from the data set to give us an idea of what's available.\n",
    "\n",
    "**NOTE:** the geography data type is not supported within IPython-SQL, so we will not include that column in this notebook."
   ]
  },
  {
   "cell_type": "code",
   "execution_count": null,
   "metadata": {
    "collapsed": false
   },
   "outputs": [],
   "source": [
    "%%sql\n",
    "SELECT TOP 5\n",
    "\tc.IncidentID,\n",
    "\tc.DateReported,\n",
    "\tc.DateOccurred,\n",
    "\tc.DateFound,\n",
    "\tc.IncidentReportCategory,\n",
    "\tc.UCRCode,\n",
    "\tc.ReportedToUCR,\n",
    "\tc.ChargeDescription,\n",
    "\tc.CSStatus,\n",
    "\tc.CSStatusDate,\n",
    "\tc.District,\n",
    "\tc.Zone\n",
    "FROM Durham2017.Crime c;"
   ]
  },
  {
   "cell_type": "markdown",
   "metadata": {},
   "source": [
    "We see a few date columns in this data set, so we will focus on those next.  First up, I want to see if there are any strange date orders, starting with whether there were any events reported after the occurrence date or the found date."
   ]
  },
  {
   "cell_type": "code",
   "execution_count": null,
   "metadata": {
    "collapsed": false
   },
   "outputs": [],
   "source": [
    "%%sql\n",
    "SELECT COUNT(1) AS NumberOfOutliers\n",
    "FROM Durham2017.Crime c\n",
    "WHERE\n",
    "\tc.DateReported < c.DateOccurred;"
   ]
  },
  {
   "cell_type": "markdown",
   "metadata": {},
   "source": [
    "No incidents were reported before their occurrence date, so how about found date?"
   ]
  },
  {
   "cell_type": "code",
   "execution_count": null,
   "metadata": {
    "collapsed": false
   },
   "outputs": [],
   "source": [
    "%%sql\n",
    "SELECT COUNT(1) AS NumberOfOutliers\n",
    "FROM Durham2017.Crime c\n",
    "WHERE\n",
    "\tc.DateFound < c.DateOccurred;"
   ]
  },
  {
   "cell_type": "markdown",
   "metadata": {
    "collapsed": true
   },
   "source": [
    "Similarly, we have no records where the date occurred is before the date found.  This is good because it helps us understand that the data set follows the chronological order we would expect.\n",
    "\n",
    "What about old incidents?  Let's look at incidents which were reported at least three months after they took place."
   ]
  },
  {
   "cell_type": "code",
   "execution_count": null,
   "metadata": {
    "collapsed": false
   },
   "outputs": [],
   "source": [
    "%%sql\n",
    "SELECT COUNT(1) AS LateReportedCrimes\n",
    "FROM Durham2017.Crime c\n",
    "WHERE\n",
    "\tc.DateReported > DATEADD(MONTH, 3, c.DateOccurred);"
   ]
  },
  {
   "cell_type": "markdown",
   "metadata": {},
   "source": [
    "We have nearly 1800 crimes which took place at least three months before reporting.  This bears further investigation, so let's look at it by incident report category."
   ]
  },
  {
   "cell_type": "code",
   "execution_count": null,
   "metadata": {
    "collapsed": false
   },
   "outputs": [],
   "source": [
    "%%sql\n",
    "SELECT\n",
    "\tc.IncidentReportCategory,\n",
    "\tCOUNT(1) AS NumberOfIncidents\n",
    "FROM Durham2017.Crime c\n",
    "WHERE\n",
    "\tc.DateReported > DATEADD(MONTH, 3, c.DateOccurred)\n",
    "GROUP BY\n",
    "\tc.IncidentReportCategory\n",
    "HAVING\n",
    "    COUNT(1) > 50\n",
    "ORDER BY\n",
    "\tNumberOfIncidents DESC;"
   ]
  },
  {
   "cell_type": "markdown",
   "metadata": {},
   "source": [
    "Based on this, fraud appears to be the most common long-lasting problem, where it might take more than three months for news of the fraud to get back to the victim.  We can also look at the eventual charged crime category to see if the results look similar."
   ]
  },
  {
   "cell_type": "code",
   "execution_count": null,
   "metadata": {
    "collapsed": false
   },
   "outputs": [],
   "source": [
    "%%sql\n",
    "SELECT\n",
    "\tc.ChargeDescription,\n",
    "\tCOUNT(1) AS NumberOfIncidents\n",
    "FROM Durham2017.Crime c\n",
    "WHERE\n",
    "\tc.DateReported > DATEADD(MONTH, 3, c.DateOccurred)\n",
    "GROUP BY\n",
    "\tc.ChargeDescription\n",
    "HAVING\n",
    "\tCOUNT(1) > 50\n",
    "ORDER BY\n",
    "\tNumberOfIncidents DESC;"
   ]
  },
  {
   "cell_type": "markdown",
   "metadata": {},
   "source": [
    "Fraud, larceny, and burglary are the three most common at the 3+ month range.\n",
    "\n",
    "There are some reports years after the incident, and we can see the breakdown here."
   ]
  },
  {
   "cell_type": "code",
   "execution_count": null,
   "metadata": {
    "collapsed": false
   },
   "outputs": [],
   "source": [
    "%%sql\n",
    "SELECT\n",
    "\tDATEPART(YEAR, c.DateReported) AS ReportYear,\n",
    "\tDATEDIFF(DAY, c.DateOccurred, c.DateReported) AS DaysBetweenOccurrenceAndReport,\n",
    "\tDATEDIFF(DAY, c.DateFound, c.DateReported) AS DaysBetweenFindingAndReport,\n",
    "\tc.IncidentReportCategory,\n",
    "\tc.ChargeDescription\n",
    "FROM Durham2017.Crime c\n",
    "WHERE\n",
    "\tDATEDIFF(DAY, c.DateOccurred, c.DateReported) > 3650"
   ]
  },
  {
   "cell_type": "markdown",
   "metadata": {},
   "source": [
    "In this data set, there are 55 such incidents.  Fraud is still the most common, but sexual assault and rape appear with high frequency."
   ]
  },
  {
   "cell_type": "code",
   "execution_count": null,
   "metadata": {
    "collapsed": true
   },
   "outputs": [],
   "source": []
  }
 ],
 "metadata": {
  "kernelspec": {
   "display_name": "Python 3",
   "language": "python",
   "name": "python3"
  },
  "language_info": {
   "codemirror_mode": {
    "name": "ipython",
    "version": 3
   },
   "file_extension": ".py",
   "mimetype": "text/x-python",
   "name": "python",
   "nbconvert_exporter": "python",
   "pygments_lexer": "ipython3",
   "version": "3.6.0"
  }
 },
 "nbformat": 4,
 "nbformat_minor": 2
}
