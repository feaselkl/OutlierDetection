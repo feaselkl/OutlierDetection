{
 "cells": [
  {
   "cell_type": "markdown",
   "metadata": {},
   "source": [
    "# Demo 07 - Benford's Law\n",
    "\n",
    "This is a demo of Benford's Law.  Benford's Law is an interesting numerical phenomenon relating to the first digit in a sequence of numbers."
   ]
  },
  {
   "cell_type": "code",
   "execution_count": null,
   "metadata": {
    "scrolled": true
   },
   "outputs": [],
   "source": [
    "if(!require(tidyverse)) {\n",
    "    install.packages(\"tidyverse\", repos = \"http://cran.us.r-project.org\")\n",
    "    library(tidyverse)\n",
    "}\n",
    "\n",
    "if(!require(benford.analysis)) {\n",
    "    install.packages(\"benford.analysis\", repos = \"http://cran.us.r-project.org\")\n",
    "    library(benford.analysis)\n",
    "}\n",
    "\n",
    "if(!require(MASS)) {\n",
    "    install.packages(\"MASS\", repos = \"http://cran.us.r-project.org\")\n",
    "    library(MASS)\n",
    "}\n",
    "\n",
    "if(!require(odbc)) {\n",
    "    install.packages(\"odbc\", repos = \"http://cran.us.r-project.org\")\n",
    "    library(odbc)\n",
    "}"
   ]
  },
  {
   "cell_type": "markdown",
   "metadata": {
    "collapsed": true
   },
   "source": [
    "First, we will manually build the first-digit Benford data set.  I am adding 0.5 to each value to make it easier to see the point against the histogram backdrop."
   ]
  },
  {
   "cell_type": "code",
   "execution_count": null,
   "metadata": {},
   "outputs": [],
   "source": [
    "benford.predictions <- data.frame(\n",
    "  c(1.5,2.5,3.5,4.5,5.5,6.5,7.5,8.5,9.5),\n",
    "  c(0.301,0.176,0.125,0.097,0.079,0.067,0.058,0.051,0.046)\n",
    ")\n",
    "names(benford.predictions)[1] <- \"Digit\"\n",
    "names(benford.predictions)[2] <- \"Frequency\""
   ]
  },
  {
   "cell_type": "markdown",
   "metadata": {},
   "source": [
    "The following function strips out the first digit, as we only care about the first digit for our analysis."
   ]
  },
  {
   "cell_type": "code",
   "execution_count": null,
   "metadata": {},
   "outputs": [],
   "source": [
    "firstdigit <- function(k) {\n",
    "  as.numeric(head(strsplit(as.character(k), '')[[1]],n=1))\n",
    "}"
   ]
  },
  {
   "cell_type": "markdown",
   "metadata": {},
   "source": [
    "## North Carolina Population\n",
    "\n",
    "For our first example, we will load the North Carolina population as of 2013."
   ]
  },
  {
   "cell_type": "code",
   "execution_count": null,
   "metadata": {},
   "outputs": [],
   "source": [
    "nc.pop <- read.csv(\"Data/NorthCarolinaPopulation2013.csv\", sep=\",\", header=TRUE)"
   ]
  },
  {
   "cell_type": "code",
   "execution_count": null,
   "metadata": {},
   "outputs": [],
   "source": [
    "tail(nc.pop, 5)"
   ]
  },
  {
   "cell_type": "markdown",
   "metadata": {},
   "source": [
    "Now we will take the population data and get just the first digit.  We will build a histogram of the first digit of each city's population, and then overlay that with what our Benford analysis values would predict."
   ]
  },
  {
   "cell_type": "code",
   "execution_count": null,
   "metadata": {},
   "outputs": [],
   "source": [
    "nc.pop.first <- sapply(nc.pop$Population, firstdigit)\n",
    "truehist(nc.pop.first, nbins=10, ymax = 0.35)\n",
    "points(benford.predictions)\n",
    "lines(benford.predictions)"
   ]
  },
  {
   "cell_type": "markdown",
   "metadata": {},
   "source": [
    "It's not perfect, but it certainly fits.\n",
    "\n",
    "Now let's look at a fancier method of plotting Benford analysis, using the benford.analysis library that we loaded at the top of the notebook."
   ]
  },
  {
   "cell_type": "code",
   "execution_count": null,
   "metadata": {},
   "outputs": [],
   "source": [
    "cp <- benford(data = nc.pop$Population, number.of.digits = 1, sign = \"positive\", discrete=TRUE, round=3)\n",
    "plot(cp)"
   ]
  },
  {
   "cell_type": "markdown",
   "metadata": {},
   "source": [
    "Following from the Benford analysis tutorial (https://github.com/carloscinelli/benford.analysis), we should expect values similar to the following when looking at the results:\n",
    "\n",
    "|statistic|values|\n",
    "|---------|------|\n",
    "|mean|0.5|\n",
    "|variance|0.0833 (1/12)|\n",
    "|kurtosis|-1.2|\n",
    "|skewness|0|\n"
   ]
  },
  {
   "cell_type": "code",
   "execution_count": null,
   "metadata": {},
   "outputs": [],
   "source": [
    "cp$mantissa"
   ]
  },
  {
   "cell_type": "markdown",
   "metadata": {},
   "source": [
    "Our actual results are very close to the expected results.\n",
    "\n",
    "### Two-Digit Sampling\n",
    "\n",
    "Now let's try two-digit sampling.  Instead of looking at just the first digit of each number, let's look at the first two digits.  Benford's Law has a set of predictions for each two-digit pairing."
   ]
  },
  {
   "cell_type": "code",
   "execution_count": null,
   "metadata": {},
   "outputs": [],
   "source": [
    "cp2 <- benford(data = nc.pop$Population, number.of.digits = 2, sign = \"positive\", discrete=TRUE, round=3)\n",
    "plot(cp2)"
   ]
  },
  {
   "cell_type": "markdown",
   "metadata": {},
   "source": [
    "Note:  the spikes in the second-order test does *not* indicate a problem; it indicates that the data is discrete, not continuous.  This is a common occurrence with discrete values packed into tight ranges."
   ]
  },
  {
   "cell_type": "markdown",
   "metadata": {},
   "source": [
    "## Expenses Data\n",
    "\n",
    "Our second example looks at the data set we've used throughout this talk."
   ]
  },
  {
   "cell_type": "code",
   "execution_count": null,
   "metadata": {},
   "outputs": [],
   "source": [
    "conn <- DBI::dbConnect(odbc::odbc(), \n",
    "                      Driver = \"SQL Server\", \n",
    "                      Server = \"localhost\", \n",
    "                      Database = \"ForensicAccounting\", \n",
    "                      Trusted_Connection = \"True\")"
   ]
  },
  {
   "cell_type": "code",
   "execution_count": null,
   "metadata": {},
   "outputs": [],
   "source": [
    "lineItems <- DBI::dbGetQuery(conn, \"SELECT\n",
    "\tli.LineItemDate,\n",
    "\tc.CalendarMonth,\n",
    "\tc.MonthName,\n",
    "\tc.CalendarYear,\n",
    "\tc.FirstDayOfMonth,\n",
    "\tli.Amount\n",
    "FROM dbo.LineItem li\n",
    "\tINNER JOIN dbo.Calendar c\n",
    "\t\tON li.LineItemDate = c.Date;\n",
    "\")\n",
    "lineItems$FirstDayOfMonth <- lubridate::ymd(lineItems$FirstDayOfMonth)"
   ]
  },
  {
   "cell_type": "markdown",
   "metadata": {},
   "source": [
    "First we want to get the amount of each line item and contrast it with what Benford's Law suggests we should have."
   ]
  },
  {
   "cell_type": "code",
   "execution_count": null,
   "metadata": {},
   "outputs": [],
   "source": [
    "options(repr.plot.width=6, repr.plot.height=4)\n",
    "cp <- benford(data = lineItems$Amount, number.of.digits = 1, sign = \"positive\", discrete=TRUE, round=3)\n",
    "plot(cp, except=c(\"second order\", \"summation\", \"mantissa\", \"chi squared\", \"abs diff\", \"ex summation\", \"legend\"))"
   ]
  },
  {
   "cell_type": "code",
   "execution_count": null,
   "metadata": {},
   "outputs": [],
   "source": [
    "cp$mantissa"
   ]
  },
  {
   "cell_type": "markdown",
   "metadata": {},
   "source": [
    "All in all, this is a **really** good fit.  Remember that our ideals are:\n",
    "\n",
    "|statistic|values|\n",
    "|---------|------|\n",
    "|mean|0.5|\n",
    "|variance|0.0833 (1/12)|\n",
    "|kurtosis|-1.2|\n",
    "|skewness|0|\n",
    "\n",
    "Let's see how it looks prior to 2018."
   ]
  },
  {
   "cell_type": "code",
   "execution_count": null,
   "metadata": {},
   "outputs": [],
   "source": [
    "options(repr.plot.width=6, repr.plot.height=4)\n",
    "lineItemsPre2018 <- lineItems %>% filter(CalendarYear < 2018)\n",
    "cp <- benford(data = lineItemsPre2018$Amount, number.of.digits = 1, sign = \"positive\", discrete=TRUE, round=3)\n",
    "plot(cp, except=c(\"second order\", \"summation\", \"mantissa\", \"chi squared\", \"abs diff\", \"ex summation\", \"legend\"))"
   ]
  },
  {
   "cell_type": "code",
   "execution_count": null,
   "metadata": {},
   "outputs": [],
   "source": [
    "cp$mantissa"
   ]
  },
  {
   "cell_type": "markdown",
   "metadata": {},
   "source": [
    "This is a tiny bit worse than the ideal.  So how does 2018 look?"
   ]
  },
  {
   "cell_type": "code",
   "execution_count": null,
   "metadata": {},
   "outputs": [],
   "source": [
    "options(repr.plot.width=6, repr.plot.height=4)\n",
    "lineItems2018 <- lineItems %>% filter(CalendarYear == 2018)\n",
    "cp <- benford(data = lineItems2018$Amount, number.of.digits = 1, sign = \"positive\", discrete=TRUE, round=3)\n",
    "plot(cp, except=c(\"second order\", \"summation\", \"mantissa\", \"chi squared\", \"abs diff\", \"ex summation\", \"legend\"))"
   ]
  },
  {
   "cell_type": "code",
   "execution_count": null,
   "metadata": {},
   "outputs": [],
   "source": [
    "cp$mantissa"
   ]
  },
  {
   "cell_type": "markdown",
   "metadata": {},
   "source": [
    "Even with the crazy skew around amount starting with the number 9, our mantissa comes close to ideal."
   ]
  },
  {
   "cell_type": "markdown",
   "metadata": {},
   "source": [
    "## Last Digit Analysis\n",
    "\n",
    "Now that we see Benford's Law holding for North Carolina's population and our expenditure analysis, does the same phenomenon hold for the *last* digit of each number?\n",
    "\n",
    "To figure this out, we first need to create a function to get the last digit of each number."
   ]
  },
  {
   "cell_type": "code",
   "execution_count": null,
   "metadata": {},
   "outputs": [],
   "source": [
    "lastdigit <- function(k) {\n",
    "  as.numeric(tail(strsplit(as.character(k), '')[[1]],n=1))\n",
    "}"
   ]
  },
  {
   "cell_type": "markdown",
   "metadata": {},
   "source": [
    "Next up, we will apply the function to each record in nc.pop, build a histogram, and overlay the Benford predictions."
   ]
  },
  {
   "cell_type": "code",
   "execution_count": null,
   "metadata": {},
   "outputs": [],
   "source": [
    "nc.pop.last <- sapply(nc.pop$Population, lastdigit)\n",
    "truehist(nc.pop.last, nbins=10, ymax = 0.35)\n",
    "points(benford.predictions)\n",
    "lines(benford.predictions)"
   ]
  },
  {
   "cell_type": "markdown",
   "metadata": {},
   "source": [
    "Benford's Law emphatically does not fit here.  Furthermore, last digits are *not* expected to follow Benford's Law.  Instead, we should assume that the last digit is uniform unless there is a reason to believe otherwise.\n",
    "\n",
    "Similarly, here is the last digit for the fraud data set:"
   ]
  },
  {
   "cell_type": "code",
   "execution_count": null,
   "metadata": {
    "scrolled": true
   },
   "outputs": [],
   "source": [
    "options(repr.plot.width=6, repr.plot.height=4)\n",
    "lineItems_last <- sapply(round(lineItems$Amount), lastdigit)\n",
    "truehist(lineItems_last, nbins=10)\n",
    "points(benford.predictions)\n",
    "lines(benford.predictions)"
   ]
  },
  {
   "cell_type": "markdown",
   "metadata": {},
   "source": [
    "Benford's Law applies to first digits, not last digits.  Instead, we usually assume uniformity with last digits unless there is a reason to believe otherwise.  One reason to believe otherwise is budgets:  we tend to see budgets end with 0 much more frequently than other numbers because budgets are estimations and people tend to avoid false precision with those sorts of estimations."
   ]
  },
  {
   "cell_type": "code",
   "execution_count": null,
   "metadata": {},
   "outputs": [],
   "source": []
  }
 ],
 "metadata": {
  "kernelspec": {
   "display_name": "R",
   "language": "R",
   "name": "ir"
  },
  "language_info": {
   "codemirror_mode": "r",
   "file_extension": ".r",
   "mimetype": "text/x-r-source",
   "name": "R",
   "pygments_lexer": "r",
   "version": "3.5.1"
  }
 },
 "nbformat": 4,
 "nbformat_minor": 2
}
