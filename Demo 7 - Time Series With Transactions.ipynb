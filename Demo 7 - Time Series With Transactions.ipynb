{
 "cells": [
  {
   "cell_type": "markdown",
   "metadata": {},
   "source": [
    "# Demo 7 - Time Series With Transactions"
   ]
  },
  {
   "cell_type": "markdown",
   "metadata": {},
   "source": [
    "In this demo, we will look at the basics of time series, using Wake County transactions as a sample.  We want to look at some basic details by day, starting at a very high level and digging down as we see interesting things.\n",
    "\n",
    "For this demo, we will use pyodbc and ipython-sql.  pyodbc is an ODBC driver for Python, whereas ipython-sql allows you to use \"sql magic\" in Jupyter.  You can just as easily run the queries in SQL Server Management Studio if you prefer.\n",
    "\n",
    "First, let's use pip to install pyodbc and ipython-sql and prep them for load."
   ]
  },
  {
   "cell_type": "code",
   "execution_count": null,
   "metadata": {
    "collapsed": false
   },
   "outputs": [],
   "source": [
    "!pip install pyodbc"
   ]
  },
  {
   "cell_type": "markdown",
   "metadata": {},
   "source": [
    "To load pyodbc, we can use the **import** statement."
   ]
  },
  {
   "cell_type": "code",
   "execution_count": null,
   "metadata": {
    "collapsed": true
   },
   "outputs": [],
   "source": [
    "import pyodbc"
   ]
  },
  {
   "cell_type": "code",
   "execution_count": null,
   "metadata": {
    "collapsed": false
   },
   "outputs": [],
   "source": [
    "!pip install ipython-sql"
   ]
  },
  {
   "cell_type": "markdown",
   "metadata": {},
   "source": [
    "To use SQL magic, we will need to run the following load command."
   ]
  },
  {
   "cell_type": "code",
   "execution_count": null,
   "metadata": {
    "collapsed": false
   },
   "outputs": [],
   "source": [
    "%load_ext sql"
   ]
  },
  {
   "cell_type": "markdown",
   "metadata": {},
   "source": [
    "From here on out, I can use the *%sql* command to run a single-line SQL command.  I can also use the *%%sql* command to run multi-line SQL commands.\n",
    "\n",
    "The first thing I want to connect to the OutlierDetection database.  I have already created an ODBC connection pointing to localhost.OutlierDetection.  You do not need to use a pre-defined ODBC connection, but when connecting to SQL Server, I've found it easier to use a pre-defined connection."
   ]
  },
  {
   "cell_type": "code",
   "execution_count": null,
   "metadata": {
    "collapsed": false
   },
   "outputs": [],
   "source": [
    "%sql mssql+pyodbc://OutlierDetection"
   ]
  },
  {
   "cell_type": "markdown",
   "metadata": {},
   "source": [
    "Our first query will get a simple number of number of transactions (with actuals) by day, ordered by record date.  This is an easy query, but gives us a good idea of how the data is distributed.  We can scan through the results to get ideas of magnitude.\n",
    "\n",
    "A good idea here would be to think about how we could visualize this data!"
   ]
  },
  {
   "cell_type": "code",
   "execution_count": null,
   "metadata": {
    "collapsed": false
   },
   "outputs": [],
   "source": [
    "%%sql\n",
    "SELECT\n",
    "\tt.RecordDate,\n",
    "\tCOUNT(1) AS NumberOfTransactions\n",
    "FROM Wake.WakeTransaction t\n",
    "WHERE\n",
    "\tt.ActualAmount > 0\n",
    "GROUP BY\n",
    "\tt.RecordDate\n",
    "ORDER BY\n",
    "\tt.RecordDate;"
   ]
  },
  {
   "cell_type": "markdown",
   "metadata": {},
   "source": [
    "We can see that there is a pretty wide variance in the number of events by day, so let's then look at the big days, that is cases where the number of positive-sum transactions is greater than 1000 for a single day."
   ]
  },
  {
   "cell_type": "code",
   "execution_count": null,
   "metadata": {
    "collapsed": false
   },
   "outputs": [],
   "source": [
    "%%sql\n",
    "WITH records AS\n",
    "(\n",
    "\tSELECT\n",
    "\t\tt.RecordDate,\n",
    "\t\tCOUNT(1) AS NumberOfTransactions\n",
    "\tFROM Wake.WakeTransaction t\n",
    "\tWHERE\n",
    "\t\tt.ActualAmount > 0\n",
    "\tGROUP BY\n",
    "\t\tt.RecordDate\n",
    ")\n",
    "SELECT\n",
    "\tr.RecordDate,\n",
    "\tDATENAME(WEEKDAY, r.RecordDate) AS DayOfWeek,\n",
    "\tr.NumberOfTransactions\n",
    "FROM records r\n",
    "WHERE\n",
    "\tr.NumberOfTransactions > 1000\n",
    "ORDER BY\n",
    "\tNumberOfTransactions DESC;"
   ]
  },
  {
   "cell_type": "markdown",
   "metadata": {},
   "source": [
    "There are a couple of patterns we can eyeball.  First, Fridays are pretty popular.  Second, we can see a lot of results for the second of each month.  Let's look further into the cases on the second of the month, using September 2nd as an example."
   ]
  },
  {
   "cell_type": "code",
   "execution_count": null,
   "metadata": {
    "collapsed": false
   },
   "outputs": [],
   "source": [
    "%%sql\n",
    "SELECT\n",
    "\tt.CostCenter,\n",
    "\tt.VendorName,\n",
    "\tet.ExpenditureTypeName,\n",
    "\tecat.ExpenditureCategoryName,\n",
    "\tec.ExpenditureClassName,\n",
    "\teli.ExpenditureLineItemName,\n",
    "\tt.ActualAmount\n",
    "FROM Wake.WakeTransaction t\n",
    "\tINNER JOIN Wake.ExpenditureClass ec\n",
    "\t\tON t.ExpenditureClassCode = ec.ExpenditureClassCode\n",
    "\tINNER JOIN Wake.ExpenditureLineItem eli\n",
    "\t\tON t.ExpenditureLineItemCode = eli.ExpenditureLineItemCode\n",
    "\tINNER JOIN Wake.ExpenditureCategory ecat\n",
    "\t\tON eli.ExpenditureCategoryCode = ecat.ExpenditureCategoryCode\n",
    "\tINNER JOIN Wake.ExpenditureType et\n",
    "\t\tON ecat.ExpenditureTypeCode = et.ExpenditureTypeCode\n",
    "WHERE\n",
    "\tt.RecordDate = '2016-09-02'\n",
    "\tand t.ActualAmount > 0\n",
    "ORDER BY\n",
    "\tt.ActualAmount;"
   ]
  },
  {
   "cell_type": "markdown",
   "metadata": {
    "collapsed": true
   },
   "source": [
    "Look at the vendor names, we can see a *lot* of PCard (payment card) records.  Is it possible that these are the big difference between the 2nd of the month and the other days?"
   ]
  },
  {
   "cell_type": "code",
   "execution_count": null,
   "metadata": {
    "collapsed": false
   },
   "outputs": [],
   "source": [
    "%%sql\n",
    "SELECT\n",
    "\tCASE WHEN t.VendorName LIKE '%PCard%' THEN 1 ELSE 0 END AS IsPaymentCard,\n",
    "\tCOUNT(1) AS NumberOfTransactions\n",
    "FROM Wake.WakeTransaction t\n",
    "WHERE\n",
    "\tt.RecordDate = '2016-09-02'\n",
    "\tand t.ActualAmount > 0\n",
    "GROUP BY\n",
    "\tCASE WHEN t.VendorName LIKE '%PCard%' THEN 1 ELSE 0 END;"
   ]
  },
  {
   "cell_type": "markdown",
   "metadata": {},
   "source": [
    "It certainly looks like a significant percentage of payments are for payment cards.  So let's look at the total set of results."
   ]
  },
  {
   "cell_type": "code",
   "execution_count": null,
   "metadata": {
    "collapsed": false
   },
   "outputs": [],
   "source": [
    "%%sql\n",
    "SELECT\n",
    "\tt.RecordDate,\n",
    "\tSUM(CASE WHEN t.VendorName LIKE '%PCard%' THEN 1 ELSE 0 END) AS IsPaymentCard,\n",
    "\tSUM(CASE WHEN t.VendorName LIKE '%PCard%' THEN 0 ELSE 1 END) AS NotPaymentCard,\n",
    "\tCOUNT(1) AS NumberOfTransactions\n",
    "FROM Wake.WakeTransaction t\n",
    "WHERE\n",
    "\tt.ActualAmount > 0\n",
    "GROUP BY\n",
    "\tt.RecordDate\n",
    "ORDER BY\n",
    "\tt.RecordDate;"
   ]
  },
  {
   "cell_type": "markdown",
   "metadata": {},
   "source": [
    "The pattern does appear to hold, at least for July through December.  But in the data set that we currently have (which is a work in progress), we do not have any details about payment card transactions after December.\n",
    "\n",
    "How about negative amounts?"
   ]
  },
  {
   "cell_type": "code",
   "execution_count": null,
   "metadata": {
    "collapsed": false
   },
   "outputs": [],
   "source": [
    "%%sql\n",
    "SELECT\n",
    "\tt.RecordDate,\n",
    "\tCOUNT(1) AS NumberOfTransactions\n",
    "FROM Wake.WakeTransaction t\n",
    "WHERE\n",
    "\tt.ActualAmount < 0\n",
    "GROUP BY\n",
    "\tt.RecordDate\n",
    "ORDER BY\n",
    "\tt.RecordDate;"
   ]
  },
  {
   "cell_type": "markdown",
   "metadata": {},
   "source": [
    "It's interesting that we often see negative transactions cluster around the 15th and the end of each month.  My first guess is that it is related to employee benefits.  So let's test that conjecture!  We will pick a day in February and check it out."
   ]
  },
  {
   "cell_type": "code",
   "execution_count": null,
   "metadata": {
    "collapsed": false
   },
   "outputs": [],
   "source": [
    "%%sql\n",
    "SELECT\n",
    "\tt.CostCenter,\n",
    "\tt.VendorName,\n",
    "\tet.ExpenditureTypeName,\n",
    "\tecat.ExpenditureCategoryName,\n",
    "\tec.ExpenditureClassName,\n",
    "\teli.ExpenditureLineItemName,\n",
    "\tt.ActualAmount\n",
    "FROM Wake.WakeTransaction t\n",
    "\tINNER JOIN Wake.ExpenditureClass ec\n",
    "\t\tON t.ExpenditureClassCode = ec.ExpenditureClassCode\n",
    "\tINNER JOIN Wake.ExpenditureLineItem eli\n",
    "\t\tON t.ExpenditureLineItemCode = eli.ExpenditureLineItemCode\n",
    "\tINNER JOIN Wake.ExpenditureCategory ecat\n",
    "\t\tON eli.ExpenditureCategoryCode = ecat.ExpenditureCategoryCode\n",
    "\tINNER JOIN Wake.ExpenditureType et\n",
    "\t\tON ecat.ExpenditureTypeCode = et.ExpenditureTypeCode\n",
    "WHERE\n",
    "\tt.RecordDate = '2017-02-26'\n",
    "\tand t.ActualAmount < 0\n",
    "ORDER BY\n",
    "\tCostCenter;"
   ]
  },
  {
   "cell_type": "markdown",
   "metadata": {},
   "source": [
    "In fact, most of the results here are dental and medical plan benefits.  These are the employee and employer shares of dental and medical plans.  Let's break it out by share."
   ]
  },
  {
   "cell_type": "code",
   "execution_count": null,
   "metadata": {
    "collapsed": false
   },
   "outputs": [],
   "source": [
    "%%sql\n",
    "SELECT\n",
    "\tt.RecordDate,\n",
    "\tSUM(CASE WHEN eli.ExpenditureLineItemName = 'Contra-Employer Share-Dental' THEN ActualAmount ELSE 0 END) AS EmployerDental,\n",
    "\tSUM(CASE WHEN eli.ExpenditureLineItemName = 'Contra-Employee Share-Dental' THEN ActualAmount ELSE 0 END) AS EmployeeDental,\n",
    "\tSUM(CASE WHEN eli.ExpenditureLineItemName = 'Contra-Employer Share-Health' THEN ActualAmount ELSE 0 END) AS EmployerHealth,\n",
    "\tSUM(CASE WHEN eli.ExpenditureLineItemName = 'Contra-Employee Share-Health' THEN ActualAmount ELSE 0 END) AS EmployeeHealth\n",
    "FROM Wake.WakeTransaction t\n",
    "\tINNER JOIN Wake.ExpenditureClass ec\n",
    "\t\tON t.ExpenditureClassCode = ec.ExpenditureClassCode\n",
    "\tINNER JOIN Wake.ExpenditureLineItem eli\n",
    "\t\tON t.ExpenditureLineItemCode = eli.ExpenditureLineItemCode\n",
    "\tINNER JOIN Wake.ExpenditureCategory ecat\n",
    "\t\tON eli.ExpenditureCategoryCode = ecat.ExpenditureCategoryCode\n",
    "\tINNER JOIN Wake.ExpenditureType et\n",
    "\t\tON ecat.ExpenditureTypeCode = et.ExpenditureTypeCode\n",
    "WHERE\n",
    "\tt.ActualAmount < 0\n",
    "GROUP BY\n",
    "\tt.RecordDate\n",
    "ORDER BY\n",
    "\tt.RecordDate;"
   ]
  },
  {
   "cell_type": "markdown",
   "metadata": {},
   "source": [
    "It looks like for the dental plan, it's almost a 53-47 split.  For the health plan, it's about an 80-20 split."
   ]
  },
  {
   "cell_type": "code",
   "execution_count": null,
   "metadata": {
    "collapsed": true
   },
   "outputs": [],
   "source": []
  }
 ],
 "metadata": {
  "kernelspec": {
   "display_name": "Python 3",
   "language": "python",
   "name": "python3"
  },
  "language_info": {
   "codemirror_mode": {
    "name": "ipython",
    "version": 3
   },
   "file_extension": ".py",
   "mimetype": "text/x-python",
   "name": "python",
   "nbconvert_exporter": "python",
   "pygments_lexer": "ipython3",
   "version": "3.6.0"
  }
 },
 "nbformat": 4,
 "nbformat_minor": 2
}
