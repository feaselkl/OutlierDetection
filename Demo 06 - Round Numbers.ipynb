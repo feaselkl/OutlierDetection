{
 "cells": [
  {
   "cell_type": "markdown",
   "metadata": {},
   "source": [
    "# Demo 06 - Round Numbers"
   ]
  },
  {
   "cell_type": "markdown",
   "metadata": {},
   "source": [
    "In this demo, we will perform round number analysis on our data set.\n",
    "\n",
    "For this demo, we will use pyodbc and ipython-sql.  pyodbc is an ODBC driver for Python, whereas ipython-sql allows you to use \"sql magic\" in Jupyter.  You can just as easily run the queries in SQL Server Management Studio if you prefer.\n",
    "\n",
    "First, let's use pip to install pyodbc and ipython-sql and prep them for load."
   ]
  },
  {
   "cell_type": "code",
   "execution_count": null,
   "metadata": {},
   "outputs": [],
   "source": [
    "!pip install pyodbc"
   ]
  },
  {
   "cell_type": "markdown",
   "metadata": {},
   "source": [
    "To load pyodbc, we can use the **import** statement."
   ]
  },
  {
   "cell_type": "code",
   "execution_count": null,
   "metadata": {},
   "outputs": [],
   "source": [
    "import pyodbc"
   ]
  },
  {
   "cell_type": "code",
   "execution_count": null,
   "metadata": {},
   "outputs": [],
   "source": [
    "!pip install ipython-sql"
   ]
  },
  {
   "cell_type": "markdown",
   "metadata": {},
   "source": [
    "To use SQL magic, we will need to run the following load command."
   ]
  },
  {
   "cell_type": "code",
   "execution_count": null,
   "metadata": {},
   "outputs": [],
   "source": [
    "%load_ext sql"
   ]
  },
  {
   "cell_type": "markdown",
   "metadata": {},
   "source": [
    "From here on out, I can use the *%sql* command to run a single-line SQL command.  I can also use the *%%sql* command to run multi-line SQL commands.\n",
    "\n",
    "The first thing I want to connect to the OutlierDetection database.  I have already created an ODBC connection pointing to localhost.OutlierDetection.  You do not need to use a pre-defined ODBC connection, but when connecting to SQL Server, I've found it easier to use a pre-defined connection."
   ]
  },
  {
   "cell_type": "code",
   "execution_count": null,
   "metadata": {},
   "outputs": [],
   "source": [
    "%sql mssql+pyodbc://ForensicAccounting"
   ]
  },
  {
   "cell_type": "markdown",
   "metadata": {},
   "source": [
    "Round Number analysis looks for the number of trailing zeroes before the decimal.  The idea here is that people might be rounding off values and pocketing the remainder, so a bill of \\$41.08 might be rounded up to \\$50.\n",
    "\n",
    "We will break down transactions into types:  type 0, 1, 2, 3, and 4+.  A type 0 has zero trailing 0s, whereas a 4+ would have at least four trailing 0s.\n",
    "\n",
    "**Examples:**\n",
    "\n",
    "\\$58 is a type 0.\n",
    "\n",
    "\\$108 is a type 0.\n",
    "\n",
    "\\$110 is a type 1.\n",
    "\n",
    "\\$34,000 is a type 3.\n",
    "\n",
    "This particular query uses the CROSS APPLY operator to make the query a bit easier to understand."
   ]
  },
  {
   "cell_type": "code",
   "execution_count": null,
   "metadata": {},
   "outputs": [],
   "source": [
    "%%sql\n",
    "WITH records AS\n",
    "(\n",
    "\tSELECT\n",
    "\t\tv.VendorName,\n",
    "\t\ta.RoundedAmount\n",
    "\tFROM dbo.LineItem li\n",
    "\t\tINNER JOIN dbo.Vendor v\n",
    "\t\t\tON li.VendorID = v.VendorID\n",
    "\t\tCROSS APPLY\n",
    "\t\t(\n",
    "\t\t\tSELECT\n",
    "\t\t\t\tROUND(li.Amount, 0) AS RoundedAmount\n",
    "\t\t) a\n",
    "\tWHERE\n",
    "\t\ta.RoundedAmount > 0\n",
    ")\n",
    "SELECT\n",
    "\tr.VendorName,\n",
    "\tSUM(t4.IsType4) AS Type4,\n",
    "\tSUM(t3.IsType3) AS Type3,\n",
    "\tSUM(t2.IsType2) AS Type2,\n",
    "\tSUM(t1.IsType1) AS Type1,\n",
    "\tSUM(t0.IsType0) AS Type0,\n",
    "\tCOUNT(1) AS NumberOfInvoices,\n",
    "\tCAST(100.0 * SUM(t0.IsType0) / COUNT(1) AS DECIMAL(5,2)) AS PercentType0\n",
    "FROM records r\n",
    "\tCROSS APPLY(SELECT CASE WHEN r.RoundedAmount % 10000 = 0 THEN 1 ELSE 0 END AS IsType4) t4\n",
    "\tCROSS APPLY(SELECT CASE WHEN t4.IsType4 = 0 AND r.RoundedAmount % 1000 = 0 THEN 1 ELSE 0 END AS IsType3) t3\n",
    "\tCROSS APPLY(SELECT CASE WHEN t3.IsType3 = 0 AND r.RoundedAmount % 100 = 0 THEN 1 ELSE 0 END AS IsType2) t2\n",
    "\tCROSS APPLY(SELECT CASE WHEN t2.IsType2 = 0 AND r.RoundedAmount % 10 = 0 THEN 1 ELSE 0 END AS IsType1) t1\n",
    "\tCROSS APPLY(SELECT CASE WHEN t4.IsType4 = 0 AND t3.IsType3 = 0 AND t2.IsType2 = 0 AND t1.IsType1 = 0 THEN 1 ELSE 0 END AS IsType0) t0\n",
    "GROUP BY\n",
    "\tr.VendorName\n",
    "ORDER BY\n",
    "\tPercentType0 DESC;"
   ]
  },
  {
   "cell_type": "markdown",
   "metadata": {},
   "source": [
    "What we are doing here is rounding values first and then calculating the percent of values meeting each type criterion.  Glass and Sons has a large number of \\\\$999.99 records.  Those turn to \\\\$1000 after rounding, which explains the bevy of Type 3s.\n",
    "\n",
    "This is sorted by the percent of records with no round numbers at the end.  In a realistic data set, there is a natural spread, and sometimes you will see \"big round numbers\" like we represent with Type 3 or Type 4.  The only batch of big round numbers is Glass and Sons, but we already have reason to be suspicious of their data.\n",
    "\n",
    "Next up, lets look at the high-level stats across all vendors."
   ]
  },
  {
   "cell_type": "code",
   "execution_count": null,
   "metadata": {},
   "outputs": [],
   "source": [
    "%%sql\n",
    "WITH records AS\n",
    "(\n",
    "\tSELECT\n",
    "\t\tv.VendorName,\n",
    "\t\ta.RoundedAmount\n",
    "\tFROM dbo.LineItem li\n",
    "\t\tINNER JOIN dbo.Vendor v\n",
    "\t\t\tON li.VendorID = v.VendorID\n",
    "\t\tCROSS APPLY\n",
    "\t\t(\n",
    "\t\t\tSELECT\n",
    "\t\t\t\tROUND(li.Amount, 0) AS RoundedAmount\n",
    "\t\t) a\n",
    "\tWHERE\n",
    "\t\ta.RoundedAmount > 0\n",
    ")\n",
    "SELECT\n",
    "\tSUM(t4.IsType4) AS Type4,\n",
    "\tSUM(t3.IsType3) AS Type3,\n",
    "\tSUM(t2.IsType2) AS Type2,\n",
    "\tSUM(t1.IsType1) AS Type1,\n",
    "\tSUM(t0.IsType0) AS Type0,\n",
    "\tCOUNT(1) AS NumberOfInvoices,\n",
    "\tCAST(100.0 * SUM(t0.IsType0) / COUNT(1) AS DECIMAL(5,2)) AS PercentType0\n",
    "FROM records r\n",
    "\tCROSS APPLY(SELECT CASE WHEN r.RoundedAmount % 10000 = 0 THEN 1 ELSE 0 END AS IsType4) t4\n",
    "\tCROSS APPLY(SELECT CASE WHEN t4.IsType4 = 0 AND r.RoundedAmount % 1000 = 0 THEN 1 ELSE 0 END AS IsType3) t3\n",
    "\tCROSS APPLY(SELECT CASE WHEN t3.IsType3 = 0 AND r.RoundedAmount % 100 = 0 THEN 1 ELSE 0 END AS IsType2) t2\n",
    "\tCROSS APPLY(SELECT CASE WHEN t2.IsType2 = 0 AND r.RoundedAmount % 10 = 0 THEN 1 ELSE 0 END AS IsType1) t1\n",
    "\tCROSS APPLY(SELECT CASE WHEN t4.IsType4 = 0 AND t3.IsType3 = 0 AND t2.IsType2 = 0 AND t1.IsType1 = 0 THEN 1 ELSE 0 END AS IsType0) t0;"
   ]
  },
  {
   "cell_type": "markdown",
   "metadata": {},
   "source": [
    "The percentage of non-type 0 records (that is, records whose last digit is zero) is roughly 14%.  If this were a true uniform distribution, we'd expect 10%.  That's a little higher than we'd normally expect.\n",
    "\n",
    "The cause appears to come from the type 3, where we'd expect 1/10^3 = 1/1,000 = 0.1% if digit endings were strictly uniform.  0.1% of 31,879 is approximately 32 transactions.  The fact that we have 1449 lends more credence to there being something fishy.  Want another reason to be suspicious?  Over 8 years of data, here are all of the Type 3s.  See if you spot a pattern."
   ]
  },
  {
   "cell_type": "code",
   "execution_count": null,
   "metadata": {},
   "outputs": [],
   "source": [
    "%%sql\n",
    "SELECT\n",
    "\tv.VendorName,\n",
    "\tli.Amount,\n",
    "\ta.RoundedAmount\n",
    "FROM dbo.LineItem li\n",
    "\tINNER JOIN dbo.Vendor v\n",
    "\t\tON li.VendorID = v.VendorID\n",
    "\tCROSS APPLY\n",
    "\t(\n",
    "\t\tSELECT\n",
    "\t\t\tROUND(li.Amount, 0) AS RoundedAmount\n",
    "\t) a\n",
    "WHERE\n",
    "\ta.RoundedAmount > 0\n",
    "\tAND a.RoundedAmount % 1000 = 0\n",
    "ORDER BY\n",
    "\tv.VendorName;"
   ]
  },
  {
   "cell_type": "code",
   "execution_count": null,
   "metadata": {},
   "outputs": [],
   "source": []
  }
 ],
 "metadata": {
  "kernelspec": {
   "display_name": "Python 3",
   "language": "python",
   "name": "python3"
  },
  "language_info": {
   "codemirror_mode": {
    "name": "ipython",
    "version": 3
   },
   "file_extension": ".py",
   "mimetype": "text/x-python",
   "name": "python",
   "nbconvert_exporter": "python",
   "pygments_lexer": "ipython3",
   "version": "3.8.8"
  }
 },
 "nbformat": 4,
 "nbformat_minor": 2
}
