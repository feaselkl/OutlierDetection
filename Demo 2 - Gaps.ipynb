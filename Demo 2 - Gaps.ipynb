{
 "cells": [
  {
   "cell_type": "markdown",
   "metadata": {},
   "source": [
    "# Demo 2 - Gaps"
   ]
  },
  {
   "cell_type": "markdown",
   "metadata": {},
   "source": [
    "In this demo, we will look at gaps in data.  Looking at gaps in data is important because it shows us where we might be missing individual data points.  If this is a set which should be complete, such as check numbers or invoice numbers, it might give you a telling indicator that there might be an issue.\n",
    "\n",
    "For this demo, we will use pyodbc and ipython-sql.  pyodbc is an ODBC driver for Python, whereas ipython-sql allows you to use \"sql magic\" in Jupyter.  You can just as easily run the queries in SQL Server Management Studio if you prefer.\n",
    "\n",
    "First, let's use pip to install pyodbc and ipython-sql and prep them for load."
   ]
  },
  {
   "cell_type": "code",
   "execution_count": null,
   "metadata": {
    "collapsed": false
   },
   "outputs": [],
   "source": [
    "!pip install pyodbc"
   ]
  },
  {
   "cell_type": "markdown",
   "metadata": {},
   "source": [
    "To load pyodbc, we can use the **import** statement."
   ]
  },
  {
   "cell_type": "code",
   "execution_count": null,
   "metadata": {
    "collapsed": true
   },
   "outputs": [],
   "source": [
    "import pyodbc"
   ]
  },
  {
   "cell_type": "code",
   "execution_count": null,
   "metadata": {
    "collapsed": false
   },
   "outputs": [],
   "source": [
    "!pip install ipython-sql"
   ]
  },
  {
   "cell_type": "markdown",
   "metadata": {},
   "source": [
    "To use SQL magic, we will need to run the following load command."
   ]
  },
  {
   "cell_type": "code",
   "execution_count": null,
   "metadata": {
    "collapsed": false
   },
   "outputs": [],
   "source": [
    "%load_ext sql"
   ]
  },
  {
   "cell_type": "markdown",
   "metadata": {},
   "source": [
    "From here on out, I can use the *%sql* command to run a single-line SQL command.  I can also use the *%%sql* command to run multi-line SQL commands.\n",
    "\n",
    "The first thing I want to connect to the OutlierDetection database.  I have already created an ODBC connection pointing to localhost.OutlierDetection.  You do not need to use a pre-defined ODBC connection, but when connecting to SQL Server, I've found it easier to use a pre-defined connection."
   ]
  },
  {
   "cell_type": "code",
   "execution_count": null,
   "metadata": {
    "collapsed": false
   },
   "outputs": [],
   "source": [
    "%sql mssql+pyodbc://OutlierDetection"
   ]
  },
  {
   "cell_type": "markdown",
   "metadata": {},
   "source": [
    "I am going to create a table called #Invoices.  This table will hold our invoices, with invoice number and amount.  Our assumption is that InvoiceNumber is an ever-increasing, contiguous integer value.  I will insert some records that do contain gaps.\n",
    "\n",
    "The *DROP IF EXISTS* syntax was introduced in SQL Server 2016.  If you are using a version of SQL Server prior to 2016, you can remove this line and manually drop the table if need be (or re-write this to check for the table's existence first)."
   ]
  },
  {
   "cell_type": "code",
   "execution_count": null,
   "metadata": {
    "collapsed": false
   },
   "outputs": [],
   "source": [
    "%%sql DROP TABLE IF EXISTS #Invoices;\n",
    "\n",
    "CREATE TABLE #Invoices\n",
    "(\n",
    "\tInvoiceNumber INT NOT NULL,\n",
    "\tInvoiceAmount DECIMAL(13, 2) NOT NULL\n",
    ");\n",
    "\n",
    "INSERT INTO #Invoices\n",
    "(\n",
    "\tInvoiceNumber,\n",
    "\tInvoiceAmount\n",
    ")\n",
    "VALUES\n",
    "\t(1, 500),\n",
    "\t(2, 600),\n",
    "\t(3, 150),\n",
    "\t(5, 175),\n",
    "\t(8, 209),\n",
    "\t(9, 1305);\n"
   ]
  },
  {
   "cell_type": "markdown",
   "metadata": {},
   "source": [
    "Next up, we will run a query which looks for gaps in the data.  Note that this uses syntax which Microsoft introduced in SQL Server 2012.  If you are using SQL Server 2008 R2 or earlier, you would need to use a different set of syntax to solve the gaps and islands problem."
   ]
  },
  {
   "cell_type": "code",
   "execution_count": null,
   "metadata": {
    "collapsed": false
   },
   "outputs": [],
   "source": [
    "%%sql WITH C AS\n",
    "(\n",
    "\tSELECT\n",
    "\t\tInvoiceNumber AS CurrentInvoiceNumber,\n",
    "\t\tLEAD(InvoiceNumber) OVER (ORDER BY InvoiceNumber) AS NextInvoiceNumber\n",
    "\tFROM #Invoices\n",
    ")\n",
    "SELECT\n",
    "\tCurrentInvoiceNumber + 1 AS rangestart,\n",
    "\tNextInvoiceNumber- 1 AS rangeend\n",
    "FROM C\n",
    "WHERE\n",
    "\tNextInvoiceNumber - CurrentInvoiceNumber > 1;\n"
   ]
  },
  {
   "cell_type": "markdown",
   "metadata": {},
   "source": [
    "As an alternative to gap analysis, you can join to a tally (or numbers) table and look for cases in which there is no matching result in the invoices table.\n",
    "\n",
    "This query first builds up a tally table, which is extremely fast for values up to around 10,000 records.  After about 10,000 tables, it might make more sense to build a tally table and store it on disk."
   ]
  },
  {
   "cell_type": "code",
   "execution_count": null,
   "metadata": {
    "collapsed": false
   },
   "outputs": [],
   "source": [
    "%%sql WITH\n",
    "\tt1 AS (SELECT 1 N UNION ALL SELECT 1 N),\n",
    "\tt2 AS (SELECT 1 N FROM t1 x, t1 y),\n",
    "\tt3 AS (SELECT 1 N FROM t2 x, t2 y),\n",
    "\tt4 AS (SELECT 1 N FROM t3 x, t3 y),\n",
    "\tTally AS (SELECT ROW_NUMBER() OVER (ORDER BY (SELECT NULL)) N FROM t4 x, t4 y)\n",
    "SELECT\n",
    "\tt.N\n",
    "FROM Tally t\n",
    "\tLEFT OUTER JOIN #Invoices i\n",
    "\t\tON t.N = i.InvoiceNumber\n",
    "WHERE\n",
    "\ti.InvoiceNumber IS NULL\n",
    "\tAND t.N >= (SELECT MIN(InvoiceNumber) FROM #Invoices imin)\n",
    "    AND t.N <= (SELECT MAX(InvoiceNumber) FROM #Invoices imax);"
   ]
  },
  {
   "cell_type": "code",
   "execution_count": null,
   "metadata": {
    "collapsed": true
   },
   "outputs": [],
   "source": []
  }
 ],
 "metadata": {
  "kernelspec": {
   "display_name": "Python 3",
   "language": "python",
   "name": "python3"
  },
  "language_info": {
   "codemirror_mode": {
    "name": "ipython",
    "version": 3
   },
   "file_extension": ".py",
   "mimetype": "text/x-python",
   "name": "python",
   "nbconvert_exporter": "python",
   "pygments_lexer": "ipython3",
   "version": "3.6.0"
  }
 },
 "nbformat": 4,
 "nbformat_minor": 2
}
