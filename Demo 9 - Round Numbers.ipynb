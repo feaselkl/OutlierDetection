{
 "cells": [
  {
   "cell_type": "markdown",
   "metadata": {},
   "source": [
    "# Demo 9 - Round Numbers"
   ]
  },
  {
   "cell_type": "markdown",
   "metadata": {},
   "source": [
    "In this demo, we will perform round number analysis on the Wake County transactions data set.\n",
    "\n",
    "For this demo, we will use pyodbc and ipython-sql.  pyodbc is an ODBC driver for Python, whereas ipython-sql allows you to use \"sql magic\" in Jupyter.  You can just as easily run the queries in SQL Server Management Studio if you prefer.\n",
    "\n",
    "First, let's use pip to install pyodbc and ipython-sql and prep them for load."
   ]
  },
  {
   "cell_type": "code",
   "execution_count": null,
   "metadata": {
    "collapsed": false
   },
   "outputs": [],
   "source": [
    "!pip install pyodbc"
   ]
  },
  {
   "cell_type": "markdown",
   "metadata": {},
   "source": [
    "To load pyodbc, we can use the **import** statement."
   ]
  },
  {
   "cell_type": "code",
   "execution_count": null,
   "metadata": {
    "collapsed": true
   },
   "outputs": [],
   "source": [
    "import pyodbc"
   ]
  },
  {
   "cell_type": "code",
   "execution_count": null,
   "metadata": {
    "collapsed": false
   },
   "outputs": [],
   "source": [
    "!pip install ipython-sql"
   ]
  },
  {
   "cell_type": "markdown",
   "metadata": {},
   "source": [
    "To use SQL magic, we will need to run the following load command."
   ]
  },
  {
   "cell_type": "code",
   "execution_count": null,
   "metadata": {
    "collapsed": false
   },
   "outputs": [],
   "source": [
    "%load_ext sql"
   ]
  },
  {
   "cell_type": "markdown",
   "metadata": {},
   "source": [
    "From here on out, I can use the *%sql* command to run a single-line SQL command.  I can also use the *%%sql* command to run multi-line SQL commands.\n",
    "\n",
    "The first thing I want to connect to the OutlierDetection database.  I have already created an ODBC connection pointing to localhost.OutlierDetection.  You do not need to use a pre-defined ODBC connection, but when connecting to SQL Server, I've found it easier to use a pre-defined connection."
   ]
  },
  {
   "cell_type": "code",
   "execution_count": null,
   "metadata": {
    "collapsed": false
   },
   "outputs": [],
   "source": [
    "%sql mssql+pyodbc://OutlierDetection"
   ]
  },
  {
   "cell_type": "markdown",
   "metadata": {},
   "source": [
    "Round Number analysis looks for the number of trailing zeroes before the decimal.  The idea here is that people might be rounding off values and pocketing the remainder, so a bill of $41.08 might be rounded up to $50.\n",
    "\n",
    "We will break down transactions into types:  type 0, 1, 2, 3, and 4+.  A type 0 has zero trailing 0s, whereas a 4+ would have at least four trailing 0s.\n",
    "\n",
    "**Examples:**\n",
    "\n",
    "\\$58 is a type 0.\n",
    "\n",
    "\\$108 is a type 0.\n",
    "\n",
    "\\$110 is a type 1.\n",
    "\n",
    "\\$34,000 is a type 3.\n",
    "\n",
    "This particular query uses the CROSS APPLY operator to make the query a bit easier to understand."
   ]
  },
  {
   "cell_type": "code",
   "execution_count": null,
   "metadata": {
    "collapsed": false
   },
   "outputs": [],
   "source": [
    "%%sql\n",
    "WITH records AS\n",
    "(\n",
    "\tSELECT\n",
    "\t\tt.VendorName,\n",
    "\t\tROUND(t.ActualAmount, 0) AS ActualAmount\n",
    "\tFROM Wake.WakeTransaction t\n",
    "\tWHERE\n",
    "\t\tt.ActualAmount > 0\n",
    ")\n",
    "SELECT\n",
    "\tr.VendorName,\n",
    "\tSUM(t4.IsType4) AS Type4,\n",
    "\tSUM(t3.IsType3) AS Type3,\n",
    "\tSUM(t2.IsType2) AS Type2,\n",
    "\tSUM(t1.IsType1) AS Type1,\n",
    "\tSUM(t0.IsType0) AS Type0,\n",
    "\tCOUNT(1) AS NumberOfInvoices,\n",
    "\tCAST(100.0 * SUM(t0.IsType0) / COUNT(1) AS DECIMAL(5,2)) AS PercentType0\n",
    "FROM records r\n",
    "\tCROSS APPLY(SELECT CASE WHEN r.ActualAmount % 10000 = 0 THEN 1 ELSE 0 END AS IsType4) t4\n",
    "\tCROSS APPLY(SELECT CASE WHEN t4.IsType4 = 0 AND r.ActualAmount % 1000 = 0 THEN 1 ELSE 0 END AS IsType3) t3\n",
    "\tCROSS APPLY(SELECT CASE WHEN t3.IsType3 = 0 AND r.ActualAmount % 100 = 0 THEN 1 ELSE 0 END AS IsType2) t2\n",
    "\tCROSS APPLY(SELECT CASE WHEN t2.IsType2 = 0 AND r.ActualAmount % 10 = 0 THEN 1 ELSE 0 END AS IsType1) t1\n",
    "\tCROSS APPLY(SELECT CASE WHEN t4.IsType4 = 0 AND t3.IsType3 = 0 AND t2.IsType2 = 0 AND t1.IsType1 = 0 THEN 1 ELSE 0 END AS IsType0) t0\n",
    "GROUP BY\n",
    "\tr.VendorName\n",
    "ORDER BY\n",
    "\tType2 DESC;"
   ]
  },
  {
   "cell_type": "markdown",
   "metadata": {},
   "source": [
    "This is sorted by the number of type 2 records.  In a realistic data set (like the one we have), there is a natural spread, and sometimes you will see \"big round numbers\" like in Fringe YTD.\n",
    "\n",
    "Next up, lets look at the high-level stats."
   ]
  },
  {
   "cell_type": "code",
   "execution_count": null,
   "metadata": {
    "collapsed": false
   },
   "outputs": [],
   "source": [
    "%%sql\n",
    "WITH records AS\n",
    "(\n",
    "\tSELECT\n",
    "\t\tt.VendorName,\n",
    "\t\tROUND(t.ActualAmount, 0) AS ActualAmount\n",
    "\tFROM Wake.WakeTransaction t\n",
    "\tWHERE\n",
    "\t\tt.ActualAmount > 0\n",
    ")\n",
    "SELECT\n",
    "\tSUM(t4.IsType4) AS Type4,\n",
    "\tSUM(t3.IsType3) AS Type3,\n",
    "\tSUM(t2.IsType2) AS Type2,\n",
    "\tSUM(t1.IsType1) AS Type1,\n",
    "\tSUM(t0.IsType0) AS Type0,\n",
    "\tCOUNT(1) AS NumberOfInvoices,\n",
    "\tCAST(100.0 * SUM(t0.IsType0) / COUNT(1) AS DECIMAL(5,2)) AS PercentType0\n",
    "FROM records r\n",
    "\tCROSS APPLY(SELECT CASE WHEN r.ActualAmount % 10000 = 0 THEN 1 ELSE 0 END AS IsType4) t4\n",
    "\tCROSS APPLY(SELECT CASE WHEN t4.IsType4 = 0 AND r.ActualAmount % 1000 = 0 THEN 1 ELSE 0 END AS IsType3) t3\n",
    "\tCROSS APPLY(SELECT CASE WHEN t3.IsType3 = 0 AND r.ActualAmount % 100 = 0 THEN 1 ELSE 0 END AS IsType2) t2\n",
    "\tCROSS APPLY(SELECT CASE WHEN t2.IsType2 = 0 AND r.ActualAmount % 10 = 0 THEN 1 ELSE 0 END AS IsType1) t1\n",
    "\tCROSS APPLY(SELECT CASE WHEN t4.IsType4 = 0 AND t3.IsType3 = 0 AND t2.IsType2 = 0 AND t1.IsType1 = 0 THEN 1 ELSE 0 END AS IsType0) t0;"
   ]
  },
  {
   "cell_type": "markdown",
   "metadata": {},
   "source": [
    "The percentage of type 0 records is roughly 15%.  If this were a true uniform distribution, we'd expect 10%.\n",
    "\n",
    "Also interesting is the type 4, where we'd expect 1/10^4 = 1/10,000 = 0.01% if digit endings were strictly uniform.  0.01% of 77,578 is 7-8 transactions.  The fact that we have 273 of these might seem a bit weird, and we can investigate further."
   ]
  },
  {
   "cell_type": "code",
   "execution_count": null,
   "metadata": {
    "collapsed": false
   },
   "outputs": [],
   "source": [
    "%%sql\n",
    "SELECT\n",
    "\tt.VendorName,\n",
    "\tROUND(t.ActualAmount, 0) AS ActualAmount\n",
    "FROM Wake.WakeTransaction t\n",
    "WHERE\n",
    "\tt.ActualAmount > 0\n",
    "\tAND t.ActualAmount % 10000 = 0\n",
    "ORDER BY\n",
    "\tt.VendorName,\n",
    "    ActualAmount;"
   ]
  },
  {
   "cell_type": "markdown",
   "metadata": {
    "collapsed": true
   },
   "source": [
    "Prior Year Expense pops up pretty regularly.  We also see a few vendors who have received several big-round-number payouts.\n",
    "\n",
    "For a data set like this, where we are looking at county government payments, we can expect some big round numbers based on the way grant-writing works."
   ]
  },
  {
   "cell_type": "code",
   "execution_count": null,
   "metadata": {
    "collapsed": true
   },
   "outputs": [],
   "source": []
  }
 ],
 "metadata": {
  "kernelspec": {
   "display_name": "Python 3",
   "language": "python",
   "name": "python3"
  },
  "language_info": {
   "codemirror_mode": {
    "name": "ipython",
    "version": 3
   },
   "file_extension": ".py",
   "mimetype": "text/x-python",
   "name": "python",
   "nbconvert_exporter": "python",
   "pygments_lexer": "ipython3",
   "version": "3.6.0"
  }
 },
 "nbformat": 4,
 "nbformat_minor": 2
}
