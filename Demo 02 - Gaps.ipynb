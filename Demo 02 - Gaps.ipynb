{
 "cells": [
  {
   "cell_type": "markdown",
   "metadata": {},
   "source": [
    "# Demo 02 - Gaps"
   ]
  },
  {
   "cell_type": "markdown",
   "metadata": {},
   "source": [
    "In this demo, we will look at gaps in data.  Looking at gaps in data is important because it shows us where we might be missing individual data points.  If this is a set which should be complete, such as check numbers or invoice numbers, it might give you a telling indicator that there might be an issue.\n",
    "\n",
    "For this demo, we will use pyodbc and ipython-sql.  pyodbc is an ODBC driver for Python, whereas ipython-sql allows you to use \"sql magic\" in Jupyter.  You can just as easily run the queries in SQL Server Management Studio if you prefer.\n",
    "\n",
    "First, let's use pip to install pyodbc and ipython-sql and prep them for load."
   ]
  },
  {
   "cell_type": "code",
   "execution_count": 1,
   "metadata": {},
   "outputs": [
    {
     "name": "stdout",
     "output_type": "stream",
     "text": [
      "Requirement already satisfied: pyodbc in c:\\program files (x86)\\microsoft visual studio\\shared\\anaconda3_64\\lib\\site-packages (4.0.23)\n"
     ]
    }
   ],
   "source": [
    "!pip install pyodbc"
   ]
  },
  {
   "cell_type": "markdown",
   "metadata": {},
   "source": [
    "To load pyodbc, we can use the **import** statement."
   ]
  },
  {
   "cell_type": "code",
   "execution_count": 2,
   "metadata": {},
   "outputs": [],
   "source": [
    "import pyodbc"
   ]
  },
  {
   "cell_type": "code",
   "execution_count": 3,
   "metadata": {
    "scrolled": true
   },
   "outputs": [
    {
     "name": "stdout",
     "output_type": "stream",
     "text": [
      "Requirement already satisfied: ipython-sql in c:\\program files (x86)\\microsoft visual studio\\shared\\anaconda3_64\\lib\\site-packages (0.3.9)\n",
      "Requirement already satisfied: ipython>=1.0 in c:\\program files (x86)\\microsoft visual studio\\shared\\anaconda3_64\\lib\\site-packages (from ipython-sql) (6.4.0)\n",
      "Requirement already satisfied: prettytable in c:\\program files (x86)\\microsoft visual studio\\shared\\anaconda3_64\\lib\\site-packages (from ipython-sql) (0.7.2)\n",
      "Requirement already satisfied: ipython-genutils>=0.1.0 in c:\\program files (x86)\\microsoft visual studio\\shared\\anaconda3_64\\lib\\site-packages (from ipython-sql) (0.2.0)\n",
      "Requirement already satisfied: sqlparse in c:\\program files (x86)\\microsoft visual studio\\shared\\anaconda3_64\\lib\\site-packages (from ipython-sql) (0.3.0)\n",
      "Requirement already satisfied: sqlalchemy>=0.6.7 in c:\\program files (x86)\\microsoft visual studio\\shared\\anaconda3_64\\lib\\site-packages (from ipython-sql) (1.2.7)\n",
      "Requirement already satisfied: six in c:\\program files (x86)\\microsoft visual studio\\shared\\anaconda3_64\\lib\\site-packages (from ipython-sql) (1.12.0)\n",
      "Requirement already satisfied: colorama; sys_platform == \"win32\" in c:\\program files (x86)\\microsoft visual studio\\shared\\anaconda3_64\\lib\\site-packages (from ipython>=1.0->ipython-sql) (0.3.9)\n",
      "Requirement already satisfied: pickleshare in c:\\program files (x86)\\microsoft visual studio\\shared\\anaconda3_64\\lib\\site-packages (from ipython>=1.0->ipython-sql) (0.7.4)\n",
      "Requirement already satisfied: simplegeneric>0.8 in c:\\program files (x86)\\microsoft visual studio\\shared\\anaconda3_64\\lib\\site-packages (from ipython>=1.0->ipython-sql) (0.8.1)\n",
      "Requirement already satisfied: decorator in c:\\program files (x86)\\microsoft visual studio\\shared\\anaconda3_64\\lib\\site-packages (from ipython>=1.0->ipython-sql) (4.3.0)\n",
      "Requirement already satisfied: setuptools>=18.5 in c:\\program files (x86)\\microsoft visual studio\\shared\\anaconda3_64\\lib\\site-packages (from ipython>=1.0->ipython-sql) (39.1.0)\n",
      "Requirement already satisfied: traitlets>=4.2 in c:\\program files (x86)\\microsoft visual studio\\shared\\anaconda3_64\\lib\\site-packages (from ipython>=1.0->ipython-sql) (4.3.2)\n",
      "Requirement already satisfied: pygments in c:\\program files (x86)\\microsoft visual studio\\shared\\anaconda3_64\\lib\\site-packages (from ipython>=1.0->ipython-sql) (2.2.0)\n",
      "Requirement already satisfied: prompt-toolkit<2.0.0,>=1.0.15 in c:\\program files (x86)\\microsoft visual studio\\shared\\anaconda3_64\\lib\\site-packages (from ipython>=1.0->ipython-sql) (1.0.15)\n",
      "Requirement already satisfied: backcall in c:\\program files (x86)\\microsoft visual studio\\shared\\anaconda3_64\\lib\\site-packages (from ipython>=1.0->ipython-sql) (0.1.0)\n",
      "Requirement already satisfied: jedi>=0.10 in c:\\program files (x86)\\microsoft visual studio\\shared\\anaconda3_64\\lib\\site-packages (from ipython>=1.0->ipython-sql) (0.12.0)\n",
      "Requirement already satisfied: wcwidth in c:\\program files (x86)\\microsoft visual studio\\shared\\anaconda3_64\\lib\\site-packages (from prompt-toolkit<2.0.0,>=1.0.15->ipython>=1.0->ipython-sql) (0.1.7)\n",
      "Requirement already satisfied: parso>=0.2.0 in c:\\program files (x86)\\microsoft visual studio\\shared\\anaconda3_64\\lib\\site-packages (from jedi>=0.10->ipython>=1.0->ipython-sql) (0.2.0)\n"
     ]
    }
   ],
   "source": [
    "!pip install ipython-sql"
   ]
  },
  {
   "cell_type": "markdown",
   "metadata": {},
   "source": [
    "To use SQL magic, we will need to run the following load command."
   ]
  },
  {
   "cell_type": "code",
   "execution_count": 4,
   "metadata": {},
   "outputs": [],
   "source": [
    "%reload_ext sql"
   ]
  },
  {
   "cell_type": "markdown",
   "metadata": {},
   "source": [
    "From here on out, I can use the *%sql* command to run a single-line SQL command.  I can also use the *%%sql* command to run multi-line SQL commands.\n",
    "\n",
    "The first thing I want to connect to the OutlierDetection database.  I have already created an ODBC connection pointing to localhost.OutlierDetection.  You do not need to use a pre-defined ODBC connection, but when connecting to SQL Server, I've found it easier to use a pre-defined connection."
   ]
  },
  {
   "cell_type": "code",
   "execution_count": 5,
   "metadata": {},
   "outputs": [
    {
     "data": {
      "text/plain": [
       "'Connected: @None'"
      ]
     },
     "execution_count": 5,
     "metadata": {},
     "output_type": "execute_result"
    }
   ],
   "source": [
    "%sql mssql+pyodbc://ForensicAccounting"
   ]
  },
  {
   "cell_type": "markdown",
   "metadata": {},
   "source": [
    "In our data, invoice number is the key value we use for tracking money.  This number should never have any gaps in it."
   ]
  },
  {
   "cell_type": "markdown",
   "metadata": {},
   "source": [
    "To test this, we will run a query which looks for gaps in the data.  Note that this uses syntax which Microsoft introduced in SQL Server 2012.  If you are using SQL Server 2008 R2 or earlier, you would need to use a different set of syntax to solve the gaps and islands problem."
   ]
  },
  {
   "cell_type": "code",
   "execution_count": 6,
   "metadata": {},
   "outputs": [
    {
     "name": "stdout",
     "output_type": "stream",
     "text": [
      " * mssql+pyodbc://ForensicAccounting\n",
      "Done.\n"
     ]
    },
    {
     "data": {
      "text/html": [
       "<table>\n",
       "    <tr>\n",
       "        <th>rangestart</th>\n",
       "        <th>rangeend</th>\n",
       "    </tr>\n",
       "    <tr>\n",
       "        <td>6</td>\n",
       "        <td>7</td>\n",
       "    </tr>\n",
       "    <tr>\n",
       "        <td>14</td>\n",
       "        <td>14</td>\n",
       "    </tr>\n",
       "    <tr>\n",
       "        <td>20</td>\n",
       "        <td>20</td>\n",
       "    </tr>\n",
       "    <tr>\n",
       "        <td>199</td>\n",
       "        <td>202</td>\n",
       "    </tr>\n",
       "    <tr>\n",
       "        <td>339</td>\n",
       "        <td>341</td>\n",
       "    </tr>\n",
       "</table>"
      ],
      "text/plain": [
       "[(6, 7), (14, 14), (20, 20), (199, 202), (339, 341)]"
      ]
     },
     "execution_count": 6,
     "metadata": {},
     "output_type": "execute_result"
    }
   ],
   "source": [
    "%%sql WITH C AS\n",
    "(\n",
    "\tSELECT\n",
    "\t\tli.LineItemID AS CurrentLineItemID,\n",
    "\t\tLEAD(li.LineItemID) OVER (ORDER BY li.LineItemID) AS NextLineItemID\n",
    "\tFROM dbo.LineItem li\n",
    ")\n",
    "SELECT\n",
    "\tCurrentLineItemID + 1 AS rangestart,\n",
    "\tNextLineItemID- 1 AS rangeend\n",
    "FROM C\n",
    "WHERE\n",
    "\tNextLineItemID - CurrentLineItemID > 1;\n"
   ]
  },
  {
   "cell_type": "markdown",
   "metadata": {},
   "source": [
    "As an alternative to gap analysis, you can join to a tally (or numbers) table and look for cases in which there is no matching result in the invoices table.\n",
    "\n",
    "This query first builds up a tally table, which is extremely fast for values up to around 10,000 records.  After about 10,000 tables, it might make more sense to build a tally table and store it on disk."
   ]
  },
  {
   "cell_type": "code",
   "execution_count": 7,
   "metadata": {},
   "outputs": [
    {
     "name": "stdout",
     "output_type": "stream",
     "text": [
      " * mssql+pyodbc://ForensicAccounting\n",
      "Done.\n"
     ]
    },
    {
     "data": {
      "text/html": [
       "<table>\n",
       "    <tr>\n",
       "        <th>N</th>\n",
       "    </tr>\n",
       "    <tr>\n",
       "        <td>6</td>\n",
       "    </tr>\n",
       "    <tr>\n",
       "        <td>7</td>\n",
       "    </tr>\n",
       "    <tr>\n",
       "        <td>14</td>\n",
       "    </tr>\n",
       "    <tr>\n",
       "        <td>20</td>\n",
       "    </tr>\n",
       "    <tr>\n",
       "        <td>199</td>\n",
       "    </tr>\n",
       "    <tr>\n",
       "        <td>200</td>\n",
       "    </tr>\n",
       "    <tr>\n",
       "        <td>201</td>\n",
       "    </tr>\n",
       "    <tr>\n",
       "        <td>202</td>\n",
       "    </tr>\n",
       "    <tr>\n",
       "        <td>339</td>\n",
       "    </tr>\n",
       "    <tr>\n",
       "        <td>340</td>\n",
       "    </tr>\n",
       "    <tr>\n",
       "        <td>341</td>\n",
       "    </tr>\n",
       "</table>"
      ],
      "text/plain": [
       "[(6,),\n",
       " (7,),\n",
       " (14,),\n",
       " (20,),\n",
       " (199,),\n",
       " (200,),\n",
       " (201,),\n",
       " (202,),\n",
       " (339,),\n",
       " (340,),\n",
       " (341,)]"
      ]
     },
     "execution_count": 7,
     "metadata": {},
     "output_type": "execute_result"
    }
   ],
   "source": [
    "%%sql WITH\n",
    "\tt1 AS (SELECT 1 N UNION ALL SELECT 1 N),\n",
    "\tt2 AS (SELECT 1 N FROM t1 x, t1 y),\n",
    "\tt3 AS (SELECT 1 N FROM t2 x, t2 y),\n",
    "\tt4 AS (SELECT 1 N FROM t3 x, t3 y),\n",
    "\tTally AS (SELECT ROW_NUMBER() OVER (ORDER BY (SELECT NULL)) N FROM t4 x, t4 y)\n",
    "SELECT\n",
    "\tt.N\n",
    "FROM Tally t\n",
    "\tLEFT OUTER JOIN dbo.LineItem li\n",
    "\t\tON t.N = li.LineItemID\n",
    "WHERE\n",
    "\tli.LineItemID IS NULL\n",
    "\tAND t.N >= (SELECT MIN(LineItemID) FROM dbo.LineItem imin)\n",
    "\tAND t.N <= (SELECT MAX(LineItemID) FROM dbo.LineItem imax)\n",
    "ORDER BY\n",
    "\tT.N;"
   ]
  },
  {
   "cell_type": "code",
   "execution_count": null,
   "metadata": {},
   "outputs": [],
   "source": []
  }
 ],
 "metadata": {
  "kernelspec": {
   "display_name": "Python 3",
   "language": "python",
   "name": "python3"
  },
  "language_info": {
   "codemirror_mode": {
    "name": "ipython",
    "version": 3
   },
   "file_extension": ".py",
   "mimetype": "text/x-python",
   "name": "python",
   "nbconvert_exporter": "python",
   "pygments_lexer": "ipython3",
   "version": "3.6.5"
  }
 },
 "nbformat": 4,
 "nbformat_minor": 2
}
